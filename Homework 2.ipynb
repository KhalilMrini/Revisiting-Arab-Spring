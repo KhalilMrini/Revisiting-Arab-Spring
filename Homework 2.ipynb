{
 "cells": [
  {
   "cell_type": "markdown",
   "metadata": {},
   "source": [
    "# Table of Contents\n",
    "\n",
    "### [Task 1. Scraping Top Universities](#1)\n",
    "- [1.1. Scraping the 200 top elements from Top Universities](#11)\n",
    "\n",
    "- [1.2. Sorting by ratio between faculty members and students](#12)\n",
    "\n",
    "- [1.3. Sorting by ratio of international students](#13)\n",
    "\n",
    "- [1.4. Sorting while grouped by country](#14)\n",
    "\n",
    "- [1.5. Sorting while grouped by region](#15)\n",
    "\n",
    "### [Task 2. Scraping Times Higher Education](#2)\n",
    "- [2.1. Scraping the 200 top elements from Times Higher Education](#21)\n",
    "\n",
    "- [2.2. Sorting by ratio between faculty members and students](#22)\n",
    "\n",
    "- [2.3. Sorting by ratio of international students](#23)\n",
    "\n",
    "- [2.4. Sorting while grouped by country](#24)\n",
    "\n",
    "- [2.5. Sorting while grouped by region](#25)\n",
    "\n",
    "### [Task 3. Merging Both Dataframes](#3)"
   ]
  },
  {
   "cell_type": "markdown",
   "metadata": {},
   "source": [
    "## Task 1. Scraping Top Universities <a class=\"anchor\" id=\"1\"></a>\n",
    "\n",
    "### Assignment Instructions\n",
    "Obtain the 200 top-ranking universities in www.topuniversities.com ([ranking 2018](https://www.topuniversities.com/university-rankings/world-university-rankings/2018)). In particular, extract the following fields for each university: name, rank, country and region, number of faculty members (international and total) and number of students (international and total). Some information is not available in the main list and you have to find them in the [details page](https://www.topuniversities.com/universities/ecole-polytechnique-fédérale-de-lausanne-epfl).\n",
    "Store the resulting dataset in a pandas DataFrame and answer the following questions:\n",
    "- Which are the best universities in term of: (a) ratio between faculty members and students, (b) ratio of international students?\n",
    "- Answer the previous question aggregating the data by (c) country and (d) region.\n",
    "\n",
    "Plot your data using bar charts and describe briefly what you observed.\n",
    "\n",
    "### 1.1. Scraping the 200 top elements from Top Universities <a class=\"anchor\" id=\"11\"></a>\n",
    "\n",
    "We import some libraries."
   ]
  },
  {
   "cell_type": "code",
   "execution_count": 1,
   "metadata": {},
   "outputs": [
    {
     "name": "stdout",
     "output_type": "stream",
     "text": [
      "Populating the interactive namespace from numpy and matplotlib\n"
     ]
    }
   ],
   "source": [
    "import requests\n",
    "from bs4 import BeautifulSoup\n",
    "import numpy as np\n",
    "import pandas as pd\n",
    "from pandas.io.json import json_normalize\n",
    "from matplotlib import pyplot as plt\n",
    "%pylab inline"
   ]
  },
  {
   "cell_type": "markdown",
   "metadata": {},
   "source": [
    "We establish constants we need for scraping. We found the *json* URL by using Postman on the URL given in the instructions."
   ]
  },
  {
   "cell_type": "code",
   "execution_count": 2,
   "metadata": {},
   "outputs": [],
   "source": [
    "TOP_UNIVERSITIES_URL = 'https://www.topuniversities.com'\n",
    "TOP_UNIVERSITIES_JSON_URL = TOP_UNIVERSITIES_URL + '/sites/default/files/qs-rankings-data/357051.txt'\n",
    "TOP_UNIVERSITIES_JSON_COLUMNS = ['title', 'rank_display', 'country', 'region']\n",
    "TOP_UNIVERSITIES_HTML_COLUMNS = ['total faculty', 'inter faculty', 'total student', 'total inter']\n",
    "TOP_UNIVERSITIES_NEW_COLUMNS = ['Name', 'Rank', 'Country', 'Region', 'Faculty', 'International Faculty', 'Students', 'International Students']"
   ]
  },
  {
   "cell_type": "markdown",
   "metadata": {},
   "source": [
    "We will use the following helper functions for scraping:\n",
    "- `get_json` fetches the *json* data for a given URL;\n",
    "- `get_html_beautiful_soup` gets the `BeautifulSoup` associated with a URL;\n",
    "- `get_number` gets the `int` associated with a given class name in a given `BeautifulSoup` instance."
   ]
  },
  {
   "cell_type": "code",
   "execution_count": 3,
   "metadata": {},
   "outputs": [],
   "source": [
    "def get_json(url):\n",
    "    \"\"\"\n",
    "    Returns the json associated with given url, or an empty dict if an error arises.\n",
    "    :param url: string, url target\n",
    "    :return: dict\n",
    "    \"\"\"\n",
    "    try:\n",
    "        return requests.get(url).json()\n",
    "    except:\n",
    "        return {}\n",
    "\n",
    "def get_html_beautiful_soup(row, url_prefix):\n",
    "    \"\"\"\n",
    "    Returns BeautifulSoup of the target URL, or None if an error arises.\n",
    "    :param row: Pandas Series, corresponding to a row of a DataFrame.\n",
    "    :param url_prefix: string, corresponding to URL prefix\n",
    "    :return: BeautifulSoup, or None\n",
    "    \"\"\"\n",
    "    try:\n",
    "        return BeautifulSoup(requests.get(url_prefix + row['url']).text, 'html.parser')\n",
    "    except:\n",
    "        return None\n",
    "\n",
    "def get_number(soup, class_name):\n",
    "    \"\"\"\n",
    "    Returns number associated with the given class name in the soup passed as argument, or NaN if an error arises.\n",
    "    :param soup: BeautifulSoup, extracted beforehand\n",
    "    :param class_name: string, targeted class name\n",
    "    :return: int, or NaN\n",
    "    \"\"\"\n",
    "    try:\n",
    "        number_text = soup.find('div', class_= class_name).find('div', class_='number').text\n",
    "        return int(''.join([char for char in number_text if char.isdigit()]))\n",
    "    except:\n",
    "        return np.NaN"
   ]
  },
  {
   "cell_type": "markdown",
   "metadata": {},
   "source": [
    "We use the following function to scrape universities."
   ]
  },
  {
   "cell_type": "code",
   "execution_count": 4,
   "metadata": {},
   "outputs": [],
   "source": [
    "def scrape_universities(json_url, current_columns, new_columns, extra_columns=[], extra_url='', max_universities=200):\n",
    "    \"\"\"\n",
    "    Returns a DataFrame instance containing all university data.\n",
    "    :param json_url: string, url containing json file\n",
    "    :param current_columns: list of strings, containing columns to keep\n",
    "    :param new_columns: list of strings, same length as current_columns, to rename the DataFrame's columns\n",
    "    :param extra_columns: list of strings, extra columns to get from specific university pages\n",
    "    :param extra_url: string, url prefix to get to specific university pages\n",
    "    :param max_universities: int, number of top universities to get, default is 200\n",
    "    :return: DataFrame\n",
    "    \"\"\"\n",
    "    university_df = json_normalize(get_json(json_url)['data'][:max_universities])\n",
    "    if extra_columns:\n",
    "        beautiful_soups = university_df.apply(lambda row: get_html_beautiful_soup(row, extra_url), axis=1)\n",
    "        for column in extra_columns:\n",
    "            university_df[column] = beautiful_soups.apply(lambda soup: get_number(soup, column))\n",
    "    university_df = university_df[current_columns].rename(index=str, columns=dict(zip(current_columns, new_columns)))\n",
    "    return university_df"
   ]
  },
  {
   "cell_type": "markdown",
   "metadata": {},
   "source": [
    "We scrape the top 200 universities."
   ]
  },
  {
   "cell_type": "code",
   "execution_count": null,
   "metadata": {},
   "outputs": [],
   "source": [
    "top_universities_df = scrape_universities(TOP_UNIVERSITIES_JSON_URL,\n",
    "                                          TOP_UNIVERSITIES_JSON_COLUMNS + TOP_UNIVERSITIES_HTML_COLUMNS,\n",
    "                                          TOP_UNIVERSITIES_NEW_COLUMNS, \n",
    "                                          extra_columns=TOP_UNIVERSITIES_HTML_COLUMNS,\n",
    "                                          extra_url=TOP_UNIVERSITIES_URL)\n",
    "top_universities_df.head()"
   ]
  },
  {
   "cell_type": "markdown",
   "metadata": {},
   "source": [
    "### 1.2. Sorting by ratio between faculty members and students <a class=\"anchor\" id=\"12\"></a>\n",
    "\n",
    "We establish a sorting helper function, called `insert_column_and_sort`, to insert and compute a new column and then sort the values by this new column."
   ]
  },
  {
   "cell_type": "code",
   "execution_count": null,
   "metadata": {},
   "outputs": [],
   "source": [
    "def insert_column_and_sort(dataframe, columns, head_elements=5):\n",
    "    \"\"\"\n",
    "    Computes new column based on the division of one column by another one and returns it.\n",
    "    :param dataframe: DataFrame, targeted instance\n",
    "    :param columns: list of 3 strings and 2 booleans, containing names of the new column, \n",
    "                    numerator column and denominator column, and 2 booleans determining\n",
    "                    if denominator column includes numerator one, and order of sorting\n",
    "    :param head_elements: int, number of head elements to be shown\n",
    "    :return: DataFrame\n",
    "    \"\"\"\n",
    "    df_copy = dataframe.copy()\n",
    "    new_column, numerator, denominator, denominator_includes_numerator, ascending = columns\n",
    "    numerator_df = dataframe[numerator]\n",
    "    denominator_df = dataframe[denominator]\n",
    "    if denominator_includes_numerator:\n",
    "        denominator_df = denominator_df - numerator_df\n",
    "    df_copy[new_column] = numerator_df / denominator_df\n",
    "    return df_copy.sort_values(new_column, ascending=ascending).head(head_elements)"
   ]
  },
  {
   "cell_type": "markdown",
   "metadata": {},
   "source": [
    "We introduce a new column for the ratio between faculty members and students, such that each value is the average number of students per faculty member. Then, we sort the top universities scraped by this ratio in ascending order."
   ]
  },
  {
   "cell_type": "code",
   "execution_count": null,
   "metadata": {
    "scrolled": true
   },
   "outputs": [],
   "source": [
    "STUDENT_STAFF_RATIO = ['Student-Staff Ratio', 'Students', 'Faculty', False, True]\n",
    "insert_column_and_sort(top_universities_df, STUDENT_STAFF_RATIO)"
   ]
  },
  {
   "cell_type": "markdown",
   "metadata": {},
   "source": [
    "### 1.3. Sorting by ratio of international students <a class=\"anchor\" id=\"13\"></a>\n",
    "\n",
    "Likewise, we introduce a new column for the ratio of international students, such that each value is the average number of international students per non-international student. Then, we sort the top universities scraped by this ratio in **descending** order."
   ]
  },
  {
   "cell_type": "code",
   "execution_count": null,
   "metadata": {
    "scrolled": true
   },
   "outputs": [],
   "source": [
    "INTL_STUDENT_RATIO = ['International Student Ratio', 'International Students', 'Students', True, False]\n",
    "insert_column_and_sort(top_universities_df, INTL_STUDENT_RATIO)"
   ]
  },
  {
   "cell_type": "markdown",
   "metadata": {},
   "source": [
    "### 1.4. Sorting while grouped by country <a class=\"anchor\" id=\"14\"></a>\n",
    "\n",
    "We make a short helper function, called `group_insert_sort`, to group by a column, insert another one and sort by its values. It then shows the results in a bar chart."
   ]
  },
  {
   "cell_type": "code",
   "execution_count": null,
   "metadata": {},
   "outputs": [],
   "source": [
    "def group_insert_sort(dataframe, group_by, columns):\n",
    "    \"\"\"\n",
    "    Computes new column based on the division of one column by another one and returns it.\n",
    "    Then, plots t\n",
    "    :param dataframe: DataFrame, targeted instance\n",
    "    :param group_by: string, name of the column by which dataframe is grouped\n",
    "    :param columns: list of 3 strings and 2 booleans, containing names of the new column, \n",
    "                    numerator column and denominator column, and 2 booleans determining\n",
    "                    if denominator column includes numerator one, and order of sorting\n",
    "    :return: bar chart\n",
    "    \"\"\"\n",
    "    return insert_column_and_sort(dataframe.groupby(group_by).mean(), columns, head_elements=None)[[columns[0]]].plot.bar()"
   ]
  },
  {
   "cell_type": "markdown",
   "metadata": {},
   "source": [
    "The top universities by country and by student-staff ratio are the following. We observe that Russia has distinctly the lowest number of students per staff, as it is the only country dipping below 5."
   ]
  },
  {
   "cell_type": "code",
   "execution_count": null,
   "metadata": {},
   "outputs": [],
   "source": [
    "group_insert_sort(top_universities_df, 'Country', STUDENT_STAFF_RATIO)"
   ]
  },
  {
   "cell_type": "markdown",
   "metadata": {},
   "source": [
    "The top universities by country and by international student ratio are the following. We observe that Australia and the UK stand out as having the highest international outlook, followed closely by Hong Kong, Austria and Switzerland."
   ]
  },
  {
   "cell_type": "code",
   "execution_count": null,
   "metadata": {},
   "outputs": [],
   "source": [
    "group_insert_sort(top_universities_df, 'Country', INTL_STUDENT_RATIO)"
   ]
  },
  {
   "cell_type": "markdown",
   "metadata": {},
   "source": [
    "### 1.5. Sorting while grouped by region <a class=\"anchor\" id=\"15\"></a>\n",
    "\n",
    "The top universities by region and by student-staff ratio are the following. We observe that Asia is the only continent which student-staff ratio is below 8."
   ]
  },
  {
   "cell_type": "code",
   "execution_count": null,
   "metadata": {},
   "outputs": [],
   "source": [
    "group_insert_sort(top_universities_df, 'Region', STUDENT_STAFF_RATIO)"
   ]
  },
  {
   "cell_type": "markdown",
   "metadata": {},
   "source": [
    "The top universities by region and by international student ratio are the following. We observe that Oceania has on average more than 50% of international students in its student body, exceeding by more than 20% the other continents."
   ]
  },
  {
   "cell_type": "code",
   "execution_count": null,
   "metadata": {
    "scrolled": false
   },
   "outputs": [],
   "source": [
    "group_insert_sort(top_universities_df, 'Region', INTL_STUDENT_RATIO)"
   ]
  },
  {
   "cell_type": "markdown",
   "metadata": {},
   "source": [
    "## Task 2. Scraping Times Higher Education <a class=\"anchor\" id=\"2\"></a>\n",
    "\n",
    "### Assignment Instructions\n",
    "\n",
    "Obtain the 200 top-ranking universities in www.timeshighereducation.com ([ranking 2018](http://timeshighereducation.com/world-university-rankings/2018/world-ranking)). Repeat the analysis of the previous point and discuss briefly what you observed.\n",
    "\n",
    "### 2.1. Scraping the top 200 elements from Times Higher Education <a class=\"anchor\" id=\"21\"></a>\n",
    "\n",
    "We establish the following constants."
   ]
  },
  {
   "cell_type": "code",
   "execution_count": null,
   "metadata": {},
   "outputs": [],
   "source": [
    "TIMES_HIGHER_ED_JSON_URL = 'https://www.timeshighereducation.com/sites/default/files/the_data_rankings/world_university_rankings_2018_limit0_369a9045a203e176392b9fb8f8c1cb2a.json'\n",
    "TIMES_HIGHER_ED_JSON_COLUMNS = ['name', 'rank', 'location', 'stats_number_students', 'stats_student_staff_ratio', 'stats_pc_intl_students', 'stats_female_male_ratio']\n",
    "TIMES_HIGHER_ED_NEW_JSON_COLUMNS = ['Name', 'Rank', 'Country', 'Students', 'Student-Staff Ratio', 'Percentage of International Students', 'Female-Male Ratio']"
   ]
  },
  {
   "cell_type": "markdown",
   "metadata": {},
   "source": [
    "Then we scrape the universities from Times Higher Education."
   ]
  },
  {
   "cell_type": "code",
   "execution_count": null,
   "metadata": {
    "scrolled": false
   },
   "outputs": [],
   "source": [
    "times_higher_ed_df = scrape_universities(TIMES_HIGHER_ED_JSON_URL, \n",
    "                                         TIMES_HIGHER_ED_JSON_COLUMNS, \n",
    "                                         TIMES_HIGHER_ED_NEW_JSON_COLUMNS)\n",
    "times_higher_ed_df.head()"
   ]
  },
  {
   "cell_type": "markdown",
   "metadata": {},
   "source": [
    "### 2.2. Sorting by ratio between faculty members and students <a class=\"anchor\" id=\"22\"></a>\n",
    "\n",
    "There is already a *Student-Staff Ratio* column. We just need to make the values of that column `float` elements and then sort the table by it."
   ]
  },
  {
   "cell_type": "code",
   "execution_count": null,
   "metadata": {
    "scrolled": true
   },
   "outputs": [],
   "source": [
    "STUDENT_STAFF = \"Student-Staff Ratio\"\n",
    "times_higher_ed_df[STUDENT_STAFF] = times_higher_ed_df[STUDENT_STAFF].apply(float)\n",
    "times_higher_ed_df.sort_values(STUDENT_STAFF).head()"
   ]
  },
  {
   "cell_type": "markdown",
   "metadata": {},
   "source": [
    "### 2.3. Sorting by ratio of international students <a class=\"anchor\" id=\"23\"></a>\n",
    "\n",
    "There's already a *Percentage of International Students* column and we only need to make its values `float` instances. Ranking by the percentage of international students is equivalent to ranking by their ratio."
   ]
  },
  {
   "cell_type": "code",
   "execution_count": null,
   "metadata": {
    "scrolled": true
   },
   "outputs": [],
   "source": [
    "INTL_PERCENTAGE = \"Percentage of International Students\"\n",
    "times_higher_ed_df[INTL_PERCENTAGE] = times_higher_ed_df[INTL_PERCENTAGE].apply(lambda x: float(x.strip('%'))/100)\n",
    "times_higher_ed_df.sort_values(INTL_PERCENTAGE, ascending=False).head()"
   ]
  },
  {
   "cell_type": "markdown",
   "metadata": {},
   "source": [
    "### 2.4. Sorting while grouped by country <a class=\"anchor\" id=\"24\"></a>\n",
    "\n",
    "We can group by country and then perform the same sorting as above, as the values are now `float` instances.\n",
    "\n",
    "The following is the sorting by ratio between faculty members and students, grouped by country. We observe that there is some consistency in ranking between both websites, as Russia and Denmark remain in the top five, but numbers are different from the *Top Universities* website."
   ]
  },
  {
   "cell_type": "code",
   "execution_count": null,
   "metadata": {},
   "outputs": [],
   "source": [
    "grouped_by_country = times_higher_ed_df.groupby('Country').mean()\n",
    "grouped_by_country.sort_values(STUDENT_STAFF)[[STUDENT_STAFF]].plot.bar()"
   ]
  },
  {
   "cell_type": "markdown",
   "metadata": {},
   "source": [
    "The following is the sorting by percentage of international students, grouped by country. We notice that Luxembourg is very distinctly international, but this information is new as it does not appear in the *Top Universities* ranking."
   ]
  },
  {
   "cell_type": "code",
   "execution_count": null,
   "metadata": {
    "scrolled": false
   },
   "outputs": [],
   "source": [
    "grouped_by_country.sort_values(INTL_PERCENTAGE, ascending=False)[[INTL_PERCENTAGE]].plot.bar()"
   ]
  },
  {
   "cell_type": "markdown",
   "metadata": {},
   "source": [
    "### 2.5. Sorting while grouped by region <a class=\"anchor\" id=\"25\"></a>\n",
    "\n",
    "We can group by region, however we must first associate the countries with their respective regions."
   ]
  },
  {
   "cell_type": "code",
   "execution_count": null,
   "metadata": {},
   "outputs": [],
   "source": [
    "merged_for_region = pd.merge(times_higher_ed_df, top_universities_df[['Country', 'Region']].drop_duplicates(), on=\"Country\")\n",
    "grouped_by_region = merged_for_region.groupby('Region').mean()"
   ]
  },
  {
   "cell_type": "markdown",
   "metadata": {},
   "source": [
    "The following is the sorting by ratio between faculty members and students, grouped by region. We notice this time that numbers have changed from the other ranking, as Africa comes up with the least number of students per staff."
   ]
  },
  {
   "cell_type": "code",
   "execution_count": null,
   "metadata": {},
   "outputs": [],
   "source": [
    "grouped_by_region.sort_values(STUDENT_STAFF)[[STUDENT_STAFF]].plot.bar()"
   ]
  },
  {
   "cell_type": "markdown",
   "metadata": {},
   "source": [
    "The following is the sorting by percentage of international students, grouped by region. This ranking confirms Oceania's top place in international students."
   ]
  },
  {
   "cell_type": "code",
   "execution_count": null,
   "metadata": {},
   "outputs": [],
   "source": [
    "grouped_by_region.sort_values(INTL_PERCENTAGE, ascending=False)[[INTL_PERCENTAGE]].plot.bar()"
   ]
  },
  {
   "cell_type": "markdown",
   "metadata": {},
   "source": [
    "## Task 3. Merging Both Rankings <a class=\"anchor\" id=\"3\"></a>\n",
    "\n",
    "### Assignment Instructions\n",
    "\n",
    "Merge the two DataFrames created in questions 1 and 2 using university names. Match universities' names as well as you can, and explain your strategy. Keep track of the original position in both rankings.\n",
    "\n",
    "### Answers\n",
    "\n",
    "We merge both tables that we scraped in tasks 1 and 2.\n",
    "\n",
    "We first import a library and make a short function to find the closest match in names."
   ]
  },
  {
   "cell_type": "code",
   "execution_count": null,
   "metadata": {},
   "outputs": [],
   "source": [
    "import difflib\n",
    "from pprint import pprint\n",
    "import unidecode\n",
    "\n",
    "def clean_word(word):\n",
    "    word = unidecode.unidecode(word)\n",
    "    word = ''.join([char for char in word if char.isalpha() or char == ')'])\n",
    "    return word.lower()\n",
    "\n",
    "def is_all_caps(word):\n",
    "    for char in word:\n",
    "        if char.isalpha() and char.islower():\n",
    "            return False\n",
    "    return True\n",
    "\n",
    "def filter_name(name):\n",
    "    words = [clean_word(word) for word in name.split(' ') if (not is_all_caps(word) and word not in 'The of and in'.split(' ') and not (word.startswith('(') and word.endswith(')')))]\n",
    "    return words\n",
    "\n",
    "def compare_words(name1, name2):\n",
    "    words1 = filter_name(name1)\n",
    "    words2 = filter_name(name2)\n",
    "    similarity_index = 0\n",
    "    similarity = 0\n",
    "    index1 = 0\n",
    "    #print(words1, words2)\n",
    "    while index1 < len(words1) :\n",
    "        for index2 in range(similarity_index, len(words2)):\n",
    "            #print(words1[index1], words2[index2], similarity)\n",
    "            if words1[index1] == words2[index2]:\n",
    "                similarity_index = index2\n",
    "                similarity += 1\n",
    "                break\n",
    "        index1 += 1\n",
    "    min_len = min(len(set(words1)), len(set(words2)))\n",
    "    #print(similarity, min_len)\n",
    "    set_words = set(words1 + words2)\n",
    "    return similarity >= min_len\n",
    "\n",
    "def clean_name(name):\n",
    "    to_remove = 'University The'.split(' ')\n",
    "    for word in to_remove:\n",
    "        name = name.replace(word, '')\n",
    "    return name.strip()\n",
    "\n",
    "TAKEN = []\n",
    "\n",
    "def find_closest_match(name, other_names):\n",
    "    \"\"\"\n",
    "    Returns the closest match to given name in a series of other names, or just the name if nothing is found.\n",
    "    :param name: string, given name that we want to find\n",
    "    :param other_names: Pandas Series, names that the argument name will be compared to\n",
    "    :return: string\"\"\"\n",
    "    for other_name in other_names:\n",
    "        if compare_words(name, other_name) and other_name not in TAKEN:\n",
    "            TAKEN.append(other_name)\n",
    "            return other_name\n",
    "    return name"
   ]
  },
  {
   "cell_type": "code",
   "execution_count": null,
   "metadata": {},
   "outputs": [],
   "source": [
    "compare_words('Massachusetts Institute of Technology (MIT)', 'Massachusetts Institute of Technology')"
   ]
  },
  {
   "cell_type": "markdown",
   "metadata": {},
   "source": [
    "We replace the column `'Name'` in the Times Higher Education `DataFrame` by its closest match in the Top Universities one."
   ]
  },
  {
   "cell_type": "code",
   "execution_count": null,
   "metadata": {},
   "outputs": [],
   "source": [
    "NAME = 'Name'\n",
    "times_higher_ed_df[NAME] = times_higher_ed_df[NAME].apply(lambda name: find_closest_match(name, top_universities_df[NAME]))"
   ]
  },
  {
   "cell_type": "markdown",
   "metadata": {},
   "source": [
    "Then we merge both `DataFrame` instances into one."
   ]
  },
  {
   "cell_type": "code",
   "execution_count": null,
   "metadata": {},
   "outputs": [],
   "source": [
    "merged_df = pd.merge(top_universities_df, times_higher_ed_df.drop(labels='Country', axis=1), how='outer', on='Name', suffixes=(' (Top Unis)', ' (T.H.E.)'))\n",
    "merged_df.head()"
   ]
  },
  {
   "cell_type": "markdown",
   "metadata": {},
   "source": [
    "## Task 4. Correlation <a class=\"anchor\" id=\"4\"></a>\n",
    "\n",
    "See Pearson's correlation, Rank correlation, e.g., Spearman’s correlation coefficient, mutual information\n",
    "\n",
    "Check for Simpson's paradox, test some hypotheses with **p-values**."
   ]
  }
 ],
 "metadata": {
  "anaconda-cloud": {},
  "kernelspec": {
   "display_name": "Python [Root]",
   "language": "python",
   "name": "Python [Root]"
  },
  "language_info": {
   "codemirror_mode": {
    "name": "ipython",
    "version": 3
   },
   "file_extension": ".py",
   "mimetype": "text/x-python",
   "name": "python",
   "nbconvert_exporter": "python",
   "pygments_lexer": "ipython3",
   "version": "3.5.2"
  }
 },
 "nbformat": 4,
 "nbformat_minor": 2
}
