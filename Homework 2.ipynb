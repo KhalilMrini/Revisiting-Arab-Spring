{
 "cells": [
  {
   "cell_type": "markdown",
   "metadata": {},
   "source": [
    "# Table of Contents\n",
    "\n",
    "### [Task 1. Scraping Top Universities](#1)\n",
    "- [1.1. Scraping the 200 top elements from Top Universities](#11)\n",
    "\n",
    "- [1.2. Sorting by ratio between faculty members and students](#12)\n",
    "\n",
    "- [1.3. Sorting by ratio of international students](#13)\n",
    "\n",
    "- [1.4. Sorting while grouped by country](#14)\n",
    "\n",
    "- [1.5. Sorting while grouped by region](#15)\n",
    "\n",
    "### [Task 2. Scraping Times Higher Education](#2)\n",
    "- [2.1. Scraping the 200 top elements from Times Higher Education](#21)\n",
    "\n",
    "- [2.2. Sorting by ratio between faculty members and students](#22)\n",
    "\n",
    "- [2.3. Sorting by ratio of international students](#23)\n",
    "\n",
    "- [2.4. Sorting while grouped by country](#24)\n",
    "\n",
    "- [2.5. Sorting while grouped by region](#25)\n",
    "\n",
    "### [Task 3. Merging Both Dataframes](#3)\n",
    "\n",
    "### [Task 4. Exploratory Data Analysis](#4)\n",
    "- [4.1. Switzerland's International Outlook](#41)\n",
    "\n",
    "- [4.2. Does an international outlook mean both ratios of International Faculty and International Students are high?](#42)\n",
    "\n",
    "- [4.3. What other countries benefit from their international outlook?](#43)\n",
    "\n",
    "- [4.4. Which countries benefit from gender balance?](#44)\n",
    "\n",
    "### [Task 5. Finding the best university with both rankings](#5)"
   ]
  },
  {
   "cell_type": "markdown",
   "metadata": {},
   "source": [
    "## Task 1. Scraping Top Universities <a class=\"anchor\" id=\"1\"></a>\n",
    "\n",
    "### Assignment Instructions\n",
    "Obtain the 200 top-ranking universities in www.topuniversities.com ([ranking 2018](https://www.topuniversities.com/university-rankings/world-university-rankings/2018)). In particular, extract the following fields for each university: name, rank, country and region, number of faculty members (international and total) and number of students (international and total). Some information is not available in the main list and you have to find them in the [details page](https://www.topuniversities.com/universities/ecole-polytechnique-fédérale-de-lausanne-epfl).\n",
    "Store the resulting dataset in a pandas DataFrame and answer the following questions:\n",
    "- Which are the best universities in term of: (a) ratio between faculty members and students, (b) ratio of international students?\n",
    "- Answer the previous question aggregating the data by (c) country and (d) region.\n",
    "\n",
    "Plot your data using bar charts and describe briefly what you observed.\n",
    "\n",
    "### 1.1. Scraping the 200 top elements from Top Universities <a class=\"anchor\" id=\"11\"></a>\n",
    "\n",
    "We import some libraries."
   ]
  },
  {
   "cell_type": "code",
   "execution_count": 1,
   "metadata": {},
   "outputs": [
    {
     "name": "stdout",
     "output_type": "stream",
     "text": [
      "Populating the interactive namespace from numpy and matplotlib\n"
     ]
    }
   ],
   "source": [
    "import requests\n",
    "from bs4 import BeautifulSoup\n",
    "import numpy as np\n",
    "import pandas as pd\n",
    "from pandas.io.json import json_normalize\n",
    "from matplotlib import pyplot as plt\n",
    "%pylab inline"
   ]
  },
  {
   "cell_type": "markdown",
   "metadata": {},
   "source": [
    "We establish constants we need for scraping. We found the *json* URL by using Postman on the URL given in the instructions."
   ]
  },
  {
   "cell_type": "code",
   "execution_count": 2,
   "metadata": {},
   "outputs": [],
   "source": [
    "TOP_UNIVERSITIES_URL = 'https://www.topuniversities.com'\n",
    "TOP_UNIVERSITIES_JSON_URL = TOP_UNIVERSITIES_URL + '/sites/default/files/qs-rankings-data/357051.txt'\n",
    "TOP_UNIVERSITIES_JSON_COLUMNS = ['title', 'rank_display', 'country', 'region']\n",
    "TOP_UNIVERSITIES_HTML_COLUMNS = ['total faculty', 'inter faculty', 'total student', 'total inter']\n",
    "TOP_UNIVERSITIES_NEW_COLUMNS = ['Name', 'Rank', 'Country', 'Region', 'Faculty', 'International Faculty', 'Students', 'International Students']"
   ]
  },
  {
   "cell_type": "markdown",
   "metadata": {},
   "source": [
    "We will use the following helper functions for scraping:\n",
    "- `get_json` fetches the *json* data for a given URL;\n",
    "- `get_html_beautiful_soup` gets the `BeautifulSoup` associated with a URL;\n",
    "- `get_number` gets the `int` associated with a given class name in a given `BeautifulSoup` instance."
   ]
  },
  {
   "cell_type": "code",
   "execution_count": 3,
   "metadata": {},
   "outputs": [],
   "source": [
    "def get_json(url):\n",
    "    \"\"\"\n",
    "    Returns the json associated with given url, or an empty dict if an error arises.\n",
    "    :param url: string, url target\n",
    "    :return: dict\n",
    "    \"\"\"\n",
    "    try:\n",
    "        return requests.get(url).json()\n",
    "    except:\n",
    "        return {}\n",
    "\n",
    "def get_html_beautiful_soup(row, url_prefix):\n",
    "    \"\"\"\n",
    "    Returns BeautifulSoup of the target URL, or None if an error arises.\n",
    "    :param row: Pandas Series, corresponding to a row of a DataFrame.\n",
    "    :param url_prefix: string, corresponding to URL prefix\n",
    "    :return: BeautifulSoup, or None\n",
    "    \"\"\"\n",
    "    try:\n",
    "        return BeautifulSoup(requests.get(url_prefix + row['url']).text, 'html.parser')\n",
    "    except:\n",
    "        return None\n",
    "\n",
    "def get_number(soup, class_name):\n",
    "    \"\"\"\n",
    "    Returns number associated with the given class name in the soup passed as argument, or NaN if an error arises.\n",
    "    :param soup: BeautifulSoup, extracted beforehand\n",
    "    :param class_name: string, targeted class name\n",
    "    :return: int, or NaN\n",
    "    \"\"\"\n",
    "    try:\n",
    "        number_text = soup.find('div', class_= class_name).find('div', class_='number').text\n",
    "        return int(''.join([char for char in number_text if char.isdigit()]))\n",
    "    except:\n",
    "        return np.NaN"
   ]
  },
  {
   "cell_type": "markdown",
   "metadata": {},
   "source": [
    "We use the following function to scrape universities."
   ]
  },
  {
   "cell_type": "code",
   "execution_count": 4,
   "metadata": {},
   "outputs": [],
   "source": [
    "def scrape_universities(json_url, current_columns, new_columns, extra_columns=[], extra_url='', max_universities=200):\n",
    "    \"\"\"\n",
    "    Returns a DataFrame instance containing all university data.\n",
    "    :param json_url: string, url containing json file\n",
    "    :param current_columns: list of strings, containing columns to keep\n",
    "    :param new_columns: list of strings, same length as current_columns, to rename the DataFrame's columns\n",
    "    :param extra_columns: list of strings, extra columns to get from specific university pages\n",
    "    :param extra_url: string, url prefix to get to specific university pages\n",
    "    :param max_universities: int, number of top universities to get, default is 200\n",
    "    :return: DataFrame\n",
    "    \"\"\"\n",
    "    university_df = json_normalize(get_json(json_url)['data'][:max_universities])\n",
    "    if extra_columns:\n",
    "        beautiful_soups = university_df.apply(lambda row: get_html_beautiful_soup(row, extra_url), axis=1)\n",
    "        for column in extra_columns:\n",
    "            university_df[column] = beautiful_soups.apply(lambda soup: get_number(soup, column))\n",
    "    university_df = university_df[current_columns].rename(index=str, columns=dict(zip(current_columns, new_columns)))\n",
    "    university_df['Rank'] = university_df['Rank'].apply(lambda x: int(x.replace('=','')))\n",
    "    return university_df"
   ]
  },
  {
   "cell_type": "markdown",
   "metadata": {},
   "source": [
    "We scrape the top 200 universities."
   ]
  },
  {
   "cell_type": "code",
   "execution_count": 5,
   "metadata": {},
   "outputs": [
    {
     "data": {
      "text/html": [
       "<div>\n",
       "<table border=\"1\" class=\"dataframe\">\n",
       "  <thead>\n",
       "    <tr style=\"text-align: right;\">\n",
       "      <th></th>\n",
       "      <th>Name</th>\n",
       "      <th>Rank</th>\n",
       "      <th>Country</th>\n",
       "      <th>Region</th>\n",
       "      <th>Faculty</th>\n",
       "      <th>International Faculty</th>\n",
       "      <th>Students</th>\n",
       "      <th>International Students</th>\n",
       "    </tr>\n",
       "  </thead>\n",
       "  <tbody>\n",
       "    <tr>\n",
       "      <th>0</th>\n",
       "      <td>Massachusetts Institute of Technology (MIT)</td>\n",
       "      <td>1</td>\n",
       "      <td>United States</td>\n",
       "      <td>North America</td>\n",
       "      <td>2982.0</td>\n",
       "      <td>1679.0</td>\n",
       "      <td>11067.0</td>\n",
       "      <td>3717.0</td>\n",
       "    </tr>\n",
       "    <tr>\n",
       "      <th>1</th>\n",
       "      <td>Stanford University</td>\n",
       "      <td>2</td>\n",
       "      <td>United States</td>\n",
       "      <td>North America</td>\n",
       "      <td>4285.0</td>\n",
       "      <td>2042.0</td>\n",
       "      <td>15878.0</td>\n",
       "      <td>3611.0</td>\n",
       "    </tr>\n",
       "    <tr>\n",
       "      <th>2</th>\n",
       "      <td>Harvard University</td>\n",
       "      <td>3</td>\n",
       "      <td>United States</td>\n",
       "      <td>North America</td>\n",
       "      <td>4350.0</td>\n",
       "      <td>1311.0</td>\n",
       "      <td>22429.0</td>\n",
       "      <td>5266.0</td>\n",
       "    </tr>\n",
       "    <tr>\n",
       "      <th>3</th>\n",
       "      <td>California Institute of Technology (Caltech)</td>\n",
       "      <td>4</td>\n",
       "      <td>United States</td>\n",
       "      <td>North America</td>\n",
       "      <td>953.0</td>\n",
       "      <td>350.0</td>\n",
       "      <td>2255.0</td>\n",
       "      <td>647.0</td>\n",
       "    </tr>\n",
       "    <tr>\n",
       "      <th>4</th>\n",
       "      <td>University of Cambridge</td>\n",
       "      <td>5</td>\n",
       "      <td>United Kingdom</td>\n",
       "      <td>Europe</td>\n",
       "      <td>5490.0</td>\n",
       "      <td>2278.0</td>\n",
       "      <td>18770.0</td>\n",
       "      <td>6699.0</td>\n",
       "    </tr>\n",
       "  </tbody>\n",
       "</table>\n",
       "</div>"
      ],
      "text/plain": [
       "                                           Name  Rank         Country  \\\n",
       "0   Massachusetts Institute of Technology (MIT)     1   United States   \n",
       "1                           Stanford University     2   United States   \n",
       "2                            Harvard University     3   United States   \n",
       "3  California Institute of Technology (Caltech)     4   United States   \n",
       "4                       University of Cambridge     5  United Kingdom   \n",
       "\n",
       "          Region  Faculty  International Faculty  Students  \\\n",
       "0  North America   2982.0                 1679.0   11067.0   \n",
       "1  North America   4285.0                 2042.0   15878.0   \n",
       "2  North America   4350.0                 1311.0   22429.0   \n",
       "3  North America    953.0                  350.0    2255.0   \n",
       "4         Europe   5490.0                 2278.0   18770.0   \n",
       "\n",
       "   International Students  \n",
       "0                  3717.0  \n",
       "1                  3611.0  \n",
       "2                  5266.0  \n",
       "3                   647.0  \n",
       "4                  6699.0  "
      ]
     },
     "execution_count": 5,
     "metadata": {},
     "output_type": "execute_result"
    }
   ],
   "source": [
    "top_universities_df = scrape_universities(TOP_UNIVERSITIES_JSON_URL,\n",
    "                                          TOP_UNIVERSITIES_JSON_COLUMNS + TOP_UNIVERSITIES_HTML_COLUMNS,\n",
    "                                          TOP_UNIVERSITIES_NEW_COLUMNS, \n",
    "                                          extra_columns=TOP_UNIVERSITIES_HTML_COLUMNS,\n",
    "                                          extra_url=TOP_UNIVERSITIES_URL)\n",
    "top_universities_df.head()"
   ]
  },
  {
   "cell_type": "markdown",
   "metadata": {},
   "source": [
    "### 1.2. Sorting by ratio between faculty members and students <a class=\"anchor\" id=\"12\"></a>\n",
    "\n",
    "We establish a sorting helper function, called `insert_column_and_sort`, to insert and compute a new column and then sort the values by this new column."
   ]
  },
  {
   "cell_type": "code",
   "execution_count": 6,
   "metadata": {},
   "outputs": [],
   "source": [
    "def insert_column_and_sort(dataframe, columns, head_elements=5):\n",
    "    \"\"\"\n",
    "    Computes new column based on the division of one column by another one and returns it.\n",
    "    :param dataframe: DataFrame, targeted instance\n",
    "    :param columns: list of 3 strings and 2 booleans, containing names of the new column, \n",
    "                    numerator column and denominator column, and 2 booleans determining\n",
    "                    if denominator column includes numerator one, and order of sorting\n",
    "    :param head_elements: int, number of head elements to be shown\n",
    "    :return: DataFrame\n",
    "    \"\"\"\n",
    "    df_copy = dataframe.copy()\n",
    "    new_column, numerator, denominator, denominator_includes_numerator, ascending = columns\n",
    "    numerator_df = dataframe[numerator]\n",
    "    denominator_df = dataframe[denominator]\n",
    "    if denominator_includes_numerator:\n",
    "        denominator_df = denominator_df - numerator_df\n",
    "    df_copy[new_column] = numerator_df / denominator_df\n",
    "    return df_copy.sort_values(new_column, ascending=ascending).head(head_elements)"
   ]
  },
  {
   "cell_type": "markdown",
   "metadata": {},
   "source": [
    "We introduce a new column for the ratio between faculty members and students, such that each value is the average number of students per faculty member. Then, we sort the top universities scraped by this ratio in ascending order."
   ]
  },
  {
   "cell_type": "code",
   "execution_count": 7,
   "metadata": {
    "scrolled": true
   },
   "outputs": [
    {
     "data": {
      "text/html": [
       "<div>\n",
       "<table border=\"1\" class=\"dataframe\">\n",
       "  <thead>\n",
       "    <tr style=\"text-align: right;\">\n",
       "      <th></th>\n",
       "      <th>Name</th>\n",
       "      <th>Rank</th>\n",
       "      <th>Country</th>\n",
       "      <th>Region</th>\n",
       "      <th>Faculty</th>\n",
       "      <th>International Faculty</th>\n",
       "      <th>Students</th>\n",
       "      <th>International Students</th>\n",
       "      <th>Student-Staff Ratio</th>\n",
       "    </tr>\n",
       "  </thead>\n",
       "  <tbody>\n",
       "    <tr>\n",
       "      <th>3</th>\n",
       "      <td>California Institute of Technology (Caltech)</td>\n",
       "      <td>4</td>\n",
       "      <td>United States</td>\n",
       "      <td>North America</td>\n",
       "      <td>953.0</td>\n",
       "      <td>350.0</td>\n",
       "      <td>2255.0</td>\n",
       "      <td>647.0</td>\n",
       "      <td>2.366212</td>\n",
       "    </tr>\n",
       "    <tr>\n",
       "      <th>15</th>\n",
       "      <td>Yale University</td>\n",
       "      <td>16</td>\n",
       "      <td>United States</td>\n",
       "      <td>North America</td>\n",
       "      <td>4940.0</td>\n",
       "      <td>1708.0</td>\n",
       "      <td>12402.0</td>\n",
       "      <td>2469.0</td>\n",
       "      <td>2.510526</td>\n",
       "    </tr>\n",
       "    <tr>\n",
       "      <th>5</th>\n",
       "      <td>University of Oxford</td>\n",
       "      <td>6</td>\n",
       "      <td>United Kingdom</td>\n",
       "      <td>Europe</td>\n",
       "      <td>6750.0</td>\n",
       "      <td>2964.0</td>\n",
       "      <td>19720.0</td>\n",
       "      <td>7353.0</td>\n",
       "      <td>2.921481</td>\n",
       "    </tr>\n",
       "    <tr>\n",
       "      <th>4</th>\n",
       "      <td>University of Cambridge</td>\n",
       "      <td>5</td>\n",
       "      <td>United Kingdom</td>\n",
       "      <td>Europe</td>\n",
       "      <td>5490.0</td>\n",
       "      <td>2278.0</td>\n",
       "      <td>18770.0</td>\n",
       "      <td>6699.0</td>\n",
       "      <td>3.418944</td>\n",
       "    </tr>\n",
       "    <tr>\n",
       "      <th>16</th>\n",
       "      <td>Johns Hopkins University</td>\n",
       "      <td>17</td>\n",
       "      <td>United States</td>\n",
       "      <td>North America</td>\n",
       "      <td>4462.0</td>\n",
       "      <td>1061.0</td>\n",
       "      <td>16146.0</td>\n",
       "      <td>4105.0</td>\n",
       "      <td>3.618557</td>\n",
       "    </tr>\n",
       "  </tbody>\n",
       "</table>\n",
       "</div>"
      ],
      "text/plain": [
       "                                            Name  Rank         Country  \\\n",
       "3   California Institute of Technology (Caltech)     4   United States   \n",
       "15                               Yale University    16   United States   \n",
       "5                           University of Oxford     6  United Kingdom   \n",
       "4                        University of Cambridge     5  United Kingdom   \n",
       "16                      Johns Hopkins University    17   United States   \n",
       "\n",
       "           Region  Faculty  International Faculty  Students  \\\n",
       "3   North America    953.0                  350.0    2255.0   \n",
       "15  North America   4940.0                 1708.0   12402.0   \n",
       "5          Europe   6750.0                 2964.0   19720.0   \n",
       "4          Europe   5490.0                 2278.0   18770.0   \n",
       "16  North America   4462.0                 1061.0   16146.0   \n",
       "\n",
       "    International Students  Student-Staff Ratio  \n",
       "3                    647.0             2.366212  \n",
       "15                  2469.0             2.510526  \n",
       "5                   7353.0             2.921481  \n",
       "4                   6699.0             3.418944  \n",
       "16                  4105.0             3.618557  "
      ]
     },
     "execution_count": 7,
     "metadata": {},
     "output_type": "execute_result"
    }
   ],
   "source": [
    "STUDENT_STAFF_RATIO = ['Student-Staff Ratio', 'Students', 'Faculty', False, True]\n",
    "insert_column_and_sort(top_universities_df, STUDENT_STAFF_RATIO)"
   ]
  },
  {
   "cell_type": "markdown",
   "metadata": {},
   "source": [
    "### 1.3. Sorting by ratio of international students <a class=\"anchor\" id=\"13\"></a>\n",
    "\n",
    "Likewise, we introduce a new column for the ratio of international students, such that each value is the average number of international students per non-international student. Then, we sort the top universities scraped by this ratio in **descending** order."
   ]
  },
  {
   "cell_type": "code",
   "execution_count": 8,
   "metadata": {
    "scrolled": true
   },
   "outputs": [
    {
     "data": {
      "text/html": [
       "<div>\n",
       "<table border=\"1\" class=\"dataframe\">\n",
       "  <thead>\n",
       "    <tr style=\"text-align: right;\">\n",
       "      <th></th>\n",
       "      <th>Name</th>\n",
       "      <th>Rank</th>\n",
       "      <th>Country</th>\n",
       "      <th>Region</th>\n",
       "      <th>Faculty</th>\n",
       "      <th>International Faculty</th>\n",
       "      <th>Students</th>\n",
       "      <th>International Students</th>\n",
       "      <th>International Student Ratio</th>\n",
       "    </tr>\n",
       "  </thead>\n",
       "  <tbody>\n",
       "    <tr>\n",
       "      <th>34</th>\n",
       "      <td>London School of Economics and Political Scien...</td>\n",
       "      <td>35</td>\n",
       "      <td>United Kingdom</td>\n",
       "      <td>Europe</td>\n",
       "      <td>1088.0</td>\n",
       "      <td>687.0</td>\n",
       "      <td>9760.0</td>\n",
       "      <td>6748.0</td>\n",
       "      <td>2.240372</td>\n",
       "    </tr>\n",
       "    <tr>\n",
       "      <th>11</th>\n",
       "      <td>Ecole Polytechnique Fédérale de Lausanne (EPFL)</td>\n",
       "      <td>12</td>\n",
       "      <td>Switzerland</td>\n",
       "      <td>Europe</td>\n",
       "      <td>1695.0</td>\n",
       "      <td>1300.0</td>\n",
       "      <td>10343.0</td>\n",
       "      <td>5896.0</td>\n",
       "      <td>1.325838</td>\n",
       "    </tr>\n",
       "    <tr>\n",
       "      <th>7</th>\n",
       "      <td>Imperial College London</td>\n",
       "      <td>8</td>\n",
       "      <td>United Kingdom</td>\n",
       "      <td>Europe</td>\n",
       "      <td>3930.0</td>\n",
       "      <td>2071.0</td>\n",
       "      <td>16090.0</td>\n",
       "      <td>8746.0</td>\n",
       "      <td>1.190904</td>\n",
       "    </tr>\n",
       "    <tr>\n",
       "      <th>198</th>\n",
       "      <td>Maastricht University</td>\n",
       "      <td>200</td>\n",
       "      <td>Netherlands</td>\n",
       "      <td>Europe</td>\n",
       "      <td>1277.0</td>\n",
       "      <td>502.0</td>\n",
       "      <td>16385.0</td>\n",
       "      <td>8234.0</td>\n",
       "      <td>1.010183</td>\n",
       "    </tr>\n",
       "    <tr>\n",
       "      <th>47</th>\n",
       "      <td>Carnegie Mellon University</td>\n",
       "      <td>47</td>\n",
       "      <td>United States</td>\n",
       "      <td>North America</td>\n",
       "      <td>1342.0</td>\n",
       "      <td>425.0</td>\n",
       "      <td>13356.0</td>\n",
       "      <td>6385.0</td>\n",
       "      <td>0.915937</td>\n",
       "    </tr>\n",
       "  </tbody>\n",
       "</table>\n",
       "</div>"
      ],
      "text/plain": [
       "                                                  Name  Rank         Country  \\\n",
       "34   London School of Economics and Political Scien...    35  United Kingdom   \n",
       "11     Ecole Polytechnique Fédérale de Lausanne (EPFL)    12     Switzerland   \n",
       "7                              Imperial College London     8  United Kingdom   \n",
       "198                              Maastricht University   200     Netherlands   \n",
       "47                          Carnegie Mellon University    47   United States   \n",
       "\n",
       "            Region  Faculty  International Faculty  Students  \\\n",
       "34          Europe   1088.0                  687.0    9760.0   \n",
       "11          Europe   1695.0                 1300.0   10343.0   \n",
       "7           Europe   3930.0                 2071.0   16090.0   \n",
       "198         Europe   1277.0                  502.0   16385.0   \n",
       "47   North America   1342.0                  425.0   13356.0   \n",
       "\n",
       "     International Students  International Student Ratio  \n",
       "34                   6748.0                     2.240372  \n",
       "11                   5896.0                     1.325838  \n",
       "7                    8746.0                     1.190904  \n",
       "198                  8234.0                     1.010183  \n",
       "47                   6385.0                     0.915937  "
      ]
     },
     "execution_count": 8,
     "metadata": {},
     "output_type": "execute_result"
    }
   ],
   "source": [
    "INTL_STUDENT_RATIO = ['International Student Ratio', 'International Students', 'Students', True, False]\n",
    "insert_column_and_sort(top_universities_df, INTL_STUDENT_RATIO)"
   ]
  },
  {
   "cell_type": "markdown",
   "metadata": {},
   "source": [
    "### 1.4. Sorting while grouped by country <a class=\"anchor\" id=\"14\"></a>\n",
    "\n",
    "We make a short helper function, called `group_insert_sort`, to group by a column, insert another one and sort by its values. It then shows the results in a bar chart."
   ]
  },
  {
   "cell_type": "code",
   "execution_count": 9,
   "metadata": {},
   "outputs": [],
   "source": [
    "def group_insert_sort(dataframe, group_by, columns):\n",
    "    \"\"\"\n",
    "    Computes new column based on the division of one column by another one and returns it.\n",
    "    Then, plots t\n",
    "    :param dataframe: DataFrame, targeted instance\n",
    "    :param group_by: string, name of the column by which dataframe is grouped\n",
    "    :param columns: list of 3 strings and 2 booleans, containing names of the new column, \n",
    "                    numerator column and denominator column, and 2 booleans determining\n",
    "                    if denominator column includes numerator one, and order of sorting\n",
    "    :return: bar chart\n",
    "    \"\"\"\n",
    "    return insert_column_and_sort(dataframe.groupby(group_by).mean(), columns, head_elements=None)[[columns[0]]].plot.bar()"
   ]
  },
  {
   "cell_type": "markdown",
   "metadata": {},
   "source": [
    "The top universities by country and by student-staff ratio are the following. We observe that Russia has distinctly the lowest number of students per staff, as it is the only country dipping below 5."
   ]
  },
  {
   "cell_type": "code",
   "execution_count": 10,
   "metadata": {},
   "outputs": [
    {
     "data": {
      "text/plain": [
       "<matplotlib.axes._subplots.AxesSubplot at 0x1465c4470>"
      ]
     },
     "execution_count": 10,
     "metadata": {},
     "output_type": "execute_result"
    },
    {
     "data": {
      "image/png": "[encoded data removed]",
      "text/plain": [
       "<matplotlib.figure.Figure at 0x1465a1828>"
      ]
     },
     "metadata": {},
     "output_type": "display_data"
    }
   ],
   "source": [
    "group_insert_sort(top_universities_df, 'Country', STUDENT_STAFF_RATIO)"
   ]
  },
  {
   "cell_type": "markdown",
   "metadata": {},
   "source": [
    "The top universities by country and by international student ratio are the following. We observe that Australia and the UK stand out as having the highest international outlook, followed closely by Hong Kong, Austria and Switzerland."
   ]
  },
  {
   "cell_type": "code",
   "execution_count": 11,
   "metadata": {},
   "outputs": [
    {
     "data": {
      "text/plain": [
       "<matplotlib.axes._subplots.AxesSubplot at 0x1465a1ac8>"
      ]
     },
     "execution_count": 11,
     "metadata": {},
     "output_type": "execute_result"
    },
    {
     "data": {
      "image/png": "[encoded data removed]",
      "text/plain": [
       "<matplotlib.figure.Figure at 0x14665aeb8>"
      ]
     },
     "metadata": {},
     "output_type": "display_data"
    }
   ],
   "source": [
    "group_insert_sort(top_universities_df, 'Country', INTL_STUDENT_RATIO)"
   ]
  },
  {
   "cell_type": "markdown",
   "metadata": {},
   "source": [
    "### 1.5. Sorting while grouped by region <a class=\"anchor\" id=\"15\"></a>\n",
    "\n",
    "The top universities by region and by student-staff ratio are the following. We observe that Asia is the only continent which student-staff ratio is below 8."
   ]
  },
  {
   "cell_type": "code",
   "execution_count": 12,
   "metadata": {},
   "outputs": [
    {
     "data": {
      "text/plain": [
       "<matplotlib.axes._subplots.AxesSubplot at 0x146916e10>"
      ]
     },
     "execution_count": 12,
     "metadata": {},
     "output_type": "execute_result"
    },
    {
     "data": {
      "image/png": "[encoded data removed]",
      "text/plain": [
       "<matplotlib.figure.Figure at 0x146945a20>"
      ]
     },
     "metadata": {},
     "output_type": "display_data"
    }
   ],
   "source": [
    "group_insert_sort(top_universities_df, 'Region', STUDENT_STAFF_RATIO)"
   ]
  },
  {
   "cell_type": "markdown",
   "metadata": {},
   "source": [
    "The top universities by region and by international student ratio are the following. We observe that Oceania has on average more than 50% of international students in its student body, exceeding by more than 20% the other continents."
   ]
  },
  {
   "cell_type": "code",
   "execution_count": 13,
   "metadata": {
    "scrolled": false
   },
   "outputs": [
    {
     "data": {
      "text/plain": [
       "<matplotlib.axes._subplots.AxesSubplot at 0x146941908>"
      ]
     },
     "execution_count": 13,
     "metadata": {},
     "output_type": "execute_result"
    },
    {
     "data": {
      "image/png": "[encoded data removed]",
      "text/plain": [
       "<matplotlib.figure.Figure at 0x14697b4e0>"
      ]
     },
     "metadata": {},
     "output_type": "display_data"
    }
   ],
   "source": [
    "group_insert_sort(top_universities_df, 'Region', INTL_STUDENT_RATIO)"
   ]
  },
  {
   "cell_type": "markdown",
   "metadata": {},
   "source": [
    "## Task 2. Scraping Times Higher Education <a class=\"anchor\" id=\"2\"></a>\n",
    "\n",
    "### Assignment Instructions\n",
    "\n",
    "Obtain the 200 top-ranking universities in www.timeshighereducation.com ([ranking 2018](http://timeshighereducation.com/world-university-rankings/2018/world-ranking)). Repeat the analysis of the previous point and discuss briefly what you observed.\n",
    "\n",
    "### 2.1. Scraping the top 200 elements from Times Higher Education <a class=\"anchor\" id=\"21\"></a>\n",
    "\n",
    "We establish the following constants."
   ]
  },
  {
   "cell_type": "code",
   "execution_count": 14,
   "metadata": {},
   "outputs": [],
   "source": [
    "TIMES_HIGHER_ED_JSON_URL = 'https://www.timeshighereducation.com/sites/default/files/the_data_rankings/world_university_rankings_2018_limit0_369a9045a203e176392b9fb8f8c1cb2a.json'\n",
    "TIMES_HIGHER_ED_JSON_COLUMNS = ['name', 'rank', 'location', 'stats_number_students', 'stats_student_staff_ratio', 'stats_pc_intl_students', 'stats_female_male_ratio']\n",
    "TIMES_HIGHER_ED_NEW_JSON_COLUMNS = ['Name', 'Rank', 'Country', 'Students', 'Student-Staff Ratio', 'Percentage of International Students', 'Female-Male Ratio']"
   ]
  },
  {
   "cell_type": "markdown",
   "metadata": {},
   "source": [
    "Then we scrape the universities from Times Higher Education."
   ]
  },
  {
   "cell_type": "code",
   "execution_count": 15,
   "metadata": {
    "scrolled": false
   },
   "outputs": [
    {
     "data": {
      "text/html": [
       "<div>\n",
       "<table border=\"1\" class=\"dataframe\">\n",
       "  <thead>\n",
       "    <tr style=\"text-align: right;\">\n",
       "      <th></th>\n",
       "      <th>Name</th>\n",
       "      <th>Rank</th>\n",
       "      <th>Country</th>\n",
       "      <th>Students</th>\n",
       "      <th>Student-Staff Ratio</th>\n",
       "      <th>Percentage of International Students</th>\n",
       "      <th>Female-Male Ratio</th>\n",
       "    </tr>\n",
       "  </thead>\n",
       "  <tbody>\n",
       "    <tr>\n",
       "      <th>0</th>\n",
       "      <td>University of Oxford</td>\n",
       "      <td>1</td>\n",
       "      <td>United Kingdom</td>\n",
       "      <td>20,409</td>\n",
       "      <td>11.2</td>\n",
       "      <td>38%</td>\n",
       "      <td>46 : 54</td>\n",
       "    </tr>\n",
       "    <tr>\n",
       "      <th>1</th>\n",
       "      <td>University of Cambridge</td>\n",
       "      <td>2</td>\n",
       "      <td>United Kingdom</td>\n",
       "      <td>18,389</td>\n",
       "      <td>10.9</td>\n",
       "      <td>35%</td>\n",
       "      <td>45 : 55</td>\n",
       "    </tr>\n",
       "    <tr>\n",
       "      <th>2</th>\n",
       "      <td>California Institute of Technology</td>\n",
       "      <td>3</td>\n",
       "      <td>United States</td>\n",
       "      <td>2,209</td>\n",
       "      <td>6.5</td>\n",
       "      <td>27%</td>\n",
       "      <td>31 : 69</td>\n",
       "    </tr>\n",
       "    <tr>\n",
       "      <th>3</th>\n",
       "      <td>Stanford University</td>\n",
       "      <td>3</td>\n",
       "      <td>United States</td>\n",
       "      <td>15,845</td>\n",
       "      <td>7.5</td>\n",
       "      <td>22%</td>\n",
       "      <td>42 : 58</td>\n",
       "    </tr>\n",
       "    <tr>\n",
       "      <th>4</th>\n",
       "      <td>Massachusetts Institute of Technology</td>\n",
       "      <td>5</td>\n",
       "      <td>United States</td>\n",
       "      <td>11,177</td>\n",
       "      <td>8.7</td>\n",
       "      <td>34%</td>\n",
       "      <td>37 : 63</td>\n",
       "    </tr>\n",
       "  </tbody>\n",
       "</table>\n",
       "</div>"
      ],
      "text/plain": [
       "                                    Name  Rank         Country Students  \\\n",
       "0                   University of Oxford     1  United Kingdom   20,409   \n",
       "1                University of Cambridge     2  United Kingdom   18,389   \n",
       "2     California Institute of Technology     3   United States    2,209   \n",
       "3                    Stanford University     3   United States   15,845   \n",
       "4  Massachusetts Institute of Technology     5   United States   11,177   \n",
       "\n",
       "  Student-Staff Ratio Percentage of International Students Female-Male Ratio  \n",
       "0                11.2                                  38%           46 : 54  \n",
       "1                10.9                                  35%           45 : 55  \n",
       "2                 6.5                                  27%           31 : 69  \n",
       "3                 7.5                                  22%           42 : 58  \n",
       "4                 8.7                                  34%           37 : 63  "
      ]
     },
     "execution_count": 15,
     "metadata": {},
     "output_type": "execute_result"
    }
   ],
   "source": [
    "times_higher_ed_df = scrape_universities(TIMES_HIGHER_ED_JSON_URL, \n",
    "                                         TIMES_HIGHER_ED_JSON_COLUMNS, \n",
    "                                         TIMES_HIGHER_ED_NEW_JSON_COLUMNS)\n",
    "times_higher_ed_df.head()"
   ]
  },
  {
   "cell_type": "markdown",
   "metadata": {},
   "source": [
    "We see that the Female-Male Ratio has values of type `string` or `None`. We will make them of type `float`."
   ]
  },
  {
   "cell_type": "code",
   "execution_count": 16,
   "metadata": {},
   "outputs": [],
   "source": [
    "def correct_gender_ratio(ratio):\n",
    "    \"\"\"\n",
    "    Transforms the Female-Male Ratio into a float instance comprised between 0 and 1.\n",
    "    :param ratio: Series element (string or null)\n",
    "    :return: int or None\n",
    "    \"\"\"\n",
    "    if pd.notnull(ratio):\n",
    "        return int(ratio.split(' :')[0])/100\n",
    "    else:\n",
    "        return ratio\n",
    "        \n",
    "times_higher_ed_df['Female-Male Ratio'] = times_higher_ed_df['Female-Male Ratio'].apply(correct_gender_ratio)"
   ]
  },
  {
   "cell_type": "markdown",
   "metadata": {},
   "source": [
    "### 2.2. Sorting by ratio between faculty members and students <a class=\"anchor\" id=\"22\"></a>\n",
    "\n",
    "There is already a *Student-Staff Ratio* column. We just need to make the values of that column `float` elements and then sort the table by it."
   ]
  },
  {
   "cell_type": "code",
   "execution_count": 17,
   "metadata": {
    "scrolled": true
   },
   "outputs": [
    {
     "data": {
      "text/html": [
       "<div>\n",
       "<table border=\"1\" class=\"dataframe\">\n",
       "  <thead>\n",
       "    <tr style=\"text-align: right;\">\n",
       "      <th></th>\n",
       "      <th>Name</th>\n",
       "      <th>Rank</th>\n",
       "      <th>Country</th>\n",
       "      <th>Students</th>\n",
       "      <th>Student-Staff Ratio</th>\n",
       "      <th>Percentage of International Students</th>\n",
       "      <th>Female-Male Ratio</th>\n",
       "    </tr>\n",
       "  </thead>\n",
       "  <tbody>\n",
       "    <tr>\n",
       "      <th>105</th>\n",
       "      <td>Vanderbilt University</td>\n",
       "      <td>105</td>\n",
       "      <td>United States</td>\n",
       "      <td>12,011</td>\n",
       "      <td>3.3</td>\n",
       "      <td>13%</td>\n",
       "      <td>0.53</td>\n",
       "    </tr>\n",
       "    <tr>\n",
       "      <th>109</th>\n",
       "      <td>University of Copenhagen</td>\n",
       "      <td>109</td>\n",
       "      <td>Denmark</td>\n",
       "      <td>30,395</td>\n",
       "      <td>4.1</td>\n",
       "      <td>14%</td>\n",
       "      <td>0.58</td>\n",
       "    </tr>\n",
       "    <tr>\n",
       "      <th>12</th>\n",
       "      <td>Johns Hopkins University</td>\n",
       "      <td>13</td>\n",
       "      <td>United States</td>\n",
       "      <td>15,498</td>\n",
       "      <td>4.3</td>\n",
       "      <td>24%</td>\n",
       "      <td>0.52</td>\n",
       "    </tr>\n",
       "    <tr>\n",
       "      <th>11</th>\n",
       "      <td>Yale University</td>\n",
       "      <td>12</td>\n",
       "      <td>United States</td>\n",
       "      <td>12,155</td>\n",
       "      <td>4.3</td>\n",
       "      <td>21%</td>\n",
       "      <td>0.49</td>\n",
       "    </tr>\n",
       "    <tr>\n",
       "      <th>153</th>\n",
       "      <td>University of Rochester</td>\n",
       "      <td>153</td>\n",
       "      <td>United States</td>\n",
       "      <td>9,636</td>\n",
       "      <td>4.3</td>\n",
       "      <td>29%</td>\n",
       "      <td>0.49</td>\n",
       "    </tr>\n",
       "  </tbody>\n",
       "</table>\n",
       "</div>"
      ],
      "text/plain": [
       "                         Name  Rank        Country Students  \\\n",
       "105     Vanderbilt University   105  United States   12,011   \n",
       "109  University of Copenhagen   109        Denmark   30,395   \n",
       "12   Johns Hopkins University    13  United States   15,498   \n",
       "11            Yale University    12  United States   12,155   \n",
       "153   University of Rochester   153  United States    9,636   \n",
       "\n",
       "     Student-Staff Ratio Percentage of International Students  \\\n",
       "105                  3.3                                  13%   \n",
       "109                  4.1                                  14%   \n",
       "12                   4.3                                  24%   \n",
       "11                   4.3                                  21%   \n",
       "153                  4.3                                  29%   \n",
       "\n",
       "     Female-Male Ratio  \n",
       "105               0.53  \n",
       "109               0.58  \n",
       "12                0.52  \n",
       "11                0.49  \n",
       "153               0.49  "
      ]
     },
     "execution_count": 17,
     "metadata": {},
     "output_type": "execute_result"
    }
   ],
   "source": [
    "STUDENT_STAFF = \"Student-Staff Ratio\"\n",
    "times_higher_ed_df[STUDENT_STAFF] = times_higher_ed_df[STUDENT_STAFF].apply(float)\n",
    "times_higher_ed_df.sort_values(STUDENT_STAFF).head()"
   ]
  },
  {
   "cell_type": "markdown",
   "metadata": {},
   "source": [
    "### 2.3. Sorting by ratio of international students <a class=\"anchor\" id=\"23\"></a>\n",
    "\n",
    "There's already a *Percentage of International Students* column and we only need to make its values `float` instances. Ranking by the percentage of international students is equivalent to ranking by their ratio."
   ]
  },
  {
   "cell_type": "code",
   "execution_count": 18,
   "metadata": {
    "scrolled": true
   },
   "outputs": [
    {
     "data": {
      "text/html": [
       "<div>\n",
       "<table border=\"1\" class=\"dataframe\">\n",
       "  <thead>\n",
       "    <tr style=\"text-align: right;\">\n",
       "      <th></th>\n",
       "      <th>Name</th>\n",
       "      <th>Rank</th>\n",
       "      <th>Country</th>\n",
       "      <th>Students</th>\n",
       "      <th>Student-Staff Ratio</th>\n",
       "      <th>Percentage of International Students</th>\n",
       "      <th>Female-Male Ratio</th>\n",
       "    </tr>\n",
       "  </thead>\n",
       "  <tbody>\n",
       "    <tr>\n",
       "      <th>24</th>\n",
       "      <td>London School of Economics and Political Science</td>\n",
       "      <td>25</td>\n",
       "      <td>United Kingdom</td>\n",
       "      <td>10,065</td>\n",
       "      <td>12.2</td>\n",
       "      <td>0.71</td>\n",
       "      <td>0.52</td>\n",
       "    </tr>\n",
       "    <tr>\n",
       "      <th>178</th>\n",
       "      <td>University of Luxembourg</td>\n",
       "      <td>179</td>\n",
       "      <td>Luxembourg</td>\n",
       "      <td>4,969</td>\n",
       "      <td>14.6</td>\n",
       "      <td>0.57</td>\n",
       "      <td>0.50</td>\n",
       "    </tr>\n",
       "    <tr>\n",
       "      <th>37</th>\n",
       "      <td>École Polytechnique Fédérale de Lausanne</td>\n",
       "      <td>38</td>\n",
       "      <td>Switzerland</td>\n",
       "      <td>9,928</td>\n",
       "      <td>11.2</td>\n",
       "      <td>0.55</td>\n",
       "      <td>0.28</td>\n",
       "    </tr>\n",
       "    <tr>\n",
       "      <th>7</th>\n",
       "      <td>Imperial College London</td>\n",
       "      <td>8</td>\n",
       "      <td>United Kingdom</td>\n",
       "      <td>15,857</td>\n",
       "      <td>11.4</td>\n",
       "      <td>0.55</td>\n",
       "      <td>0.37</td>\n",
       "    </tr>\n",
       "    <tr>\n",
       "      <th>102</th>\n",
       "      <td>Maastricht University</td>\n",
       "      <td>103</td>\n",
       "      <td>Netherlands</td>\n",
       "      <td>16,727</td>\n",
       "      <td>18.0</td>\n",
       "      <td>0.50</td>\n",
       "      <td>0.58</td>\n",
       "    </tr>\n",
       "  </tbody>\n",
       "</table>\n",
       "</div>"
      ],
      "text/plain": [
       "                                                 Name  Rank         Country  \\\n",
       "24   London School of Economics and Political Science    25  United Kingdom   \n",
       "178                          University of Luxembourg   179      Luxembourg   \n",
       "37           École Polytechnique Fédérale de Lausanne    38     Switzerland   \n",
       "7                             Imperial College London     8  United Kingdom   \n",
       "102                             Maastricht University   103     Netherlands   \n",
       "\n",
       "    Students  Student-Staff Ratio  Percentage of International Students  \\\n",
       "24    10,065                 12.2                                  0.71   \n",
       "178    4,969                 14.6                                  0.57   \n",
       "37     9,928                 11.2                                  0.55   \n",
       "7     15,857                 11.4                                  0.55   \n",
       "102   16,727                 18.0                                  0.50   \n",
       "\n",
       "     Female-Male Ratio  \n",
       "24                0.52  \n",
       "178               0.50  \n",
       "37                0.28  \n",
       "7                 0.37  \n",
       "102               0.58  "
      ]
     },
     "execution_count": 18,
     "metadata": {},
     "output_type": "execute_result"
    }
   ],
   "source": [
    "INTL_PERCENTAGE = \"Percentage of International Students\"\n",
    "times_higher_ed_df[INTL_PERCENTAGE] = times_higher_ed_df[INTL_PERCENTAGE].apply(lambda x: float(x.strip('%'))/100)\n",
    "times_higher_ed_df.sort_values(INTL_PERCENTAGE, ascending=False).head()"
   ]
  },
  {
   "cell_type": "markdown",
   "metadata": {},
   "source": [
    "### 2.4. Sorting while grouped by country <a class=\"anchor\" id=\"24\"></a>\n",
    "\n",
    "We can group by country and then perform the same sorting as above, as the values are now `float` instances.\n",
    "\n",
    "The following is the sorting by ratio between faculty members and students, grouped by country. We observe that there is some consistency in ranking between both websites, as Russia and Denmark remain in the top five, but numbers are different from the *Top Universities* website."
   ]
  },
  {
   "cell_type": "code",
   "execution_count": 19,
   "metadata": {},
   "outputs": [
    {
     "data": {
      "text/plain": [
       "<matplotlib.axes._subplots.AxesSubplot at 0x146c544e0>"
      ]
     },
     "execution_count": 19,
     "metadata": {},
     "output_type": "execute_result"
    },
    {
     "data": {
      "image/png": "[encoded data removed]",
      "text/plain": [
       "<matplotlib.figure.Figure at 0x146c000b8>"
      ]
     },
     "metadata": {},
     "output_type": "display_data"
    }
   ],
   "source": [
    "grouped_by_country = times_higher_ed_df.groupby('Country').mean()\n",
    "grouped_by_country.sort_values(STUDENT_STAFF)[[STUDENT_STAFF]].plot.bar()"
   ]
  },
  {
   "cell_type": "markdown",
   "metadata": {},
   "source": [
    "The following is the sorting by percentage of international students, grouped by country. We notice that Luxembourg is very distinctly international, but this information is new as it does not appear in the *Top Universities* ranking."
   ]
  },
  {
   "cell_type": "code",
   "execution_count": 20,
   "metadata": {
    "scrolled": false
   },
   "outputs": [
    {
     "data": {
      "text/plain": [
       "<matplotlib.axes._subplots.AxesSubplot at 0x146e3e198>"
      ]
     },
     "execution_count": 20,
     "metadata": {},
     "output_type": "execute_result"
    },
    {
     "data": {
      "image/png": "[encoded data removed]",
      "text/plain": [
       "<matplotlib.figure.Figure at 0x146c7ea58>"
      ]
     },
     "metadata": {},
     "output_type": "display_data"
    }
   ],
   "source": [
    "grouped_by_country.sort_values(INTL_PERCENTAGE, ascending=False)[[INTL_PERCENTAGE]].plot.bar()"
   ]
  },
  {
   "cell_type": "markdown",
   "metadata": {},
   "source": [
    "### 2.5. Sorting while grouped by region <a class=\"anchor\" id=\"25\"></a>\n",
    "\n",
    "We can group by region, however we must first associate the countries with their respective regions."
   ]
  },
  {
   "cell_type": "code",
   "execution_count": 21,
   "metadata": {},
   "outputs": [],
   "source": [
    "merged_for_region = pd.merge(times_higher_ed_df, top_universities_df[['Country', 'Region']].drop_duplicates(), on=\"Country\")\n",
    "grouped_by_region = merged_for_region.groupby('Region').mean()"
   ]
  },
  {
   "cell_type": "markdown",
   "metadata": {},
   "source": [
    "The following is the sorting by ratio between faculty members and students, grouped by region. We notice this time that numbers have changed from the other ranking, as Africa comes up with the least number of students per staff."
   ]
  },
  {
   "cell_type": "code",
   "execution_count": 22,
   "metadata": {},
   "outputs": [
    {
     "data": {
      "text/plain": [
       "<matplotlib.axes._subplots.AxesSubplot at 0x146fa1048>"
      ]
     },
     "execution_count": 22,
     "metadata": {},
     "output_type": "execute_result"
    },
    {
     "data": {
      "image/png": "[encoded data removed]",
      "text/plain": [
       "<matplotlib.figure.Figure at 0x146fa8ef0>"
      ]
     },
     "metadata": {},
     "output_type": "display_data"
    }
   ],
   "source": [
    "grouped_by_region.sort_values(STUDENT_STAFF)[[STUDENT_STAFF]].plot.bar()"
   ]
  },
  {
   "cell_type": "markdown",
   "metadata": {},
   "source": [
    "The following is the sorting by percentage of international students, grouped by region. This ranking confirms Oceania's top place in international students."
   ]
  },
  {
   "cell_type": "code",
   "execution_count": 23,
   "metadata": {},
   "outputs": [
    {
     "data": {
      "text/plain": [
       "<matplotlib.axes._subplots.AxesSubplot at 0x1470b85f8>"
      ]
     },
     "execution_count": 23,
     "metadata": {},
     "output_type": "execute_result"
    },
    {
     "data": {
      "image/png": "[encoded data removed]",
      "text/plain": [
       "<matplotlib.figure.Figure at 0x1470bf6d8>"
      ]
     },
     "metadata": {},
     "output_type": "display_data"
    }
   ],
   "source": [
    "grouped_by_region.sort_values(INTL_PERCENTAGE, ascending=False)[[INTL_PERCENTAGE]].plot.bar()"
   ]
  },
  {
   "cell_type": "markdown",
   "metadata": {},
   "source": [
    "## Task 3. Merging Both Rankings <a class=\"anchor\" id=\"3\"></a>\n",
    "\n",
    "### Assignment Instructions\n",
    "\n",
    "Merge the two DataFrames created in questions 1 and 2 using university names. Match universities' names as well as you can, and explain your strategy. Keep track of the original position in both rankings.\n",
    "\n",
    "### Answers\n",
    "\n",
    "We merge both tables that we scraped in tasks 1 and 2.\n",
    "\n",
    "Our method compares two sequences of words in their order, and the similarity is the number of exact matches, with words being eliminated if they are stop words and being stripped of non-alphabetical characters. No university is matched more than once."
   ]
  },
  {
   "cell_type": "code",
   "execution_count": 24,
   "metadata": {},
   "outputs": [],
   "source": [
    "import unidecode\n",
    "\n",
    "def clean_word(word):\n",
    "    \"\"\"\n",
    "    Cleans word of non-alphabetical characters and removes accents.\n",
    "    :param word: string\n",
    "    :return: string, lowercase\n",
    "    \"\"\"\n",
    "    word = unidecode.unidecode(word)\n",
    "    word = ''.join([char for char in word if char.isalpha() or char == ')'])\n",
    "    return word.lower()\n",
    "\n",
    "def is_all_caps(word):\n",
    "    \"\"\"\n",
    "    Checks if a word is all the alphabetical characters of a word are uppercase.\n",
    "    :param word: string\n",
    "    :return: boolean\n",
    "    \"\"\"\n",
    "    for char in word:\n",
    "        if char.isalpha() and char.islower():\n",
    "            return False\n",
    "    return True\n",
    "\n",
    "def filter_name(name):\n",
    "    \"\"\"\n",
    "    Filters a sequence of words (a university name).\n",
    "    Tokenizes, cleans tokens, and removes tokens in parentheses and stop words.\n",
    "    :param name: string\n",
    "    :return: \n",
    "    \"\"\"\n",
    "    words = [clean_word(word) for word in name.split(' ') \n",
    "             if (not is_all_caps(word) and word not in 'The of and in'.split(' ') \n",
    "                 and not (word.startswith('(') and word.endswith(')')))]\n",
    "    return words\n",
    "\n",
    "def compare_names(name1, name2):\n",
    "    \"\"\"\n",
    "    Compares two names (of univerisities) by tokenizing, filtering tokens, cleaning tokens and \n",
    "    comparing exact words to compute similarity.\n",
    "    Returns True if the two names match, False if not.\n",
    "    :param name1: string\n",
    "    :param name2: string\n",
    "    :return: boolean\n",
    "    \"\"\"\n",
    "    words1 = filter_name(name1)\n",
    "    words2 = filter_name(name2)\n",
    "    similarity_index = 0\n",
    "    similarity = 0\n",
    "    index1 = 0\n",
    "    while index1 < len(words1) :\n",
    "        for index2 in range(similarity_index, len(words2)):\n",
    "            if words1[index1] == words2[index2]:\n",
    "                similarity_index = index2\n",
    "                similarity += 1\n",
    "                break\n",
    "        index1 += 1\n",
    "    min_len = min(len(set(words1)), len(set(words2)))\n",
    "    return similarity >= min_len\n",
    "\n",
    "TAKEN = []\n",
    "\n",
    "def find_closest_match(name, other_names):\n",
    "    \"\"\"\n",
    "    Returns the closest match to given name in a series of other names, or just the name if nothing is found.\n",
    "    :param name: string, given name that we want to find\n",
    "    :param other_names: Pandas Series, names that the argument name will be compared to\n",
    "    :return: string\"\"\"\n",
    "    for other_name in other_names:\n",
    "        if compare_names(name, other_name) and other_name not in TAKEN:\n",
    "            TAKEN.append(other_name)\n",
    "            return other_name\n",
    "    return name"
   ]
  },
  {
   "cell_type": "markdown",
   "metadata": {},
   "source": [
    "We replace the column `'Name'` in the Times Higher Education `DataFrame` by its closest match in the Top Universities one."
   ]
  },
  {
   "cell_type": "code",
   "execution_count": 25,
   "metadata": {},
   "outputs": [],
   "source": [
    "NAME = 'Name'\n",
    "times_higher_ed_df[NAME] = times_higher_ed_df[NAME].apply(lambda name: find_closest_match(name, top_universities_df[NAME]))"
   ]
  },
  {
   "cell_type": "markdown",
   "metadata": {},
   "source": [
    "Then we merge both `DataFrame` instances into one."
   ]
  },
  {
   "cell_type": "code",
   "execution_count": 26,
   "metadata": {},
   "outputs": [
    {
     "data": {
      "text/html": [
       "<div>\n",
       "<table border=\"1\" class=\"dataframe\">\n",
       "  <thead>\n",
       "    <tr style=\"text-align: right;\">\n",
       "      <th></th>\n",
       "      <th>Name</th>\n",
       "      <th>Rank (Top Unis)</th>\n",
       "      <th>Country</th>\n",
       "      <th>Region</th>\n",
       "      <th>Faculty</th>\n",
       "      <th>International Faculty</th>\n",
       "      <th>Students (Top Unis)</th>\n",
       "      <th>International Students</th>\n",
       "      <th>Rank (T.H.E.)</th>\n",
       "      <th>Students (T.H.E.)</th>\n",
       "      <th>Student-Staff Ratio</th>\n",
       "      <th>Percentage of International Students</th>\n",
       "      <th>Female-Male Ratio</th>\n",
       "    </tr>\n",
       "  </thead>\n",
       "  <tbody>\n",
       "    <tr>\n",
       "      <th>0</th>\n",
       "      <td>Massachusetts Institute of Technology (MIT)</td>\n",
       "      <td>1.0</td>\n",
       "      <td>United States</td>\n",
       "      <td>North America</td>\n",
       "      <td>2982.0</td>\n",
       "      <td>1679.0</td>\n",
       "      <td>11067.0</td>\n",
       "      <td>3717.0</td>\n",
       "      <td>5.0</td>\n",
       "      <td>11,177</td>\n",
       "      <td>8.7</td>\n",
       "      <td>0.34</td>\n",
       "      <td>0.37</td>\n",
       "    </tr>\n",
       "    <tr>\n",
       "      <th>1</th>\n",
       "      <td>Stanford University</td>\n",
       "      <td>2.0</td>\n",
       "      <td>United States</td>\n",
       "      <td>North America</td>\n",
       "      <td>4285.0</td>\n",
       "      <td>2042.0</td>\n",
       "      <td>15878.0</td>\n",
       "      <td>3611.0</td>\n",
       "      <td>3.0</td>\n",
       "      <td>15,845</td>\n",
       "      <td>7.5</td>\n",
       "      <td>0.22</td>\n",
       "      <td>0.42</td>\n",
       "    </tr>\n",
       "    <tr>\n",
       "      <th>2</th>\n",
       "      <td>Harvard University</td>\n",
       "      <td>3.0</td>\n",
       "      <td>United States</td>\n",
       "      <td>North America</td>\n",
       "      <td>4350.0</td>\n",
       "      <td>1311.0</td>\n",
       "      <td>22429.0</td>\n",
       "      <td>5266.0</td>\n",
       "      <td>6.0</td>\n",
       "      <td>20,326</td>\n",
       "      <td>8.9</td>\n",
       "      <td>0.26</td>\n",
       "      <td>NaN</td>\n",
       "    </tr>\n",
       "    <tr>\n",
       "      <th>3</th>\n",
       "      <td>California Institute of Technology (Caltech)</td>\n",
       "      <td>4.0</td>\n",
       "      <td>United States</td>\n",
       "      <td>North America</td>\n",
       "      <td>953.0</td>\n",
       "      <td>350.0</td>\n",
       "      <td>2255.0</td>\n",
       "      <td>647.0</td>\n",
       "      <td>3.0</td>\n",
       "      <td>2,209</td>\n",
       "      <td>6.5</td>\n",
       "      <td>0.27</td>\n",
       "      <td>0.31</td>\n",
       "    </tr>\n",
       "    <tr>\n",
       "      <th>4</th>\n",
       "      <td>University of Cambridge</td>\n",
       "      <td>5.0</td>\n",
       "      <td>United Kingdom</td>\n",
       "      <td>Europe</td>\n",
       "      <td>5490.0</td>\n",
       "      <td>2278.0</td>\n",
       "      <td>18770.0</td>\n",
       "      <td>6699.0</td>\n",
       "      <td>2.0</td>\n",
       "      <td>18,389</td>\n",
       "      <td>10.9</td>\n",
       "      <td>0.35</td>\n",
       "      <td>0.45</td>\n",
       "    </tr>\n",
       "  </tbody>\n",
       "</table>\n",
       "</div>"
      ],
      "text/plain": [
       "                                           Name  Rank (Top Unis)  \\\n",
       "0   Massachusetts Institute of Technology (MIT)              1.0   \n",
       "1                           Stanford University              2.0   \n",
       "2                            Harvard University              3.0   \n",
       "3  California Institute of Technology (Caltech)              4.0   \n",
       "4                       University of Cambridge              5.0   \n",
       "\n",
       "          Country         Region  Faculty  International Faculty  \\\n",
       "0   United States  North America   2982.0                 1679.0   \n",
       "1   United States  North America   4285.0                 2042.0   \n",
       "2   United States  North America   4350.0                 1311.0   \n",
       "3   United States  North America    953.0                  350.0   \n",
       "4  United Kingdom         Europe   5490.0                 2278.0   \n",
       "\n",
       "   Students (Top Unis)  International Students  Rank (T.H.E.)  \\\n",
       "0              11067.0                  3717.0            5.0   \n",
       "1              15878.0                  3611.0            3.0   \n",
       "2              22429.0                  5266.0            6.0   \n",
       "3               2255.0                   647.0            3.0   \n",
       "4              18770.0                  6699.0            2.0   \n",
       "\n",
       "  Students (T.H.E.)  Student-Staff Ratio  \\\n",
       "0            11,177                  8.7   \n",
       "1            15,845                  7.5   \n",
       "2            20,326                  8.9   \n",
       "3             2,209                  6.5   \n",
       "4            18,389                 10.9   \n",
       "\n",
       "   Percentage of International Students  Female-Male Ratio  \n",
       "0                                  0.34               0.37  \n",
       "1                                  0.22               0.42  \n",
       "2                                  0.26                NaN  \n",
       "3                                  0.27               0.31  \n",
       "4                                  0.35               0.45  "
      ]
     },
     "execution_count": 26,
     "metadata": {},
     "output_type": "execute_result"
    }
   ],
   "source": [
    "merged_df = pd.merge(top_universities_df, times_higher_ed_df.drop(labels='Country', axis=1), how='outer', on='Name', suffixes=(' (Top Unis)', ' (T.H.E.)'))\n",
    "merged_df.head()"
   ]
  },
  {
   "cell_type": "markdown",
   "metadata": {},
   "source": [
    "## Task 4. Exploratory Data Analysis <a class=\"anchor\" id=\"4\"></a>\n",
    "\n",
    "### Assignment Instructions\n",
    "\n",
    "Find useful insights in the data by performing an exploratory analysis. Can you find a strong correlation between any pair of variables in the dataset you just created? Example: when a university is strong in its international dimension, can you observe a consistency both for students and faculty members?\n",
    "\n",
    "### 4.1. Switzerland's International Outlook <a class=\"anchor\" id=\"41\"></a>\n",
    "\n",
    "We will look into how Switzerland's international outlook is correlated to the ranking of its universities.\n",
    "\n",
    "We first make a `DataFrame` copy of the *merged_df* one, and add to it two columns for *International Faculty Ratio* and *International Student Ratio*."
   ]
  },
  {
   "cell_type": "code",
   "execution_count": 27,
   "metadata": {},
   "outputs": [],
   "source": [
    "correlation_df = merged_df.copy()\n",
    "correlation_df['International Faculty Ratio'] = correlation_df['International Faculty']/correlation_df['Faculty']\n",
    "correlation_df['International Student Ratio'] = correlation_df['International Students']/correlation_df['Students (Top Unis)']"
   ]
  },
  {
   "cell_type": "markdown",
   "metadata": {},
   "source": [
    "We drop columns that are not of interest. Those are the columns containing absolute values instead of relative ones."
   ]
  },
  {
   "cell_type": "code",
   "execution_count": 28,
   "metadata": {},
   "outputs": [],
   "source": [
    "COLUMNS_OF_NO_INTEREST = ['Faculty', 'International Faculty', 'Students (Top Unis)', 'International Students', 'Students (T.H.E.)']\n",
    "correlation_df = correlation_df.drop(COLUMNS_OF_NO_INTEREST, axis=1)"
   ]
  },
  {
   "cell_type": "markdown",
   "metadata": {},
   "source": [
    "Let's make a heatmap to show correlations between the ranking and other variables."
   ]
  },
  {
   "cell_type": "code",
   "execution_count": 29,
   "metadata": {},
   "outputs": [
    {
     "data": {
      "image/png": "[encoded data removed]",
      "text/plain": [
       "<matplotlib.figure.Figure at 0x1473b5860>"
      ]
     },
     "metadata": {},
     "output_type": "display_data"
    }
   ],
   "source": [
    "import seaborn as sns\n",
    "corr = correlation_df[(correlation_df.Country == 'Switzerland')].corr()\n",
    "sns.heatmap(corr, cmap='YlOrRd', vmin=-1, vmax=1)\n",
    "plt.xticks(rotation=90)\n",
    "plt.show()"
   ]
  },
  {
   "cell_type": "markdown",
   "metadata": {},
   "source": [
    "In the heatmap above, the lighter a cell is, the more negative the correlation is. A variable drives the prestige of a university upwards if it is negatively correlated with the rankings.\n",
    "\n",
    "**Conclusions:** We notice that in Switzerland, more international faculty and more international students lead to higher prestige for universities."
   ]
  },
  {
   "cell_type": "markdown",
   "metadata": {},
   "source": [
    "### 4.2. Does an international outlook mean both ratios of International Faculty and International Students are high? <a class=\"anchor\" id=\"42\"></a>\n",
    "\n",
    "We take a look at the correlation between the ratios of international faculty and international students for all the universities, regardless of country."
   ]
  },
  {
   "cell_type": "code",
   "execution_count": 30,
   "metadata": {},
   "outputs": [
    {
     "data": {
      "text/plain": [
       "0.67988593939634889"
      ]
     },
     "execution_count": 30,
     "metadata": {},
     "output_type": "execute_result"
    }
   ],
   "source": [
    "corr = correlation_df.corr()\n",
    "corr['International Faculty Ratio']['International Student Ratio']"
   ]
  },
  {
   "cell_type": "markdown",
   "metadata": {},
   "source": [
    "We notice that the correlation is strongly positive at around **0.68**. Therefore both ratios are tied up together.\n",
    "\n",
    "### 4.3. What other countries benefit from their international outlook? <a class=\"anchor\" id=\"43\"></a>\n",
    "\n",
    "We want to list the countries which have the most universities benefiting from an international outlook.\n",
    "\n",
    "We first make helper functions to list them."
   ]
  },
  {
   "cell_type": "code",
   "execution_count": 31,
   "metadata": {},
   "outputs": [],
   "source": [
    "from collections import Counter\n",
    "\n",
    "def check_condition(corr, column):\n",
    "    \"\"\"\n",
    "    Checks whether the column is negatively correlated with either ranking.\n",
    "    :param corr: DataFrame of correlations\n",
    "    :param column: string\n",
    "    :return: boolean\n",
    "    \"\"\"\n",
    "    return corr['Rank (Top Unis)'][column] < -0.5 or corr['Rank (T.H.E.)'][column] < -0.5\n",
    "\n",
    "def list_countries(df, columns):\n",
    "    \"\"\"\n",
    "    Lists countries where the attributes in columns are negatively correlated with the rankings of their universities.\n",
    "    Returns a Counter with as tuple a country and the number of universities satisfying the condition.\n",
    "    :param df: DataFrame\n",
    "    :param columns: list of strings\n",
    "    :return: Counter\n",
    "    \"\"\"\n",
    "    countries = []\n",
    "    for country in df.Country:\n",
    "        corr = df[(df.Country == country)].corr()\n",
    "        condition = True\n",
    "        for column in columns:\n",
    "            condition = condition and check_condition(corr, column)\n",
    "        if condition:\n",
    "            countries.append(country)\n",
    "    return Counter(countries).most_common()"
   ]
  },
  {
   "cell_type": "markdown",
   "metadata": {},
   "source": [
    "Here, we list the countries in which the universities benefit from an international outlook."
   ]
  },
  {
   "cell_type": "code",
   "execution_count": 32,
   "metadata": {
    "scrolled": false
   },
   "outputs": [
    {
     "data": {
      "text/plain": [
       "[('United Kingdom', 28),\n",
       " ('Switzerland', 7),\n",
       " ('Canada', 7),\n",
       " ('Hong Kong', 5),\n",
       " ('France', 5),\n",
       " ('Italy', 4),\n",
       " ('Austria', 2),\n",
       " ('Ireland', 2),\n",
       " ('Singapore', 2)]"
      ]
     },
     "execution_count": 32,
     "metadata": {},
     "output_type": "execute_result"
    }
   ],
   "source": [
    "list_countries(correlation_df, ['International Faculty Ratio', 'International Student Ratio'])"
   ]
  },
  {
   "cell_type": "markdown",
   "metadata": {},
   "source": [
    "### 4.4. Which countries benefit from gender balance? <a class=\"anchor\" id=\"44\"></a>\n",
    "\n",
    "We list the countries which have the most universities benefiting from a high female-male ratio."
   ]
  },
  {
   "cell_type": "code",
   "execution_count": 33,
   "metadata": {
    "scrolled": false
   },
   "outputs": [
    {
     "data": {
      "text/plain": [
       "[('Netherlands', 10),\n",
       " ('Australia', 9),\n",
       " ('Canada', 7),\n",
       " ('Hong Kong', 5),\n",
       " ('Sweden', 5),\n",
       " ('Italy', 4),\n",
       " ('Denmark', 3),\n",
       " ('Singapore', 2),\n",
       " ('Finland', 2)]"
      ]
     },
     "execution_count": 33,
     "metadata": {},
     "output_type": "execute_result"
    }
   ],
   "source": [
    "list_countries(correlation_df, ['Female-Male Ratio'])"
   ]
  },
  {
   "cell_type": "markdown",
   "metadata": {},
   "source": [
    "## Task 5. Finding the best university with both rankings <a class=\"anchor\" id=\"5\"></a>\n",
    "\n",
    "### Assignment Instructions\n",
    "\n",
    "Can you find the best university taking in consideration both rankings? Explain your approach.\n",
    "\n",
    "### Answers\n",
    "\n",
    "First we only keep universities present in both rankings."
   ]
  },
  {
   "cell_type": "code",
   "execution_count": 34,
   "metadata": {},
   "outputs": [],
   "source": [
    "ranking_df = merged_df.dropna()[['Name','Rank (T.H.E.)', 'Rank (Top Unis)']]"
   ]
  },
  {
   "cell_type": "markdown",
   "metadata": {},
   "source": [
    "Then we create a column *Rank* which takes the mean of both rankings."
   ]
  },
  {
   "cell_type": "code",
   "execution_count": 35,
   "metadata": {},
   "outputs": [],
   "source": [
    "ranking_df['Rank'] = (ranking_df['Rank (Top Unis)'] + ranking_df['Rank (T.H.E.)'])/2"
   ]
  },
  {
   "cell_type": "markdown",
   "metadata": {},
   "source": [
    "Finally we list universities by their mean rank."
   ]
  },
  {
   "cell_type": "code",
   "execution_count": 36,
   "metadata": {
    "scrolled": true
   },
   "outputs": [
    {
     "data": {
      "text/html": [
       "<div>\n",
       "<table border=\"1\" class=\"dataframe\">\n",
       "  <thead>\n",
       "    <tr style=\"text-align: right;\">\n",
       "      <th></th>\n",
       "      <th>Name</th>\n",
       "      <th>Rank (T.H.E.)</th>\n",
       "      <th>Rank (Top Unis)</th>\n",
       "      <th>Rank</th>\n",
       "    </tr>\n",
       "  </thead>\n",
       "  <tbody>\n",
       "    <tr>\n",
       "      <th>1</th>\n",
       "      <td>Stanford University</td>\n",
       "      <td>3.0</td>\n",
       "      <td>2.0</td>\n",
       "      <td>2.5</td>\n",
       "    </tr>\n",
       "    <tr>\n",
       "      <th>0</th>\n",
       "      <td>Massachusetts Institute of Technology (MIT)</td>\n",
       "      <td>5.0</td>\n",
       "      <td>1.0</td>\n",
       "      <td>3.0</td>\n",
       "    </tr>\n",
       "    <tr>\n",
       "      <th>3</th>\n",
       "      <td>California Institute of Technology (Caltech)</td>\n",
       "      <td>3.0</td>\n",
       "      <td>4.0</td>\n",
       "      <td>3.5</td>\n",
       "    </tr>\n",
       "    <tr>\n",
       "      <th>4</th>\n",
       "      <td>University of Cambridge</td>\n",
       "      <td>2.0</td>\n",
       "      <td>5.0</td>\n",
       "      <td>3.5</td>\n",
       "    </tr>\n",
       "    <tr>\n",
       "      <th>5</th>\n",
       "      <td>University of Oxford</td>\n",
       "      <td>1.0</td>\n",
       "      <td>6.0</td>\n",
       "      <td>3.5</td>\n",
       "    </tr>\n",
       "  </tbody>\n",
       "</table>\n",
       "</div>"
      ],
      "text/plain": [
       "                                           Name  Rank (T.H.E.)  \\\n",
       "1                           Stanford University            3.0   \n",
       "0   Massachusetts Institute of Technology (MIT)            5.0   \n",
       "3  California Institute of Technology (Caltech)            3.0   \n",
       "4                       University of Cambridge            2.0   \n",
       "5                          University of Oxford            1.0   \n",
       "\n",
       "   Rank (Top Unis)  Rank  \n",
       "1              2.0   2.5  \n",
       "0              1.0   3.0  \n",
       "3              4.0   3.5  \n",
       "4              5.0   3.5  \n",
       "5              6.0   3.5  "
      ]
     },
     "execution_count": 36,
     "metadata": {},
     "output_type": "execute_result"
    }
   ],
   "source": [
    "ranking_df.sort_values('Rank').head()"
   ]
  },
  {
   "cell_type": "markdown",
   "metadata": {},
   "source": [
    "So here, we notice that **Stanford University** is the best university according to this approach.\n",
    "\n",
    "Although it is not the case in the top 5 universities abovementioned, we notice that the difference between rankings can be really high for some universities. We list the universities with the highest rank discrepancies hereafter:"
   ]
  },
  {
   "cell_type": "code",
   "execution_count": 37,
   "metadata": {},
   "outputs": [
    {
     "data": {
      "text/html": [
       "<div>\n",
       "<table border=\"1\" class=\"dataframe\">\n",
       "  <thead>\n",
       "    <tr style=\"text-align: right;\">\n",
       "      <th></th>\n",
       "      <th>Name</th>\n",
       "      <th>Rank (T.H.E.)</th>\n",
       "      <th>Rank (Top Unis)</th>\n",
       "      <th>Rank</th>\n",
       "      <th>Rank Discrepancy</th>\n",
       "    </tr>\n",
       "  </thead>\n",
       "  <tbody>\n",
       "    <tr>\n",
       "      <th>61</th>\n",
       "      <td>Shanghai Jiao Tong University</td>\n",
       "      <td>188.0</td>\n",
       "      <td>62.0</td>\n",
       "      <td>125.0</td>\n",
       "      <td>126.0</td>\n",
       "    </tr>\n",
       "    <tr>\n",
       "      <th>77</th>\n",
       "      <td>National Taiwan University (NTU)</td>\n",
       "      <td>198.0</td>\n",
       "      <td>76.0</td>\n",
       "      <td>137.0</td>\n",
       "      <td>122.0</td>\n",
       "    </tr>\n",
       "    <tr>\n",
       "      <th>82</th>\n",
       "      <td>The University of Auckland</td>\n",
       "      <td>192.0</td>\n",
       "      <td>82.0</td>\n",
       "      <td>137.0</td>\n",
       "      <td>110.0</td>\n",
       "    </tr>\n",
       "    <tr>\n",
       "      <th>163</th>\n",
       "      <td>University of Minnesota</td>\n",
       "      <td>56.0</td>\n",
       "      <td>163.0</td>\n",
       "      <td>109.5</td>\n",
       "      <td>107.0</td>\n",
       "    </tr>\n",
       "    <tr>\n",
       "      <th>95</th>\n",
       "      <td>Lomonosov Moscow State University</td>\n",
       "      <td>194.0</td>\n",
       "      <td>95.0</td>\n",
       "      <td>144.5</td>\n",
       "      <td>99.0</td>\n",
       "    </tr>\n",
       "  </tbody>\n",
       "</table>\n",
       "</div>"
      ],
      "text/plain": [
       "                                  Name  Rank (T.H.E.)  Rank (Top Unis)   Rank  \\\n",
       "61       Shanghai Jiao Tong University          188.0             62.0  125.0   \n",
       "77    National Taiwan University (NTU)          198.0             76.0  137.0   \n",
       "82          The University of Auckland          192.0             82.0  137.0   \n",
       "163            University of Minnesota           56.0            163.0  109.5   \n",
       "95   Lomonosov Moscow State University          194.0             95.0  144.5   \n",
       "\n",
       "     Rank Discrepancy  \n",
       "61              126.0  \n",
       "77              122.0  \n",
       "82              110.0  \n",
       "163             107.0  \n",
       "95               99.0  "
      ]
     },
     "execution_count": 37,
     "metadata": {},
     "output_type": "execute_result"
    }
   ],
   "source": [
    "ranking_df['Rank Discrepancy'] = np.abs(ranking_df['Rank (Top Unis)'] - ranking_df['Rank (T.H.E.)'])\n",
    "ranking_df.sort_values('Rank Discrepancy', ascending=False).head()"
   ]
  }
 ],
 "metadata": {
  "anaconda-cloud": {},
  "kernelspec": {
   "display_name": "Python [Root]",
   "language": "python",
   "name": "Python [Root]"
  },
  "language_info": {
   "codemirror_mode": {
    "name": "ipython",
    "version": 3
   },
   "file_extension": ".py",
   "mimetype": "text/x-python",
   "name": "python",
   "nbconvert_exporter": "python",
   "pygments_lexer": "ipython3",
   "version": "3.5.2"
  }
 },
 "nbformat": 4,
 "nbformat_minor": 2
}
