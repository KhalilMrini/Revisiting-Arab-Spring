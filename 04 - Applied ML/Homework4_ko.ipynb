{
 "cells": [
  {
   "cell_type": "markdown",
   "metadata": {},
   "source": [
    "# Homework 4- Table of Contents\n",
    "\n",
    "### [Task 1. Propensity score matching](#1)\n",
    "- [1.1. A naive analysis](#11)\n",
    "\n",
    "- [1.2. A closer look at the data](#12)\n",
    "\n",
    "- [1.3. A propensity score model](#13)\n",
    "\n",
    "- [1.4. Balancing the dataset via matching](#14)\n",
    "\n",
    "- [1.5. Balancing the groups further](#15)\n",
    "\n",
    "- [1.6. A less naive analysis](#14)\n",
    "\n",
    "\n",
    "### [Task 2. Applied ML](#2)\n",
    "- [2.1. Load data](#21)\n",
    "\n",
    "- [2.2. Train data with random forest](#22)"
   ]
  },
  {
   "cell_type": "markdown",
   "metadata": {},
   "source": [
    "### Imports - libraries"
   ]
  },
  {
   "cell_type": "code",
   "execution_count": 1,
   "metadata": {
    "collapsed": true
   },
   "outputs": [],
   "source": [
    "import pandas as pd\n",
    "import numpy as np\n",
    "import matplotlib.pyplot as plt\n",
    "from sklearn.linear_model import LinearRegression, LogisticRegression\n",
    "from sklearn.preprocessing import OneHotEncoder\n",
    "from pandas.plotting import scatter_matrix\n",
    "from sklearn.model_selection import cross_val_predict\n",
    "from sklearn.model_selection import cross_val_score\n",
    "from scipy import stats\n",
    "import seaborn as sns\n",
    "from scipy.stats import norm\n",
    "import matplotlib.mlab as mlab\n",
    "from pylab import rcParams\n",
    "rcParams['figure.figsize'] = 14, 7\n",
    "%matplotlib inline\n",
    "\n",
    "pd.options.mode.chained_assignment = None  # default='warn'"
   ]
  },
  {
   "cell_type": "markdown",
   "metadata": {},
   "source": [
    "### Imports - data"
   ]
  },
  {
   "cell_type": "code",
   "execution_count": 2,
   "metadata": {
    "collapsed": true
   },
   "outputs": [],
   "source": [
    "df = pd.read_csv('lalonde.csv', index_col = 0)"
   ]
  },
  {
   "cell_type": "markdown",
   "metadata": {},
   "source": [
    "We check that data doesn't have any missing/null values:"
   ]
  },
  {
   "cell_type": "code",
   "execution_count": 3,
   "metadata": {},
   "outputs": [
    {
     "data": {
      "text/plain": [
       "False"
      ]
     },
     "execution_count": 3,
     "metadata": {},
     "output_type": "execute_result"
    }
   ],
   "source": [
    "df.isnull().values.any()"
   ]
  },
  {
   "cell_type": "markdown",
   "metadata": {},
   "source": [
    "## Task 1. Propensity Score Matching <a class=\"anchor\" id=\"1\"></a>\n",
    "\n",
    "### Assignment Instructions\n",
    "In this exercise, you will apply propensity score matching, which we discussed in lecture 5 (\"Observational studies\"), in order to draw conclusions from an observational study.\n",
    "\n",
    "We will work with a by-now classic dataset from Robert LaLonde's study \"Evaluating the Econometric Evaluations of Training Programs\" (1986). The study investigated the effect of a job training program (\"National Supported Work Demonstration\") on the real earnings of an individual, a couple of years after completion of the program. Your task is to determine the effectiveness of the \"treatment\" represented by the job training program.\n",
    "\n",
    "### Dataset description\n",
    "\n",
    "The dataset contain the following fatures:\n",
    "\n",
    "- `treat`: 1 if the subject participated in the job training program, 0 otherwise\n",
    "- `age`: the subject's age\n",
    "- `educ`: years of education\n",
    "- `race`: categorical variable with three possible values: Black, Hispanic, or White\n",
    "- `married`: 1 if the subject was married at the time of the training program, 0 otherwise\n",
    "- `nodegree`: 1 if the subject has earned no school degree, 0 otherwise\n",
    "- `re74`: real earnings in 1974 (pre-treatment)\n",
    "- `re75`: real earnings in 1975 (pre-treatment)\n",
    "- `re78`: real earnings in 1978 (outcome)\n",
    "\n",
    "\n",
    "### Assumptions\n",
    "The dataset contain several records with zero values for real earnings. Since we are trying to evaluate the efectiveness of the job program in the real earnings, we should also consider those who did not find a job. For this reason, we will keep these values in a first iterarion over the problem. "
   ]
  },
  {
   "cell_type": "code",
   "execution_count": 4,
   "metadata": {
    "collapsed": true
   },
   "outputs": [],
   "source": [
    "#create two distinct data frames for each group\n",
    "treated = df[(df.treat ==1)]\n",
    "control = df[(df.treat == 0)]"
   ]
  },
  {
   "cell_type": "markdown",
   "metadata": {},
   "source": [
    "### Plot Functions\n",
    "\n",
    "We define the following functions to be used during the homework, when plotting and analysing the variables:"
   ]
  },
  {
   "cell_type": "code",
   "execution_count": 5,
   "metadata": {
    "collapsed": true
   },
   "outputs": [],
   "source": [
    "def plot_hist__(treated_df, control_df, features, title, range_):\n",
    "    '''Funtion that receives a vector of continuos features to plot.\n",
    "    Overlap the input features for both groups, treated and control'''\n",
    "    \n",
    "    fig, axes = plt.subplots(1, 2, figsize=(8, 4), sharex=True, sharey = True)\n",
    "    \n",
    "    plots = []\n",
    "    #layers:\n",
    "    for i in range(len(features)):\n",
    "        plots.append(treated_df[features[i]])\n",
    "        plots.append(control_df[features[i]])   \n",
    "        \n",
    "    #relative weight parameters for hist plot\n",
    "    weights = []\n",
    "    for i in range(len(plots)):\n",
    "        weights.append(np.zeros_like(plots[i]) + 1. / plots[i].size) \n",
    "        \n",
    "    #plot histograms\n",
    "    for i in range(len(features)):\n",
    "        j = i\n",
    "        i = i*len(features)\n",
    "        plots[i].plot.hist(ax = axes[0],weights=weights[i], title=('Treated Group: '+ title),\n",
    "                        range =range_, alpha=0.5, label=features[j])\n",
    "        plots[i+1].plot.hist(ax = axes[1], weights=weights[i+1], title=('Control Group: '+ title),\n",
    "                        range =range_, alpha=0.5, label=features[j])\n",
    "        \n",
    "    axes[0].legend(loc=\"upper right\")\n",
    "    axes[1].legend(loc=\"upper right\")    \n",
    "\n",
    "    \n",
    "def plot_bars(feature, title, print_values = False):\n",
    "    '''Funtion that receives a categorical feature to plot.\n",
    "    Draws a barplot  for both groups, treated and control'''\n",
    "    fig, axes = plt.subplots(1, 2, figsize=(8, 4), sharex=True, sharey = True);\n",
    "    \n",
    "    treated_values = (treated[feature].value_counts()/treated[feature].size).sort_index()\n",
    "    control_values = (control[feature].value_counts()/control[feature].size).sort_index()\n",
    "   \n",
    "    #print auxiliar values\n",
    "    if (print_values == True):\n",
    "        print('The distribution in the treated group takes the following values: \\n{}'.format(treated_values))\n",
    "        print('The distribution in the control group takes the following values: \\n{}'.format(control_values))\n",
    "    \n",
    "    #plot histograms\n",
    "    treated_values.plot.bar(ax = axes[0],title=('Treated Group - '+ title),alpha=0.5)\n",
    "    control_values.plot.bar(ax = axes[1],title=('Control Group - '+ title))\n",
    "    \n",
    "    #set legends\n",
    "    axes[0].legend(loc=\"upper right\")\n",
    "    axes[1].legend(loc=\"upper right\")  \n",
    "    \n",
    "\n",
    "def plot_box(feature, title):\n",
    "    '''Funtion that receives a categorical feature to plot.\n",
    "    Draws a box plot  for both groups, treated and control'''\n",
    "    fig, axes = plt.subplots(1, 2, figsize=(8, 4), sharex=True, sharey = True);\n",
    "    \n",
    "    treated_values = treated[feature]\n",
    "    control_values = control[feature]\n",
    "    \n",
    "    treated_values.plot.box(ax = axes[0],title=('Treated Group: '+ title), label=feature)\n",
    "    control_values.plot.box(ax = axes[1],title=('Control Group: '+ title), label=feature)  "
   ]
  },
  {
   "cell_type": "code",
   "execution_count": 6,
   "metadata": {},
   "outputs": [],
   "source": [
    "def plot_hist(features, title1, title2, df1=treated, df2=control, bins=50):\n",
    "    #fig, axes = plt.subplots(1, 2, figsize=(10, 5), sharex=True, sharey = True);\n",
    "    \n",
    "    treated_values = [df1[feature] for feature in features]\n",
    "    non_treated_values = [df1[feature] for feature in features]\n",
    "    \n",
    "    colors = ['g','b', 'c','k', 'm', 'y', 'r']\n",
    "    max_range = [max([max(treated_values[i]), max(non_treated_values[i])]) for i in range(len(features))]\n",
    "    \n",
    "    plt.figure(figsize=(14,7))\n",
    "    plt.subplot(1,2,1)\n",
    "    for i in range(len(features)):\n",
    "        plot_data(treated_values[i], bins, max_range[i], colors=[colors[i], colors[-(i+1)]], alpha=1/(2*i+1))\n",
    "        plt.title(title1)\n",
    "    \n",
    "    plt.subplot(1,2,2)\n",
    "    for i in range(len(features)):\n",
    "        plot_data(non_treated_values[i], bins, max_range[i], colors=[colors[i], colors[-(i+1)]], alpha=1/(2*i+1))\n",
    "        plt.title(title2)\n",
    "    \n",
    "def plot_data(data, bins, max_range, colors=['g', 'r'], alpha=1):\n",
    "    # the histogram of the data\n",
    "    n, bins, patches = plt.hist(data, bins, normed=True, facecolor=colors[0], range=(0,max_range), alpha=alpha)    \n",
    "    # best fit of data\n",
    "    (mu, sigma) = norm.fit(data)\n",
    "    # add a 'best fit' line\n",
    "    y = mlab.normpdf(bins, mu, sigma)\n",
    "    plt.plot(bins, y, colors[1]+'--', linewidth=3)"
   ]
  },
  {
   "cell_type": "code",
   "execution_count": 7,
   "metadata": {},
   "outputs": [
    {
     "data": {
      "image/png": "[encoded data removed]",
      "text/plain": [
       "<matplotlib.figure.Figure at 0x2015bbf66a0>"
      ]
     },
     "metadata": {},
     "output_type": "display_data"
    }
   ],
   "source": [
    "plot_hist(['re78','re75'], 'Treated Group - Real Earnings distribution','Non Treated Group - Real Earnings distribution', bins=15)"
   ]
  },
  {
   "cell_type": "markdown",
   "metadata": {},
   "source": [
    "### 1.1. A Naive Analysis<a class=\"anchor\" id=\"11\"></a>\n",
    "\n",
    "At this point, we will start by comparing the distribution of the outcome variable (re78) between the two groups in an naively way, this is, without questioning the bias of such data. \n",
    "\n",
    "We start by spliting the treatment group and control group in two different categories:"
   ]
  },
  {
   "cell_type": "markdown",
   "metadata": {},
   "source": [
    "Let's check the general numerical values of real earning in the year of 1978 for both groups:"
   ]
  },
  {
   "cell_type": "code",
   "execution_count": 8,
   "metadata": {},
   "outputs": [
    {
     "data": {
      "text/plain": [
       "count      185.000000\n",
       "mean      6349.143530\n",
       "std       7867.402218\n",
       "min          0.000000\n",
       "25%        485.229800\n",
       "50%       4232.309000\n",
       "75%       9642.999000\n",
       "max      60307.930000\n",
       "Name: re78, dtype: float64"
      ]
     },
     "execution_count": 8,
     "metadata": {},
     "output_type": "execute_result"
    }
   ],
   "source": [
    "#Real earnings description for people who took the job trainig program\n",
    "treated.re78.describe()"
   ]
  },
  {
   "cell_type": "code",
   "execution_count": 9,
   "metadata": {},
   "outputs": [
    {
     "data": {
      "text/plain": [
       "count      429.000000\n",
       "mean      6984.169742\n",
       "std       7294.161791\n",
       "min          0.000000\n",
       "25%        220.181300\n",
       "50%       4975.505000\n",
       "75%      11688.820000\n",
       "max      25564.670000\n",
       "Name: re78, dtype: float64"
      ]
     },
     "execution_count": 9,
     "metadata": {},
     "output_type": "execute_result"
    }
   ],
   "source": [
    "#Real earnings description for people who did not take the job trainig program\n",
    "control.re78.describe()"
   ]
  },
  {
   "cell_type": "markdown",
   "metadata": {},
   "source": [
    "**Observation:**\n",
    "\n",
    "Considering what we know so far, there are several points that stand out in the descriptions above. \n",
    "One can see that the **mean** is higher for the control group, with a relative difference of approximately 9%. \n",
    "\n",
    "However, the **maximium** value, on the other side, is higer in the treated group with a relative difference of approximately 57%, which is a huge difference.\n",
    "\n",
    "Note that the **quartiles** play an important role in this analysis since their robustness to outliers. We check that only for the first quartile, the trated group has a higher value, since for the following ones the control group presents higher earnings. \n",
    "\n",
    "From the analysis above, one can (naively) conclude that the treatment is more helpul for those who had small salaries."
   ]
  },
  {
   "cell_type": "markdown",
   "metadata": {},
   "source": [
    "Let's represent the values above with some plots. Note that for the following representations we consider **relative values**, since those are more meaningful comparing two groups of different size."
   ]
  },
  {
   "cell_type": "code",
   "execution_count": 10,
   "metadata": {},
   "outputs": [
    {
     "data": {
      "image/png": "[encoded data removed]",
      "text/plain": [
       "<matplotlib.figure.Figure at 0x2015c1084e0>"
      ]
     },
     "metadata": {},
     "output_type": "display_data"
    }
   ],
   "source": [
    "#plot_hist(treated, control, ['re78'], 'Real Earnings 1978', (0,65000))\n",
    "plot_hist(['re78'], 'Treated Group - Real Earnings distribution','Non Treated Group - Real Earnings distribution')"
   ]
  },
  {
   "cell_type": "code",
   "execution_count": 11,
   "metadata": {},
   "outputs": [
    {
     "data": {
      "image/png": "[encoded data removed]",
      "text/plain": [
       "<matplotlib.figure.Figure at 0x2015c2faeb8>"
      ]
     },
     "metadata": {},
     "output_type": "display_data"
    }
   ],
   "source": [
    "plot_box('re78', 'Real Earnings 1978')"
   ]
  },
  {
   "cell_type": "markdown",
   "metadata": {},
   "source": [
    "A naive \"researcher\" can conclude from this superficial analysis that ------------want to make propper hist with same bins width for both histograms----"
   ]
  },
  {
   "cell_type": "markdown",
   "metadata": {},
   "source": [
    "### 1.2. A closer look at the data<a class=\"anchor\" id=\"12\"></a>"
   ]
  },
  {
   "cell_type": "markdown",
   "metadata": {},
   "source": [
    "Let's take a closer look at the data before jumping to conclusions:\n",
    "\n",
    "One can not just take into account the real earning in the year of 1978 to justify the  effectiveness of the \"treatment\" represented by the job training program. This could be biased. A good analysis should consider the \"story\" of a person, since it's obvious that people with higher education, or those who already had higher real earning values in the past few years are more likely to earn more, independently if they took the program or not.\n",
    "\n",
    "For each feature in the dataset, we compare its distribution in the treated group with its distribution in the control group, using plots and numbers. "
   ]
  },
  {
   "cell_type": "markdown",
   "metadata": {},
   "source": [
    "**Is the `age` equal distributed in both groups?**"
   ]
  },
  {
   "cell_type": "code",
   "execution_count": 12,
   "metadata": {},
   "outputs": [
    {
     "data": {
      "image/png": "[encoded data removed]",
      "text/plain": [
       "<matplotlib.figure.Figure at 0x2015c358b70>"
      ]
     },
     "metadata": {},
     "output_type": "display_data"
    }
   ],
   "source": [
    "age_range = (min(control['age'].min(),treated['age'].min()),max(control['age'].max(), treated['age'].max()))\n",
    "plot_hist(['age'], 'Age', age_range)"
   ]
  },
  {
   "cell_type": "markdown",
   "metadata": {},
   "source": [
    "Eventhough the difference is not impressive, we can verify that the non treated group has a higher percentage of **older people**, in comparison with group one. This is relevant since higher earnings are usually associated with more years of professional career."
   ]
  },
  {
   "cell_type": "markdown",
   "metadata": {},
   "source": [
    "**Do both groups have a simillar `education`?**"
   ]
  },
  {
   "cell_type": "code",
   "execution_count": 15,
   "metadata": {},
   "outputs": [
    {
     "data": {
      "image/png": "[encoded data removed]",
      "text/plain": [
       "<matplotlib.figure.Figure at 0x2015c840630>"
      ]
     },
     "metadata": {},
     "output_type": "display_data"
    }
   ],
   "source": [
    "educ_range = (min(control['educ'].min(),treated['educ'].min()),max(control['educ'].max(), treated['educ'].max()))\n",
    "plot_hist(['educ'], 'Education', educ_range)"
   ]
  },
  {
   "cell_type": "markdown",
   "metadata": {},
   "source": [
    "Let's compare the mean of education years in both groups:"
   ]
  },
  {
   "cell_type": "code",
   "execution_count": 16,
   "metadata": {},
   "outputs": [
    {
     "name": "stdout",
     "output_type": "stream",
     "text": [
      "There's a 1.068193387942603% difference when comparing the mean of years of education for both groups\n"
     ]
    }
   ],
   "source": [
    "mean_relativeDifference = ((treated.educ.mean()-control.educ.mean())/treated.educ.mean())*100\n",
    "print(\"There's a {}% difference when comparing the mean of years of education for both groups\".\n",
    "      format(mean_relativeDifference))"
   ]
  },
  {
   "cell_type": "markdown",
   "metadata": {},
   "source": [
    "A different years of education distributtion could affect the bias of the results, since more years of study are likely to be correlated with higher real earnings as well. However, the difference is just 1%, which is almost neglible."
   ]
  },
  {
   "cell_type": "markdown",
   "metadata": {},
   "source": [
    "**Are the three different `races` equally distributed in both groups?**"
   ]
  },
  {
   "cell_type": "code",
   "execution_count": 17,
   "metadata": {},
   "outputs": [
    {
     "name": "stdout",
     "output_type": "stream",
     "text": [
      "The distribution in the treated group takes the following values: \n",
      "0    0.156757\n",
      "1    0.843243\n",
      "Name: black, dtype: float64\n",
      "The distribution in the control group takes the following values: \n",
      "0    0.797203\n",
      "1    0.202797\n",
      "Name: black, dtype: float64\n"
     ]
    },
    {
     "data": {
      "image/png": "[encoded data removed]",
      "text/plain": [
       "<matplotlib.figure.Figure at 0x2015ca76be0>"
      ]
     },
     "metadata": {},
     "output_type": "display_data"
    }
   ],
   "source": [
    "plot_bars('black', 'Black Race', print_values = True)"
   ]
  },
  {
   "cell_type": "code",
   "execution_count": 18,
   "metadata": {},
   "outputs": [
    {
     "data": {
      "image/png": "[encoded data removed]",
      "text/plain": [
       "<matplotlib.figure.Figure at 0x2015c2c9d68>"
      ]
     },
     "metadata": {},
     "output_type": "display_data"
    }
   ],
   "source": [
    "plot_bars('hispan', 'Hispan Race')"
   ]
  },
  {
   "cell_type": "markdown",
   "metadata": {},
   "source": [
    "We can verify that the hispanic race is a minority in both groups. However, the same does not apply to the black race. In fact, more that 80% of people in the trated group belong to black race, in comparison with 20% in the non-treated group. "
   ]
  },
  {
   "cell_type": "markdown",
   "metadata": {},
   "source": [
    "**How is the `Marital status` distribuded in this two groups**"
   ]
  },
  {
   "cell_type": "code",
   "execution_count": 19,
   "metadata": {
    "scrolled": true
   },
   "outputs": [
    {
     "data": {
      "image/png": "[encoded data removed]",
      "text/plain": [
       "<matplotlib.figure.Figure at 0x2015c4ebe48>"
      ]
     },
     "metadata": {},
     "output_type": "display_data"
    }
   ],
   "source": [
    "plot_bars('married','Marital distribution')"
   ]
  },
  {
   "cell_type": "markdown",
   "metadata": {},
   "source": [
    "The Marital distribution is not exactly the same. However, one should also take into account that this parameter is not so likely to influence the real earnings. Since `married` is a dichotomous variable, let's check the `Point-biserial correlation coefficient` between these two features:\n",
    "\n",
    "For more information about Point-biserial correlation coefficient click <a href=\"https://en.wikipedia.org/wiki/Point-biserial_correlation_coefficient\">here</a>."
   ]
  },
  {
   "cell_type": "code",
   "execution_count": 20,
   "metadata": {},
   "outputs": [
    {
     "data": {
      "text/plain": [
       "PointbiserialrResult(correlation=0.16235762667544129, pvalue=5.3062440838823211e-05)"
      ]
     },
     "execution_count": 20,
     "metadata": {},
     "output_type": "execute_result"
    }
   ],
   "source": [
    "stats.pointbiserialr(df['married'], df['re78'])"
   ]
  },
  {
   "cell_type": "markdown",
   "metadata": {},
   "source": [
    "We can verify they these features don't have a strong dependence."
   ]
  },
  {
   "cell_type": "markdown",
   "metadata": {},
   "source": [
    "**Is the distribution of people who got `no degrees` similar in both groups?**"
   ]
  },
  {
   "cell_type": "code",
   "execution_count": 21,
   "metadata": {},
   "outputs": [
    {
     "data": {
      "image/png": "[encoded data removed]",
      "text/plain": [
       "<matplotlib.figure.Figure at 0x2015c4d2b70>"
      ]
     },
     "metadata": {},
     "output_type": "display_data"
    }
   ],
   "source": [
    "plot_bars('nodegree','No Degree')"
   ]
  },
  {
   "cell_type": "markdown",
   "metadata": {},
   "source": [
    "We verify that the number of people with no degrees is simillar in both cases."
   ]
  },
  {
   "cell_type": "markdown",
   "metadata": {},
   "source": [
    "**But how high were the `real earnings` before the treatment? And how do they compare to the ones from 1978?** "
   ]
  },
  {
   "cell_type": "code",
   "execution_count": 22,
   "metadata": {},
   "outputs": [
    {
     "name": "stdout",
     "output_type": "stream",
     "text": [
      "Average treated group real earnings in: \n",
      "1974: 2095.573688648649\n",
      "1975: 1532.0553137837837\n",
      "\n",
      "Average control group real earnings in: \n",
      "1974: 5619.2365063869465\n",
      "1975: 2466.484443123543\n"
     ]
    }
   ],
   "source": [
    "print('Average treated group real earnings in: \\n1974: {}\\n1975: {}'.format(treated.re74.mean(), treated.re75.mean()))\n",
    "print('\\nAverage control group real earnings in: \\n1974: {}\\n1975: {}'.format(control.re74.mean(), control.re75.mean()))"
   ]
  },
  {
   "cell_type": "markdown",
   "metadata": {},
   "source": [
    "We see that the data is biased since the control group already had higher earnings before the beginning of the treatment! A more interest comparison would be to compare the difference between the earnings before and after the treatment. \n",
    "\n",
    "Keeping this in mind we create the following features:\n",
    "- `re_PreTreament`: average of the earnings of 1974 and 1975:\n",
    "- `improvement`: difference between the earnings in 1978 and the average of the earnings of 1974 and 1975\n"
   ]
  },
  {
   "cell_type": "code",
   "execution_count": 23,
   "metadata": {
    "collapsed": true
   },
   "outputs": [],
   "source": [
    "#define re_PreTreatment\n",
    "treated['re_PreTreatment']=(treated['re75']+treated['re74'])/2\n",
    "control['re_PreTreatment']=(control['re75']+control['re74'])/2\n",
    "\n",
    "#define improvement\n",
    "treated['improvement']=treated['re78']-treated['re_PreTreatment']\n",
    "control['improvement']=control['re78']-control['re_PreTreatment']"
   ]
  },
  {
   "cell_type": "markdown",
   "metadata": {},
   "source": [
    "Which group has a higher `improvement`:"
   ]
  },
  {
   "cell_type": "code",
   "execution_count": 24,
   "metadata": {},
   "outputs": [
    {
     "name": "stdout",
     "output_type": "stream",
     "text": [
      "Average improvement in the TREATED group:  4535.32902905\n",
      "Average improvement in the CONTROL group:  2941.30926755\n"
     ]
    }
   ],
   "source": [
    "print('Average improvement in the TREATED group: ', treated.improvement.mean())\n",
    "print('Average improvement in the CONTROL group: ', control.improvement.mean())"
   ]
  },
  {
   "cell_type": "markdown",
   "metadata": {},
   "source": [
    "From the values above the conclusion we take is completely different!\n",
    "\n",
    "To ilustrate more intuitively, we will overlap the histogram distribution of the real earnings before and after treatment:"
   ]
  },
  {
   "cell_type": "code",
   "execution_count": 31,
   "metadata": {},
   "outputs": [
    {
     "data": {
      "image/png": "[encoded data removed]",
      "text/plain": [
       "<matplotlib.figure.Figure at 0x2015cbf0710>"
      ]
     },
     "metadata": {},
     "output_type": "display_data"
    }
   ],
   "source": [
    "plot_hist(['re_PreTreatment', 're78'], 'Real Earnings', 're78', bins=10)"
   ]
  },
  {
   "cell_type": "markdown",
   "metadata": {},
   "source": [
    "**Conclusion**\n",
    "\n",
    "If at some point, naively, we thought that the program was not effective, these values show the oposite!\n",
    "\n",
    "By the observation of the histogram above, it's noticeable that the difference between the real earnings before and after treatment in the Treated Group is more striking then in the Control Group.\n",
    "\n",
    "This lead us to conclude that the programe is in fact effective."
   ]
  },
  {
   "cell_type": "markdown",
   "metadata": {},
   "source": [
    "### 1.3. A propensity score model<a class=\"anchor\" id=\"13\"></a>"
   ]
  },
  {
   "cell_type": "markdown",
   "metadata": {},
   "source": [
    "**Propensity Score Matching**:\n",
    "To apply the propensity score matching, we will follow the following steps:\n",
    "\n",
    "1. Run logistic regression **Question (1.3)**\n",
    "\n",
    "2. Check that propensity score is balanced across treatment and comparison groups, and check that covariates are balanced across treatment and comparison groups within strata of the propensity score. **Question (1.3)**\n",
    "\n",
    "3. Match each participant to one or more nonparticipants on propensity score **Question (1.4)**\n",
    "\n",
    "4. Verify that covariates are balanced across treatment and comparison groups in the matched or weighted sample **Question (1.5)**\n",
    "\n",
    "5. Multivariate analysis based on new sample **Question (1.6)**"
   ]
  },
  {
   "cell_type": "markdown",
   "metadata": {},
   "source": [
    "**Run Logistic Regression**"
   ]
  },
  {
   "cell_type": "code",
   "execution_count": 32,
   "metadata": {},
   "outputs": [
    {
     "data": {
      "text/plain": [
       "LogisticRegression(C=1.0, class_weight=None, dual=False, fit_intercept=True,\n",
       "          intercept_scaling=1, max_iter=100, multi_class='ovr', n_jobs=1,\n",
       "          penalty='l2', random_state=None, solver='liblinear', tol=0.0001,\n",
       "          verbose=0, warm_start=False)"
      ]
     },
     "execution_count": 32,
     "metadata": {},
     "output_type": "execute_result"
    }
   ],
   "source": [
    "features = df[[\"age\",\"educ\",\"black\",\"hispan\",\"married\",\"nodegree\",\"re74\",\"re75\",\"re78\"]]\n",
    "labels = df[\"treat\"]\n",
    "\n",
    "logistic = LogisticRegression()\n",
    "logistic.fit(features, labels)"
   ]
  },
  {
   "cell_type": "markdown",
   "metadata": {},
   "source": [
    "**Check that propensity score is balanced across treatment and comparison groups**"
   ]
  },
  {
   "cell_type": "markdown",
   "metadata": {},
   "source": [
    "We create a new column in the dataframe,`probability_treat`, which represents the probability of receiving the treatment:"
   ]
  },
  {
   "cell_type": "code",
   "execution_count": 33,
   "metadata": {
    "collapsed": true
   },
   "outputs": [],
   "source": [
    "df['probability_treat'] = logistic.predict_proba(features) [:,0]\n",
    "df = df.reset_index()\n",
    "#df.head(10)"
   ]
  },
  {
   "cell_type": "markdown",
   "metadata": {},
   "source": [
    "By observing the column `probability_treat` in the data frame we verify that the propensity scores is balanced across treatment and comparison groups, since both groups present high and low values for such feature."
   ]
  },
  {
   "cell_type": "markdown",
   "metadata": {},
   "source": [
    "### 1.4. Balancing the dataset via matching <a class=\"anchor\" id=\"14\"></a>"
   ]
  },
  {
   "cell_type": "markdown",
   "metadata": {},
   "source": [
    "In this section we follow on with the refered methods refered above to apply the propensity score matching."
   ]
  },
  {
   "cell_type": "markdown",
   "metadata": {},
   "source": [
    "**Match each participant to one or more nonparticipants on propensity score**"
   ]
  },
  {
   "cell_type": "code",
   "execution_count": 34,
   "metadata": {
    "collapsed": true
   },
   "outputs": [],
   "source": [
    "import networkx as nx\n",
    "from networkx.algorithms import bipartite\n",
    "\n",
    "def create_graph(df):\n",
    "    #create graph where each id identify a node\n",
    "    graph = nx.Graph()\n",
    "    graph = graph\n",
    "    graph.add_nodes_from(df[df['treat'] ==0 ].id, bipartite = 0)\n",
    "    graph.add_nodes_from(df[df['treat'] ==1 ].id, bipartite = 1)\n",
    "    return graph\n",
    "\n",
    "def match_nodes(df, graph):\n",
    "    '''We follow on with the creation of edges where each weight corresponds to the diference of propensity score.\n",
    "    To find the \"cheapest\" matches we use the function \"nx.max_weight_matching\"\n",
    "    Note however, that we have to insert a '-' signal, to transform a minimization problem into a maximization'''\n",
    "    for row_treat in df[df['treat'] ==1 ].iterrows():\n",
    "        for row_control in df[df['treat'] ==0 ].iterrows():\n",
    "            graph.add_edge(row_treat[1]['id'],row_control[1]['id'], \n",
    "                       weight= (-np.abs(row_treat[1]['probability_treat'] - row_control[1]['probability_treat'])))\n",
    "        \n",
    "    matches = nx.bipartite.maximum_matching(graph)\n",
    "    \n",
    "    return matches"
   ]
  },
  {
   "cell_type": "code",
   "execution_count": 42,
   "metadata": {
    "collapsed": true
   },
   "outputs": [],
   "source": [
    "#initialize graph\n",
    "graph = create_graph(df)\n",
    "\n",
    "#creat edges and find minimal weight solution\n",
    "matches_dict = match_nodes(df, graph)"
   ]
  },
  {
   "cell_type": "code",
   "execution_count": 43,
   "metadata": {},
   "outputs": [],
   "source": [
    "for key in matches_dict:\n",
    "    val1 = matches_dict[key]\n",
    "    val2 = matches_dict[val1]\n",
    "    if key != val2:\n",
    "        print(key, val1, val2)"
   ]
  },
  {
   "cell_type": "code",
   "execution_count": 44,
   "metadata": {
    "collapsed": true
   },
   "outputs": [],
   "source": [
    "matches_dict2 = {}\n",
    "for key in matches_dict:\n",
    "    if key in list(df[df['treat'] == 1].id):\n",
    "        matches_dict2[key] = matches_dict[key]"
   ]
  },
  {
   "cell_type": "code",
   "execution_count": 45,
   "metadata": {},
   "outputs": [
    {
     "data": {
      "text/plain": [
       "{'NSW1': 'PSID379',\n",
       " 'NSW10': 'PSID118',\n",
       " 'NSW100': 'PSID281',\n",
       " 'NSW101': 'PSID94',\n",
       " 'NSW102': 'PSID146',\n",
       " 'NSW103': 'PSID115',\n",
       " 'NSW104': 'PSID310',\n",
       " 'NSW105': 'PSID381',\n",
       " 'NSW106': 'PSID351',\n",
       " 'NSW107': 'PSID322',\n",
       " 'NSW108': 'PSID27',\n",
       " 'NSW109': 'PSID300',\n",
       " 'NSW11': 'PSID97',\n",
       " 'NSW110': 'PSID239',\n",
       " 'NSW111': 'PSID33',\n",
       " 'NSW112': 'PSID262',\n",
       " 'NSW113': 'PSID5',\n",
       " 'NSW114': 'PSID367',\n",
       " 'NSW115': 'PSID166',\n",
       " 'NSW116': 'PSID42',\n",
       " 'NSW117': 'PSID273',\n",
       " 'NSW118': 'PSID184',\n",
       " 'NSW119': 'PSID318',\n",
       " 'NSW12': 'PSID264',\n",
       " 'NSW120': 'PSID352',\n",
       " 'NSW121': 'PSID353',\n",
       " 'NSW122': 'PSID349',\n",
       " 'NSW123': 'PSID385',\n",
       " 'NSW124': 'PSID370',\n",
       " 'NSW125': 'PSID85',\n",
       " 'NSW126': 'PSID247',\n",
       " 'NSW127': 'PSID55',\n",
       " 'NSW128': 'PSID320',\n",
       " 'NSW129': 'PSID406',\n",
       " 'NSW13': 'PSID388',\n",
       " 'NSW130': 'PSID114',\n",
       " 'NSW131': 'PSID327',\n",
       " 'NSW132': 'PSID63',\n",
       " 'NSW133': 'PSID23',\n",
       " 'NSW134': 'PSID205',\n",
       " 'NSW135': 'PSID47',\n",
       " 'NSW136': 'PSID129',\n",
       " 'NSW137': 'PSID82',\n",
       " 'NSW138': 'PSID421',\n",
       " 'NSW139': 'PSID167',\n",
       " 'NSW14': 'PSID74',\n",
       " 'NSW140': 'PSID372',\n",
       " 'NSW141': 'PSID148',\n",
       " 'NSW142': 'PSID161',\n",
       " 'NSW143': 'PSID45',\n",
       " 'NSW144': 'PSID397',\n",
       " 'NSW145': 'PSID83',\n",
       " 'NSW146': 'PSID268',\n",
       " 'NSW147': 'PSID332',\n",
       " 'NSW148': 'PSID342',\n",
       " 'NSW149': 'PSID400',\n",
       " 'NSW15': 'PSID311',\n",
       " 'NSW150': 'PSID77',\n",
       " 'NSW151': 'PSID28',\n",
       " 'NSW152': 'PSID304',\n",
       " 'NSW153': 'PSID8',\n",
       " 'NSW154': 'PSID65',\n",
       " 'NSW155': 'PSID30',\n",
       " 'NSW156': 'PSID326',\n",
       " 'NSW157': 'PSID298',\n",
       " 'NSW158': 'PSID140',\n",
       " 'NSW159': 'PSID371',\n",
       " 'NSW16': 'PSID24',\n",
       " 'NSW160': 'PSID284',\n",
       " 'NSW161': 'PSID384',\n",
       " 'NSW162': 'PSID274',\n",
       " 'NSW163': 'PSID126',\n",
       " 'NSW164': 'PSID303',\n",
       " 'NSW165': 'PSID382',\n",
       " 'NSW166': 'PSID395',\n",
       " 'NSW167': 'PSID162',\n",
       " 'NSW168': 'PSID78',\n",
       " 'NSW169': 'PSID253',\n",
       " 'NSW17': 'PSID92',\n",
       " 'NSW170': 'PSID106',\n",
       " 'NSW171': 'PSID4',\n",
       " 'NSW172': 'PSID101',\n",
       " 'NSW173': 'PSID200',\n",
       " 'NSW174': 'PSID236',\n",
       " 'NSW175': 'PSID255',\n",
       " 'NSW176': 'PSID70',\n",
       " 'NSW177': 'PSID423',\n",
       " 'NSW178': 'PSID188',\n",
       " 'NSW179': 'PSID394',\n",
       " 'NSW18': 'PSID39',\n",
       " 'NSW180': 'PSID172',\n",
       " 'NSW181': 'PSID305',\n",
       " 'NSW182': 'PSID131',\n",
       " 'NSW183': 'PSID243',\n",
       " 'NSW184': 'PSID286',\n",
       " 'NSW185': 'PSID99',\n",
       " 'NSW19': 'PSID293',\n",
       " 'NSW2': 'PSID160',\n",
       " 'NSW20': 'PSID95',\n",
       " 'NSW21': 'PSID329',\n",
       " 'NSW22': 'PSID408',\n",
       " 'NSW23': 'PSID71',\n",
       " 'NSW24': 'PSID398',\n",
       " 'NSW25': 'PSID307',\n",
       " 'NSW26': 'PSID297',\n",
       " 'NSW27': 'PSID61',\n",
       " 'NSW28': 'PSID201',\n",
       " 'NSW29': 'PSID202',\n",
       " 'NSW3': 'PSID100',\n",
       " 'NSW30': 'PSID235',\n",
       " 'NSW31': 'PSID87',\n",
       " 'NSW32': 'PSID251',\n",
       " 'NSW33': 'PSID35',\n",
       " 'NSW34': 'PSID392',\n",
       " 'NSW35': 'PSID37',\n",
       " 'NSW36': 'PSID142',\n",
       " 'NSW37': 'PSID246',\n",
       " 'NSW38': 'PSID416',\n",
       " 'NSW39': 'PSID40',\n",
       " 'NSW4': 'PSID402',\n",
       " 'NSW40': 'PSID108',\n",
       " 'NSW41': 'PSID134',\n",
       " 'NSW42': 'PSID125',\n",
       " 'NSW43': 'PSID20',\n",
       " 'NSW44': 'PSID152',\n",
       " 'NSW45': 'PSID238',\n",
       " 'NSW46': 'PSID426',\n",
       " 'NSW47': 'PSID308',\n",
       " 'NSW48': 'PSID14',\n",
       " 'NSW49': 'PSID306',\n",
       " 'NSW5': 'PSID36',\n",
       " 'NSW50': 'PSID57',\n",
       " 'NSW51': 'PSID150',\n",
       " 'NSW52': 'PSID330',\n",
       " 'NSW53': 'PSID317',\n",
       " 'NSW54': 'PSID374',\n",
       " 'NSW55': 'PSID51',\n",
       " 'NSW56': 'PSID175',\n",
       " 'NSW57': 'PSID315',\n",
       " 'NSW58': 'PSID93',\n",
       " 'NSW59': 'PSID219',\n",
       " 'NSW6': 'PSID333',\n",
       " 'NSW60': 'PSID263',\n",
       " 'NSW61': 'PSID359',\n",
       " 'NSW62': 'PSID288',\n",
       " 'NSW63': 'PSID120',\n",
       " 'NSW64': 'PSID164',\n",
       " 'NSW65': 'PSID248',\n",
       " 'NSW66': 'PSID282',\n",
       " 'NSW67': 'PSID21',\n",
       " 'NSW68': 'PSID137',\n",
       " 'NSW69': 'PSID2',\n",
       " 'NSW7': 'PSID418',\n",
       " 'NSW70': 'PSID145',\n",
       " 'NSW71': 'PSID178',\n",
       " 'NSW72': 'PSID240',\n",
       " 'NSW73': 'PSID122',\n",
       " 'NSW74': 'PSID11',\n",
       " 'NSW75': 'PSID285',\n",
       " 'NSW76': 'PSID31',\n",
       " 'NSW77': 'PSID34',\n",
       " 'NSW78': 'PSID363',\n",
       " 'NSW79': 'PSID343',\n",
       " 'NSW8': 'PSID49',\n",
       " 'NSW80': 'PSID364',\n",
       " 'NSW81': 'PSID138',\n",
       " 'NSW82': 'PSID280',\n",
       " 'NSW83': 'PSID58',\n",
       " 'NSW84': 'PSID59',\n",
       " 'NSW85': 'PSID121',\n",
       " 'NSW86': 'PSID350',\n",
       " 'NSW87': 'PSID38',\n",
       " 'NSW88': 'PSID391',\n",
       " 'NSW89': 'PSID356',\n",
       " 'NSW9': 'PSID215',\n",
       " 'NSW90': 'PSID249',\n",
       " 'NSW91': 'PSID88',\n",
       " 'NSW92': 'PSID190',\n",
       " 'NSW93': 'PSID183',\n",
       " 'NSW94': 'PSID411',\n",
       " 'NSW95': 'PSID347',\n",
       " 'NSW96': 'PSID7',\n",
       " 'NSW97': 'PSID276',\n",
       " 'NSW98': 'PSID29',\n",
       " 'NSW99': 'PSID141'}"
      ]
     },
     "execution_count": 45,
     "metadata": {},
     "output_type": "execute_result"
    }
   ],
   "source": [
    "matches_dict2"
   ]
  },
  {
   "cell_type": "markdown",
   "metadata": {},
   "source": [
    "So far, we already have a dictionary with the matches with minimize the cost, this is, the sum (over all matched pairs) of absolute propensity-score differences between the two matched subjects. Now we create a new df with these values for each group and analyse them:"
   ]
  },
  {
   "cell_type": "code",
   "execution_count": 46,
   "metadata": {
    "collapsed": true
   },
   "outputs": [],
   "source": [
    "matched_subjects = df[df['id'].isin(matches_dict2)]\n",
    "\n",
    "#create df for each feature\n",
    "matched_treated = matched_subjects[(matched_subjects['treat'] == 1)]\n",
    "matched_control = matched_subjects[(matched_subjects['treat'] == 0)]"
   ]
  },
  {
   "cell_type": "code",
   "execution_count": 47,
   "metadata": {
    "collapsed": true
   },
   "outputs": [],
   "source": [
    "matched_treated = df[df.id.apply(lambda x: x in matches_dict2.values())]"
   ]
  },
  {
   "cell_type": "code",
   "execution_count": 48,
   "metadata": {},
   "outputs": [
    {
     "data": {
      "text/html": [
       "<div>\n",
       "<style>\n",
       "    .dataframe thead tr:only-child th {\n",
       "        text-align: right;\n",
       "    }\n",
       "\n",
       "    .dataframe thead th {\n",
       "        text-align: left;\n",
       "    }\n",
       "\n",
       "    .dataframe tbody tr th {\n",
       "        vertical-align: top;\n",
       "    }\n",
       "</style>\n",
       "<table border=\"1\" class=\"dataframe\">\n",
       "  <thead>\n",
       "    <tr style=\"text-align: right;\">\n",
       "      <th></th>\n",
       "      <th>id</th>\n",
       "      <th>treat</th>\n",
       "      <th>age</th>\n",
       "      <th>educ</th>\n",
       "      <th>black</th>\n",
       "      <th>hispan</th>\n",
       "      <th>married</th>\n",
       "      <th>nodegree</th>\n",
       "      <th>re74</th>\n",
       "      <th>re75</th>\n",
       "      <th>re78</th>\n",
       "      <th>probability_treat</th>\n",
       "    </tr>\n",
       "  </thead>\n",
       "  <tbody>\n",
       "    <tr>\n",
       "      <th>186</th>\n",
       "      <td>PSID2</td>\n",
       "      <td>0</td>\n",
       "      <td>26</td>\n",
       "      <td>12</td>\n",
       "      <td>0</td>\n",
       "      <td>0</td>\n",
       "      <td>1</td>\n",
       "      <td>0</td>\n",
       "      <td>25862.3200</td>\n",
       "      <td>17806.550</td>\n",
       "      <td>25564.670</td>\n",
       "      <td>0.953584</td>\n",
       "    </tr>\n",
       "    <tr>\n",
       "      <th>188</th>\n",
       "      <td>PSID4</td>\n",
       "      <td>0</td>\n",
       "      <td>42</td>\n",
       "      <td>11</td>\n",
       "      <td>0</td>\n",
       "      <td>0</td>\n",
       "      <td>1</td>\n",
       "      <td>1</td>\n",
       "      <td>21787.0500</td>\n",
       "      <td>14265.290</td>\n",
       "      <td>15491.010</td>\n",
       "      <td>0.967729</td>\n",
       "    </tr>\n",
       "    <tr>\n",
       "      <th>189</th>\n",
       "      <td>PSID5</td>\n",
       "      <td>0</td>\n",
       "      <td>25</td>\n",
       "      <td>9</td>\n",
       "      <td>1</td>\n",
       "      <td>0</td>\n",
       "      <td>1</td>\n",
       "      <td>1</td>\n",
       "      <td>14829.6900</td>\n",
       "      <td>13776.530</td>\n",
       "      <td>0.000</td>\n",
       "      <td>0.625627</td>\n",
       "    </tr>\n",
       "    <tr>\n",
       "      <th>191</th>\n",
       "      <td>PSID7</td>\n",
       "      <td>0</td>\n",
       "      <td>32</td>\n",
       "      <td>12</td>\n",
       "      <td>0</td>\n",
       "      <td>0</td>\n",
       "      <td>1</td>\n",
       "      <td>0</td>\n",
       "      <td>19067.5800</td>\n",
       "      <td>12625.350</td>\n",
       "      <td>14146.280</td>\n",
       "      <td>0.958208</td>\n",
       "    </tr>\n",
       "    <tr>\n",
       "      <th>192</th>\n",
       "      <td>PSID8</td>\n",
       "      <td>0</td>\n",
       "      <td>20</td>\n",
       "      <td>12</td>\n",
       "      <td>1</td>\n",
       "      <td>0</td>\n",
       "      <td>0</td>\n",
       "      <td>0</td>\n",
       "      <td>7392.3140</td>\n",
       "      <td>12396.190</td>\n",
       "      <td>17765.230</td>\n",
       "      <td>0.250442</td>\n",
       "    </tr>\n",
       "    <tr>\n",
       "      <th>195</th>\n",
       "      <td>PSID11</td>\n",
       "      <td>0</td>\n",
       "      <td>41</td>\n",
       "      <td>5</td>\n",
       "      <td>0</td>\n",
       "      <td>0</td>\n",
       "      <td>1</td>\n",
       "      <td>1</td>\n",
       "      <td>10785.7600</td>\n",
       "      <td>11991.580</td>\n",
       "      <td>19451.310</td>\n",
       "      <td>0.887715</td>\n",
       "    </tr>\n",
       "    <tr>\n",
       "      <th>198</th>\n",
       "      <td>PSID14</td>\n",
       "      <td>0</td>\n",
       "      <td>29</td>\n",
       "      <td>12</td>\n",
       "      <td>0</td>\n",
       "      <td>0</td>\n",
       "      <td>1</td>\n",
       "      <td>0</td>\n",
       "      <td>14768.9500</td>\n",
       "      <td>11146.550</td>\n",
       "      <td>6420.722</td>\n",
       "      <td>0.953555</td>\n",
       "    </tr>\n",
       "    <tr>\n",
       "      <th>204</th>\n",
       "      <td>PSID20</td>\n",
       "      <td>0</td>\n",
       "      <td>35</td>\n",
       "      <td>9</td>\n",
       "      <td>0</td>\n",
       "      <td>0</td>\n",
       "      <td>1</td>\n",
       "      <td>1</td>\n",
       "      <td>11475.4300</td>\n",
       "      <td>9397.403</td>\n",
       "      <td>11087.380</td>\n",
       "      <td>0.935741</td>\n",
       "    </tr>\n",
       "    <tr>\n",
       "      <th>205</th>\n",
       "      <td>PSID21</td>\n",
       "      <td>0</td>\n",
       "      <td>27</td>\n",
       "      <td>10</td>\n",
       "      <td>0</td>\n",
       "      <td>1</td>\n",
       "      <td>1</td>\n",
       "      <td>1</td>\n",
       "      <td>15711.3600</td>\n",
       "      <td>9098.419</td>\n",
       "      <td>17023.410</td>\n",
       "      <td>0.956666</td>\n",
       "    </tr>\n",
       "    <tr>\n",
       "      <th>207</th>\n",
       "      <td>PSID23</td>\n",
       "      <td>0</td>\n",
       "      <td>36</td>\n",
       "      <td>12</td>\n",
       "      <td>0</td>\n",
       "      <td>0</td>\n",
       "      <td>1</td>\n",
       "      <td>0</td>\n",
       "      <td>25535.1200</td>\n",
       "      <td>8695.597</td>\n",
       "      <td>21905.820</td>\n",
       "      <td>0.974599</td>\n",
       "    </tr>\n",
       "    <tr>\n",
       "      <th>208</th>\n",
       "      <td>PSID24</td>\n",
       "      <td>0</td>\n",
       "      <td>47</td>\n",
       "      <td>8</td>\n",
       "      <td>1</td>\n",
       "      <td>0</td>\n",
       "      <td>1</td>\n",
       "      <td>1</td>\n",
       "      <td>9275.1690</td>\n",
       "      <td>8543.419</td>\n",
       "      <td>0.000</td>\n",
       "      <td>0.650591</td>\n",
       "    </tr>\n",
       "    <tr>\n",
       "      <th>211</th>\n",
       "      <td>PSID27</td>\n",
       "      <td>0</td>\n",
       "      <td>36</td>\n",
       "      <td>9</td>\n",
       "      <td>1</td>\n",
       "      <td>0</td>\n",
       "      <td>1</td>\n",
       "      <td>1</td>\n",
       "      <td>13256.4000</td>\n",
       "      <td>8457.484</td>\n",
       "      <td>0.000</td>\n",
       "      <td>0.692925</td>\n",
       "    </tr>\n",
       "    <tr>\n",
       "      <th>212</th>\n",
       "      <td>PSID28</td>\n",
       "      <td>0</td>\n",
       "      <td>39</td>\n",
       "      <td>6</td>\n",
       "      <td>0</td>\n",
       "      <td>1</td>\n",
       "      <td>1</td>\n",
       "      <td>1</td>\n",
       "      <td>13279.9100</td>\n",
       "      <td>8441.371</td>\n",
       "      <td>25048.940</td>\n",
       "      <td>0.931302</td>\n",
       "    </tr>\n",
       "    <tr>\n",
       "      <th>213</th>\n",
       "      <td>PSID29</td>\n",
       "      <td>0</td>\n",
       "      <td>21</td>\n",
       "      <td>9</td>\n",
       "      <td>0</td>\n",
       "      <td>0</td>\n",
       "      <td>1</td>\n",
       "      <td>1</td>\n",
       "      <td>11156.0700</td>\n",
       "      <td>8441.371</td>\n",
       "      <td>1213.214</td>\n",
       "      <td>0.936970</td>\n",
       "    </tr>\n",
       "    <tr>\n",
       "      <th>214</th>\n",
       "      <td>PSID30</td>\n",
       "      <td>0</td>\n",
       "      <td>29</td>\n",
       "      <td>12</td>\n",
       "      <td>0</td>\n",
       "      <td>0</td>\n",
       "      <td>1</td>\n",
       "      <td>0</td>\n",
       "      <td>11199.1700</td>\n",
       "      <td>8081.516</td>\n",
       "      <td>0.000</td>\n",
       "      <td>0.954833</td>\n",
       "    </tr>\n",
       "    <tr>\n",
       "      <th>215</th>\n",
       "      <td>PSID31</td>\n",
       "      <td>0</td>\n",
       "      <td>22</td>\n",
       "      <td>13</td>\n",
       "      <td>0</td>\n",
       "      <td>1</td>\n",
       "      <td>0</td>\n",
       "      <td>0</td>\n",
       "      <td>6404.8430</td>\n",
       "      <td>7882.790</td>\n",
       "      <td>9453.017</td>\n",
       "      <td>0.876309</td>\n",
       "    </tr>\n",
       "    <tr>\n",
       "      <th>217</th>\n",
       "      <td>PSID33</td>\n",
       "      <td>0</td>\n",
       "      <td>27</td>\n",
       "      <td>12</td>\n",
       "      <td>0</td>\n",
       "      <td>0</td>\n",
       "      <td>1</td>\n",
       "      <td>0</td>\n",
       "      <td>12270.8900</td>\n",
       "      <td>7709.129</td>\n",
       "      <td>7806.829</td>\n",
       "      <td>0.948879</td>\n",
       "    </tr>\n",
       "    <tr>\n",
       "      <th>218</th>\n",
       "      <td>PSID34</td>\n",
       "      <td>0</td>\n",
       "      <td>45</td>\n",
       "      <td>8</td>\n",
       "      <td>0</td>\n",
       "      <td>0</td>\n",
       "      <td>1</td>\n",
       "      <td>1</td>\n",
       "      <td>22415.9700</td>\n",
       "      <td>7635.726</td>\n",
       "      <td>15931.370</td>\n",
       "      <td>0.970941</td>\n",
       "    </tr>\n",
       "    <tr>\n",
       "      <th>219</th>\n",
       "      <td>PSID35</td>\n",
       "      <td>0</td>\n",
       "      <td>26</td>\n",
       "      <td>12</td>\n",
       "      <td>0</td>\n",
       "      <td>0</td>\n",
       "      <td>1</td>\n",
       "      <td>0</td>\n",
       "      <td>2345.2420</td>\n",
       "      <td>7565.903</td>\n",
       "      <td>2838.713</td>\n",
       "      <td>0.910011</td>\n",
       "    </tr>\n",
       "    <tr>\n",
       "      <th>220</th>\n",
       "      <td>PSID36</td>\n",
       "      <td>0</td>\n",
       "      <td>27</td>\n",
       "      <td>12</td>\n",
       "      <td>0</td>\n",
       "      <td>0</td>\n",
       "      <td>1</td>\n",
       "      <td>0</td>\n",
       "      <td>9788.4970</td>\n",
       "      <td>7496.081</td>\n",
       "      <td>14038.400</td>\n",
       "      <td>0.930830</td>\n",
       "    </tr>\n",
       "    <tr>\n",
       "      <th>221</th>\n",
       "      <td>PSID37</td>\n",
       "      <td>0</td>\n",
       "      <td>33</td>\n",
       "      <td>8</td>\n",
       "      <td>0</td>\n",
       "      <td>0</td>\n",
       "      <td>1</td>\n",
       "      <td>1</td>\n",
       "      <td>12312.0300</td>\n",
       "      <td>7474.597</td>\n",
       "      <td>25514.430</td>\n",
       "      <td>0.912925</td>\n",
       "    </tr>\n",
       "    <tr>\n",
       "      <th>222</th>\n",
       "      <td>PSID38</td>\n",
       "      <td>0</td>\n",
       "      <td>25</td>\n",
       "      <td>12</td>\n",
       "      <td>0</td>\n",
       "      <td>0</td>\n",
       "      <td>1</td>\n",
       "      <td>0</td>\n",
       "      <td>11381.3800</td>\n",
       "      <td>7467.435</td>\n",
       "      <td>4162.756</td>\n",
       "      <td>0.948914</td>\n",
       "    </tr>\n",
       "    <tr>\n",
       "      <th>223</th>\n",
       "      <td>PSID39</td>\n",
       "      <td>0</td>\n",
       "      <td>49</td>\n",
       "      <td>8</td>\n",
       "      <td>0</td>\n",
       "      <td>0</td>\n",
       "      <td>1</td>\n",
       "      <td>1</td>\n",
       "      <td>6459.7030</td>\n",
       "      <td>7431.629</td>\n",
       "      <td>7503.896</td>\n",
       "      <td>0.933215</td>\n",
       "    </tr>\n",
       "    <tr>\n",
       "      <th>224</th>\n",
       "      <td>PSID40</td>\n",
       "      <td>0</td>\n",
       "      <td>40</td>\n",
       "      <td>3</td>\n",
       "      <td>0</td>\n",
       "      <td>1</td>\n",
       "      <td>1</td>\n",
       "      <td>1</td>\n",
       "      <td>7576.4850</td>\n",
       "      <td>7426.258</td>\n",
       "      <td>12104.060</td>\n",
       "      <td>0.909560</td>\n",
       "    </tr>\n",
       "    <tr>\n",
       "      <th>226</th>\n",
       "      <td>PSID42</td>\n",
       "      <td>0</td>\n",
       "      <td>25</td>\n",
       "      <td>5</td>\n",
       "      <td>0</td>\n",
       "      <td>0</td>\n",
       "      <td>1</td>\n",
       "      <td>1</td>\n",
       "      <td>7891.9270</td>\n",
       "      <td>7293.774</td>\n",
       "      <td>14617.670</td>\n",
       "      <td>0.870587</td>\n",
       "    </tr>\n",
       "    <tr>\n",
       "      <th>229</th>\n",
       "      <td>PSID45</td>\n",
       "      <td>0</td>\n",
       "      <td>33</td>\n",
       "      <td>9</td>\n",
       "      <td>0</td>\n",
       "      <td>1</td>\n",
       "      <td>1</td>\n",
       "      <td>1</td>\n",
       "      <td>11959.3600</td>\n",
       "      <td>7087.887</td>\n",
       "      <td>25564.670</td>\n",
       "      <td>0.937997</td>\n",
       "    </tr>\n",
       "    <tr>\n",
       "      <th>231</th>\n",
       "      <td>PSID47</td>\n",
       "      <td>0</td>\n",
       "      <td>19</td>\n",
       "      <td>11</td>\n",
       "      <td>0</td>\n",
       "      <td>0</td>\n",
       "      <td>1</td>\n",
       "      <td>1</td>\n",
       "      <td>4306.4680</td>\n",
       "      <td>6978.677</td>\n",
       "      <td>837.871</td>\n",
       "      <td>0.918054</td>\n",
       "    </tr>\n",
       "    <tr>\n",
       "      <th>233</th>\n",
       "      <td>PSID49</td>\n",
       "      <td>0</td>\n",
       "      <td>29</td>\n",
       "      <td>12</td>\n",
       "      <td>0</td>\n",
       "      <td>0</td>\n",
       "      <td>1</td>\n",
       "      <td>0</td>\n",
       "      <td>15303.8300</td>\n",
       "      <td>6932.129</td>\n",
       "      <td>24290.870</td>\n",
       "      <td>0.943055</td>\n",
       "    </tr>\n",
       "    <tr>\n",
       "      <th>235</th>\n",
       "      <td>PSID51</td>\n",
       "      <td>0</td>\n",
       "      <td>29</td>\n",
       "      <td>6</td>\n",
       "      <td>0</td>\n",
       "      <td>1</td>\n",
       "      <td>1</td>\n",
       "      <td>1</td>\n",
       "      <td>8542.4030</td>\n",
       "      <td>6701.177</td>\n",
       "      <td>7196.528</td>\n",
       "      <td>0.931075</td>\n",
       "    </tr>\n",
       "    <tr>\n",
       "      <th>239</th>\n",
       "      <td>PSID55</td>\n",
       "      <td>0</td>\n",
       "      <td>33</td>\n",
       "      <td>12</td>\n",
       "      <td>0</td>\n",
       "      <td>0</td>\n",
       "      <td>1</td>\n",
       "      <td>0</td>\n",
       "      <td>10819.0700</td>\n",
       "      <td>6369.968</td>\n",
       "      <td>2936.243</td>\n",
       "      <td>0.956620</td>\n",
       "    </tr>\n",
       "    <tr>\n",
       "      <th>...</th>\n",
       "      <td>...</td>\n",
       "      <td>...</td>\n",
       "      <td>...</td>\n",
       "      <td>...</td>\n",
       "      <td>...</td>\n",
       "      <td>...</td>\n",
       "      <td>...</td>\n",
       "      <td>...</td>\n",
       "      <td>...</td>\n",
       "      <td>...</td>\n",
       "      <td>...</td>\n",
       "      <td>...</td>\n",
       "    </tr>\n",
       "    <tr>\n",
       "      <th>543</th>\n",
       "      <td>PSID359</td>\n",
       "      <td>0</td>\n",
       "      <td>21</td>\n",
       "      <td>11</td>\n",
       "      <td>0</td>\n",
       "      <td>0</td>\n",
       "      <td>1</td>\n",
       "      <td>1</td>\n",
       "      <td>246.8676</td>\n",
       "      <td>0.000</td>\n",
       "      <td>6708.879</td>\n",
       "      <td>0.909946</td>\n",
       "    </tr>\n",
       "    <tr>\n",
       "      <th>547</th>\n",
       "      <td>PSID363</td>\n",
       "      <td>0</td>\n",
       "      <td>54</td>\n",
       "      <td>12</td>\n",
       "      <td>0</td>\n",
       "      <td>0</td>\n",
       "      <td>1</td>\n",
       "      <td>0</td>\n",
       "      <td>0.0000</td>\n",
       "      <td>0.000</td>\n",
       "      <td>0.000</td>\n",
       "      <td>0.953082</td>\n",
       "    </tr>\n",
       "    <tr>\n",
       "      <th>548</th>\n",
       "      <td>PSID364</td>\n",
       "      <td>0</td>\n",
       "      <td>50</td>\n",
       "      <td>12</td>\n",
       "      <td>0</td>\n",
       "      <td>0</td>\n",
       "      <td>1</td>\n",
       "      <td>0</td>\n",
       "      <td>0.0000</td>\n",
       "      <td>0.000</td>\n",
       "      <td>0.000</td>\n",
       "      <td>0.949959</td>\n",
       "    </tr>\n",
       "    <tr>\n",
       "      <th>551</th>\n",
       "      <td>PSID367</td>\n",
       "      <td>0</td>\n",
       "      <td>18</td>\n",
       "      <td>10</td>\n",
       "      <td>1</td>\n",
       "      <td>0</td>\n",
       "      <td>0</td>\n",
       "      <td>1</td>\n",
       "      <td>0.0000</td>\n",
       "      <td>0.000</td>\n",
       "      <td>2281.610</td>\n",
       "      <td>0.301742</td>\n",
       "    </tr>\n",
       "    <tr>\n",
       "      <th>554</th>\n",
       "      <td>PSID370</td>\n",
       "      <td>0</td>\n",
       "      <td>16</td>\n",
       "      <td>9</td>\n",
       "      <td>1</td>\n",
       "      <td>0</td>\n",
       "      <td>0</td>\n",
       "      <td>1</td>\n",
       "      <td>0.0000</td>\n",
       "      <td>0.000</td>\n",
       "      <td>2158.959</td>\n",
       "      <td>0.277481</td>\n",
       "    </tr>\n",
       "    <tr>\n",
       "      <th>555</th>\n",
       "      <td>PSID371</td>\n",
       "      <td>0</td>\n",
       "      <td>26</td>\n",
       "      <td>14</td>\n",
       "      <td>0</td>\n",
       "      <td>0</td>\n",
       "      <td>0</td>\n",
       "      <td>0</td>\n",
       "      <td>0.0000</td>\n",
       "      <td>0.000</td>\n",
       "      <td>6717.745</td>\n",
       "      <td>0.853733</td>\n",
       "    </tr>\n",
       "    <tr>\n",
       "      <th>556</th>\n",
       "      <td>PSID372</td>\n",
       "      <td>0</td>\n",
       "      <td>20</td>\n",
       "      <td>9</td>\n",
       "      <td>1</td>\n",
       "      <td>0</td>\n",
       "      <td>0</td>\n",
       "      <td>1</td>\n",
       "      <td>0.0000</td>\n",
       "      <td>0.000</td>\n",
       "      <td>6083.800</td>\n",
       "      <td>0.271984</td>\n",
       "    </tr>\n",
       "    <tr>\n",
       "      <th>558</th>\n",
       "      <td>PSID374</td>\n",
       "      <td>0</td>\n",
       "      <td>18</td>\n",
       "      <td>11</td>\n",
       "      <td>1</td>\n",
       "      <td>0</td>\n",
       "      <td>0</td>\n",
       "      <td>1</td>\n",
       "      <td>0.0000</td>\n",
       "      <td>0.000</td>\n",
       "      <td>0.000</td>\n",
       "      <td>0.332585</td>\n",
       "    </tr>\n",
       "    <tr>\n",
       "      <th>563</th>\n",
       "      <td>PSID379</td>\n",
       "      <td>0</td>\n",
       "      <td>33</td>\n",
       "      <td>12</td>\n",
       "      <td>0</td>\n",
       "      <td>1</td>\n",
       "      <td>1</td>\n",
       "      <td>0</td>\n",
       "      <td>0.0000</td>\n",
       "      <td>0.000</td>\n",
       "      <td>5841.453</td>\n",
       "      <td>0.942871</td>\n",
       "    </tr>\n",
       "    <tr>\n",
       "      <th>565</th>\n",
       "      <td>PSID381</td>\n",
       "      <td>0</td>\n",
       "      <td>21</td>\n",
       "      <td>13</td>\n",
       "      <td>1</td>\n",
       "      <td>0</td>\n",
       "      <td>0</td>\n",
       "      <td>0</td>\n",
       "      <td>0.0000</td>\n",
       "      <td>0.000</td>\n",
       "      <td>17941.080</td>\n",
       "      <td>0.268975</td>\n",
       "    </tr>\n",
       "    <tr>\n",
       "      <th>566</th>\n",
       "      <td>PSID382</td>\n",
       "      <td>0</td>\n",
       "      <td>29</td>\n",
       "      <td>11</td>\n",
       "      <td>0</td>\n",
       "      <td>0</td>\n",
       "      <td>1</td>\n",
       "      <td>1</td>\n",
       "      <td>0.0000</td>\n",
       "      <td>0.000</td>\n",
       "      <td>0.000</td>\n",
       "      <td>0.930443</td>\n",
       "    </tr>\n",
       "    <tr>\n",
       "      <th>568</th>\n",
       "      <td>PSID384</td>\n",
       "      <td>0</td>\n",
       "      <td>31</td>\n",
       "      <td>4</td>\n",
       "      <td>0</td>\n",
       "      <td>1</td>\n",
       "      <td>0</td>\n",
       "      <td>1</td>\n",
       "      <td>0.0000</td>\n",
       "      <td>0.000</td>\n",
       "      <td>1161.493</td>\n",
       "      <td>0.816858</td>\n",
       "    </tr>\n",
       "    <tr>\n",
       "      <th>569</th>\n",
       "      <td>PSID385</td>\n",
       "      <td>0</td>\n",
       "      <td>19</td>\n",
       "      <td>12</td>\n",
       "      <td>0</td>\n",
       "      <td>1</td>\n",
       "      <td>0</td>\n",
       "      <td>0</td>\n",
       "      <td>0.0000</td>\n",
       "      <td>0.000</td>\n",
       "      <td>18573.550</td>\n",
       "      <td>0.813560</td>\n",
       "    </tr>\n",
       "    <tr>\n",
       "      <th>572</th>\n",
       "      <td>PSID388</td>\n",
       "      <td>0</td>\n",
       "      <td>19</td>\n",
       "      <td>11</td>\n",
       "      <td>1</td>\n",
       "      <td>0</td>\n",
       "      <td>0</td>\n",
       "      <td>1</td>\n",
       "      <td>0.0000</td>\n",
       "      <td>0.000</td>\n",
       "      <td>16485.520</td>\n",
       "      <td>0.253518</td>\n",
       "    </tr>\n",
       "    <tr>\n",
       "      <th>575</th>\n",
       "      <td>PSID391</td>\n",
       "      <td>0</td>\n",
       "      <td>16</td>\n",
       "      <td>9</td>\n",
       "      <td>0</td>\n",
       "      <td>1</td>\n",
       "      <td>1</td>\n",
       "      <td>1</td>\n",
       "      <td>0.0000</td>\n",
       "      <td>0.000</td>\n",
       "      <td>6821.186</td>\n",
       "      <td>0.910790</td>\n",
       "    </tr>\n",
       "    <tr>\n",
       "      <th>576</th>\n",
       "      <td>PSID392</td>\n",
       "      <td>0</td>\n",
       "      <td>17</td>\n",
       "      <td>10</td>\n",
       "      <td>1</td>\n",
       "      <td>0</td>\n",
       "      <td>0</td>\n",
       "      <td>1</td>\n",
       "      <td>0.0000</td>\n",
       "      <td>0.000</td>\n",
       "      <td>0.000</td>\n",
       "      <td>0.309911</td>\n",
       "    </tr>\n",
       "    <tr>\n",
       "      <th>578</th>\n",
       "      <td>PSID394</td>\n",
       "      <td>0</td>\n",
       "      <td>34</td>\n",
       "      <td>8</td>\n",
       "      <td>0</td>\n",
       "      <td>0</td>\n",
       "      <td>1</td>\n",
       "      <td>1</td>\n",
       "      <td>0.0000</td>\n",
       "      <td>0.000</td>\n",
       "      <td>2664.341</td>\n",
       "      <td>0.913108</td>\n",
       "    </tr>\n",
       "    <tr>\n",
       "      <th>579</th>\n",
       "      <td>PSID395</td>\n",
       "      <td>0</td>\n",
       "      <td>53</td>\n",
       "      <td>12</td>\n",
       "      <td>0</td>\n",
       "      <td>0</td>\n",
       "      <td>0</td>\n",
       "      <td>0</td>\n",
       "      <td>0.0000</td>\n",
       "      <td>0.000</td>\n",
       "      <td>0.000</td>\n",
       "      <td>0.901170</td>\n",
       "    </tr>\n",
       "    <tr>\n",
       "      <th>581</th>\n",
       "      <td>PSID397</td>\n",
       "      <td>0</td>\n",
       "      <td>16</td>\n",
       "      <td>9</td>\n",
       "      <td>0</td>\n",
       "      <td>0</td>\n",
       "      <td>0</td>\n",
       "      <td>1</td>\n",
       "      <td>0.0000</td>\n",
       "      <td>0.000</td>\n",
       "      <td>6494.608</td>\n",
       "      <td>0.778583</td>\n",
       "    </tr>\n",
       "    <tr>\n",
       "      <th>582</th>\n",
       "      <td>PSID398</td>\n",
       "      <td>0</td>\n",
       "      <td>17</td>\n",
       "      <td>8</td>\n",
       "      <td>1</td>\n",
       "      <td>0</td>\n",
       "      <td>0</td>\n",
       "      <td>1</td>\n",
       "      <td>0.0000</td>\n",
       "      <td>0.000</td>\n",
       "      <td>4520.366</td>\n",
       "      <td>0.252656</td>\n",
       "    </tr>\n",
       "    <tr>\n",
       "      <th>584</th>\n",
       "      <td>PSID400</td>\n",
       "      <td>0</td>\n",
       "      <td>37</td>\n",
       "      <td>8</td>\n",
       "      <td>1</td>\n",
       "      <td>0</td>\n",
       "      <td>0</td>\n",
       "      <td>1</td>\n",
       "      <td>0.0000</td>\n",
       "      <td>0.000</td>\n",
       "      <td>648.722</td>\n",
       "      <td>0.342573</td>\n",
       "    </tr>\n",
       "    <tr>\n",
       "      <th>586</th>\n",
       "      <td>PSID402</td>\n",
       "      <td>0</td>\n",
       "      <td>16</td>\n",
       "      <td>8</td>\n",
       "      <td>0</td>\n",
       "      <td>0</td>\n",
       "      <td>0</td>\n",
       "      <td>1</td>\n",
       "      <td>0.0000</td>\n",
       "      <td>0.000</td>\n",
       "      <td>0.000</td>\n",
       "      <td>0.790519</td>\n",
       "    </tr>\n",
       "    <tr>\n",
       "      <th>590</th>\n",
       "      <td>PSID406</td>\n",
       "      <td>0</td>\n",
       "      <td>16</td>\n",
       "      <td>10</td>\n",
       "      <td>1</td>\n",
       "      <td>0</td>\n",
       "      <td>0</td>\n",
       "      <td>1</td>\n",
       "      <td>0.0000</td>\n",
       "      <td>0.000</td>\n",
       "      <td>1730.418</td>\n",
       "      <td>0.297446</td>\n",
       "    </tr>\n",
       "    <tr>\n",
       "      <th>592</th>\n",
       "      <td>PSID408</td>\n",
       "      <td>0</td>\n",
       "      <td>46</td>\n",
       "      <td>11</td>\n",
       "      <td>1</td>\n",
       "      <td>0</td>\n",
       "      <td>1</td>\n",
       "      <td>1</td>\n",
       "      <td>0.0000</td>\n",
       "      <td>0.000</td>\n",
       "      <td>0.000</td>\n",
       "      <td>0.636831</td>\n",
       "    </tr>\n",
       "    <tr>\n",
       "      <th>595</th>\n",
       "      <td>PSID411</td>\n",
       "      <td>0</td>\n",
       "      <td>18</td>\n",
       "      <td>10</td>\n",
       "      <td>1</td>\n",
       "      <td>0</td>\n",
       "      <td>0</td>\n",
       "      <td>1</td>\n",
       "      <td>0.0000</td>\n",
       "      <td>0.000</td>\n",
       "      <td>5306.516</td>\n",
       "      <td>0.286494</td>\n",
       "    </tr>\n",
       "    <tr>\n",
       "      <th>600</th>\n",
       "      <td>PSID416</td>\n",
       "      <td>0</td>\n",
       "      <td>34</td>\n",
       "      <td>12</td>\n",
       "      <td>1</td>\n",
       "      <td>0</td>\n",
       "      <td>0</td>\n",
       "      <td>0</td>\n",
       "      <td>0.0000</td>\n",
       "      <td>0.000</td>\n",
       "      <td>0.000</td>\n",
       "      <td>0.393861</td>\n",
       "    </tr>\n",
       "    <tr>\n",
       "      <th>602</th>\n",
       "      <td>PSID418</td>\n",
       "      <td>0</td>\n",
       "      <td>27</td>\n",
       "      <td>12</td>\n",
       "      <td>0</td>\n",
       "      <td>0</td>\n",
       "      <td>1</td>\n",
       "      <td>0</td>\n",
       "      <td>0.0000</td>\n",
       "      <td>0.000</td>\n",
       "      <td>1533.880</td>\n",
       "      <td>0.925318</td>\n",
       "    </tr>\n",
       "    <tr>\n",
       "      <th>605</th>\n",
       "      <td>PSID421</td>\n",
       "      <td>0</td>\n",
       "      <td>55</td>\n",
       "      <td>8</td>\n",
       "      <td>0</td>\n",
       "      <td>0</td>\n",
       "      <td>1</td>\n",
       "      <td>1</td>\n",
       "      <td>0.0000</td>\n",
       "      <td>0.000</td>\n",
       "      <td>0.000</td>\n",
       "      <td>0.941169</td>\n",
       "    </tr>\n",
       "    <tr>\n",
       "      <th>607</th>\n",
       "      <td>PSID423</td>\n",
       "      <td>0</td>\n",
       "      <td>27</td>\n",
       "      <td>10</td>\n",
       "      <td>1</td>\n",
       "      <td>0</td>\n",
       "      <td>0</td>\n",
       "      <td>1</td>\n",
       "      <td>0.0000</td>\n",
       "      <td>0.000</td>\n",
       "      <td>7543.794</td>\n",
       "      <td>0.306948</td>\n",
       "    </tr>\n",
       "    <tr>\n",
       "      <th>610</th>\n",
       "      <td>PSID426</td>\n",
       "      <td>0</td>\n",
       "      <td>24</td>\n",
       "      <td>1</td>\n",
       "      <td>0</td>\n",
       "      <td>1</td>\n",
       "      <td>1</td>\n",
       "      <td>1</td>\n",
       "      <td>0.0000</td>\n",
       "      <td>0.000</td>\n",
       "      <td>19464.610</td>\n",
       "      <td>0.810766</td>\n",
       "    </tr>\n",
       "  </tbody>\n",
       "</table>\n",
       "<p>185 rows × 12 columns</p>\n",
       "</div>"
      ],
      "text/plain": [
       "          id  treat  age  educ  black  hispan  married  nodegree        re74  \\\n",
       "186    PSID2      0   26    12      0       0        1         0  25862.3200   \n",
       "188    PSID4      0   42    11      0       0        1         1  21787.0500   \n",
       "189    PSID5      0   25     9      1       0        1         1  14829.6900   \n",
       "191    PSID7      0   32    12      0       0        1         0  19067.5800   \n",
       "192    PSID8      0   20    12      1       0        0         0   7392.3140   \n",
       "195   PSID11      0   41     5      0       0        1         1  10785.7600   \n",
       "198   PSID14      0   29    12      0       0        1         0  14768.9500   \n",
       "204   PSID20      0   35     9      0       0        1         1  11475.4300   \n",
       "205   PSID21      0   27    10      0       1        1         1  15711.3600   \n",
       "207   PSID23      0   36    12      0       0        1         0  25535.1200   \n",
       "208   PSID24      0   47     8      1       0        1         1   9275.1690   \n",
       "211   PSID27      0   36     9      1       0        1         1  13256.4000   \n",
       "212   PSID28      0   39     6      0       1        1         1  13279.9100   \n",
       "213   PSID29      0   21     9      0       0        1         1  11156.0700   \n",
       "214   PSID30      0   29    12      0       0        1         0  11199.1700   \n",
       "215   PSID31      0   22    13      0       1        0         0   6404.8430   \n",
       "217   PSID33      0   27    12      0       0        1         0  12270.8900   \n",
       "218   PSID34      0   45     8      0       0        1         1  22415.9700   \n",
       "219   PSID35      0   26    12      0       0        1         0   2345.2420   \n",
       "220   PSID36      0   27    12      0       0        1         0   9788.4970   \n",
       "221   PSID37      0   33     8      0       0        1         1  12312.0300   \n",
       "222   PSID38      0   25    12      0       0        1         0  11381.3800   \n",
       "223   PSID39      0   49     8      0       0        1         1   6459.7030   \n",
       "224   PSID40      0   40     3      0       1        1         1   7576.4850   \n",
       "226   PSID42      0   25     5      0       0        1         1   7891.9270   \n",
       "229   PSID45      0   33     9      0       1        1         1  11959.3600   \n",
       "231   PSID47      0   19    11      0       0        1         1   4306.4680   \n",
       "233   PSID49      0   29    12      0       0        1         0  15303.8300   \n",
       "235   PSID51      0   29     6      0       1        1         1   8542.4030   \n",
       "239   PSID55      0   33    12      0       0        1         0  10819.0700   \n",
       "..       ...    ...  ...   ...    ...     ...      ...       ...         ...   \n",
       "543  PSID359      0   21    11      0       0        1         1    246.8676   \n",
       "547  PSID363      0   54    12      0       0        1         0      0.0000   \n",
       "548  PSID364      0   50    12      0       0        1         0      0.0000   \n",
       "551  PSID367      0   18    10      1       0        0         1      0.0000   \n",
       "554  PSID370      0   16     9      1       0        0         1      0.0000   \n",
       "555  PSID371      0   26    14      0       0        0         0      0.0000   \n",
       "556  PSID372      0   20     9      1       0        0         1      0.0000   \n",
       "558  PSID374      0   18    11      1       0        0         1      0.0000   \n",
       "563  PSID379      0   33    12      0       1        1         0      0.0000   \n",
       "565  PSID381      0   21    13      1       0        0         0      0.0000   \n",
       "566  PSID382      0   29    11      0       0        1         1      0.0000   \n",
       "568  PSID384      0   31     4      0       1        0         1      0.0000   \n",
       "569  PSID385      0   19    12      0       1        0         0      0.0000   \n",
       "572  PSID388      0   19    11      1       0        0         1      0.0000   \n",
       "575  PSID391      0   16     9      0       1        1         1      0.0000   \n",
       "576  PSID392      0   17    10      1       0        0         1      0.0000   \n",
       "578  PSID394      0   34     8      0       0        1         1      0.0000   \n",
       "579  PSID395      0   53    12      0       0        0         0      0.0000   \n",
       "581  PSID397      0   16     9      0       0        0         1      0.0000   \n",
       "582  PSID398      0   17     8      1       0        0         1      0.0000   \n",
       "584  PSID400      0   37     8      1       0        0         1      0.0000   \n",
       "586  PSID402      0   16     8      0       0        0         1      0.0000   \n",
       "590  PSID406      0   16    10      1       0        0         1      0.0000   \n",
       "592  PSID408      0   46    11      1       0        1         1      0.0000   \n",
       "595  PSID411      0   18    10      1       0        0         1      0.0000   \n",
       "600  PSID416      0   34    12      1       0        0         0      0.0000   \n",
       "602  PSID418      0   27    12      0       0        1         0      0.0000   \n",
       "605  PSID421      0   55     8      0       0        1         1      0.0000   \n",
       "607  PSID423      0   27    10      1       0        0         1      0.0000   \n",
       "610  PSID426      0   24     1      0       1        1         1      0.0000   \n",
       "\n",
       "          re75       re78  probability_treat  \n",
       "186  17806.550  25564.670           0.953584  \n",
       "188  14265.290  15491.010           0.967729  \n",
       "189  13776.530      0.000           0.625627  \n",
       "191  12625.350  14146.280           0.958208  \n",
       "192  12396.190  17765.230           0.250442  \n",
       "195  11991.580  19451.310           0.887715  \n",
       "198  11146.550   6420.722           0.953555  \n",
       "204   9397.403  11087.380           0.935741  \n",
       "205   9098.419  17023.410           0.956666  \n",
       "207   8695.597  21905.820           0.974599  \n",
       "208   8543.419      0.000           0.650591  \n",
       "211   8457.484      0.000           0.692925  \n",
       "212   8441.371  25048.940           0.931302  \n",
       "213   8441.371   1213.214           0.936970  \n",
       "214   8081.516      0.000           0.954833  \n",
       "215   7882.790   9453.017           0.876309  \n",
       "217   7709.129   7806.829           0.948879  \n",
       "218   7635.726  15931.370           0.970941  \n",
       "219   7565.903   2838.713           0.910011  \n",
       "220   7496.081  14038.400           0.930830  \n",
       "221   7474.597  25514.430           0.912925  \n",
       "222   7467.435   4162.756           0.948914  \n",
       "223   7431.629   7503.896           0.933215  \n",
       "224   7426.258  12104.060           0.909560  \n",
       "226   7293.774  14617.670           0.870587  \n",
       "229   7087.887  25564.670           0.937997  \n",
       "231   6978.677    837.871           0.918054  \n",
       "233   6932.129  24290.870           0.943055  \n",
       "235   6701.177   7196.528           0.931075  \n",
       "239   6369.968   2936.243           0.956620  \n",
       "..         ...        ...                ...  \n",
       "543      0.000   6708.879           0.909946  \n",
       "547      0.000      0.000           0.953082  \n",
       "548      0.000      0.000           0.949959  \n",
       "551      0.000   2281.610           0.301742  \n",
       "554      0.000   2158.959           0.277481  \n",
       "555      0.000   6717.745           0.853733  \n",
       "556      0.000   6083.800           0.271984  \n",
       "558      0.000      0.000           0.332585  \n",
       "563      0.000   5841.453           0.942871  \n",
       "565      0.000  17941.080           0.268975  \n",
       "566      0.000      0.000           0.930443  \n",
       "568      0.000   1161.493           0.816858  \n",
       "569      0.000  18573.550           0.813560  \n",
       "572      0.000  16485.520           0.253518  \n",
       "575      0.000   6821.186           0.910790  \n",
       "576      0.000      0.000           0.309911  \n",
       "578      0.000   2664.341           0.913108  \n",
       "579      0.000      0.000           0.901170  \n",
       "581      0.000   6494.608           0.778583  \n",
       "582      0.000   4520.366           0.252656  \n",
       "584      0.000    648.722           0.342573  \n",
       "586      0.000      0.000           0.790519  \n",
       "590      0.000   1730.418           0.297446  \n",
       "592      0.000      0.000           0.636831  \n",
       "595      0.000   5306.516           0.286494  \n",
       "600      0.000      0.000           0.393861  \n",
       "602      0.000   1533.880           0.925318  \n",
       "605      0.000      0.000           0.941169  \n",
       "607      0.000   7543.794           0.306948  \n",
       "610      0.000  19464.610           0.810766  \n",
       "\n",
       "[185 rows x 12 columns]"
      ]
     },
     "execution_count": 48,
     "metadata": {},
     "output_type": "execute_result"
    }
   ],
   "source": [
    "matched_treated"
   ]
  },
  {
   "cell_type": "markdown",
   "metadata": {},
   "source": [
    "**How is the `real earnings in 1978` difference between the two matched groups?**"
   ]
  },
  {
   "cell_type": "code",
   "execution_count": null,
   "metadata": {},
   "outputs": [],
   "source": [
    "plot_hist(matched_treated, matched_control, ['re78'], range_ = (0,65000), title= 'Real Earnings 1978')"
   ]
  },
  {
   "cell_type": "markdown",
   "metadata": {},
   "source": [
    "We verify that the distribution is now much more similar. In **Question 2**, we concluded that comparing the differences between the real earnings is in fact more meaningful than comparing just the `re78`. Let's visualize if the difference has changed in the same way:"
   ]
  },
  {
   "cell_type": "code",
   "execution_count": null,
   "metadata": {},
   "outputs": [],
   "source": [
    "#add features useful for comparison, already cited above\n",
    "matched_treated['re_PreTreatment']=(matched_treated['re75']+matched_treated['re74'])/2\n",
    "matched_control['re_PreTreatment']=(matched_control['re75']+matched_control['re74'])/2\n",
    "\n",
    "#define improvement\n",
    "matched_treated['improvement']=matched_treated['re78']-matched_treated['re_PreTreatment']\n",
    "matched_control['improvement']=matched_control['re78']-matched_control['re_PreTreatment']\n",
    "\n",
    "plot_hist(matched_treated, matched_control,['re_PreTreatment', 're78'], 'Real Earnings', (0,65000))"
   ]
  },
  {
   "cell_type": "markdown",
   "metadata": {},
   "source": [
    "By observing the histograms above, one can conclude that the difference between both groups is not so striking anymore. But we still check that it's higher in the Treated group."
   ]
  },
  {
   "cell_type": "code",
   "execution_count": null,
   "metadata": {},
   "outputs": [],
   "source": [
    "print('Average improvement in the TREATED group: ', matched_treated.improvement.mean())\n",
    "print('Average improvement in the CONTROL group: ', matched_control.improvement.mean())"
   ]
  },
  {
   "cell_type": "markdown",
   "metadata": {},
   "source": [
    "### 1.5. Balancing the groups further <a class=\"anchor\" id=\"15\"></a>"
   ]
  },
  {
   "cell_type": "markdown",
   "metadata": {},
   "source": [
    "We want to analyse the disparity in each match. For this reson we ceate the following df:"
   ]
  },
  {
   "cell_type": "code",
   "execution_count": null,
   "metadata": {
    "collapsed": true
   },
   "outputs": [],
   "source": [
    "#propensity score match\n",
    "psm = pd.DataFrame()\n",
    "psm['Treated'] = matched_treated['id']\n",
    "psm['Control'] = matched_treated['id'].replace(matches_dict)\n",
    "psm['match_error'] = matched_treated[]"
   ]
  },
  {
   "cell_type": "markdown",
   "metadata": {},
   "source": [
    "### 1.6. A less naive analysis <a class=\"anchor\" id=\"16\"></a>"
   ]
  },
  {
   "cell_type": "markdown",
   "metadata": {},
   "source": [
    "TO THINK ABOUT: WHICH FACTORS CAN INFLUENCE ONE GROUP INSTEAD OF THE OTHER? IS THERE ANY BIAS HERE?\n",
    "    CAN WE CONSIDER THAT PEOPLE WHO TOOK THE JOB TRAINING PROGRAM ARE FROM THE BEGINNING MORE LIKELY TO EARN MORE\n",
    "    SINCE THEY SHOW TO BE MOTIVATED IN SO? - CHECK CAREFULLY WHICH TYPE OF PEOPLE PARTICIPATED IN THE PROGRAM"
   ]
  },
  {
   "cell_type": "markdown",
   "metadata": {},
   "source": [
    "## Task 2. Swiss Unemployment Rates Analysis - *amstat* dataset <a class=\"anchor\" id=\"2\"></a>\n",
    "\n",
    "### Assignment Instructions\n",
    "\n",
    "We are going to build a classifier of news to directly assign them to 20 news categories. Note that the pipeline that you will build in this exercise could be of great help during your project if you plan to work with text!\n",
    "\n",
    "Load the 20newsgroup dataset. It is, again, a classic dataset that can directly be loaded using sklearn (link).\n",
    "TF-IDF, short for term frequency–inverse document frequency, is of great help when if comes to compute textual features. Indeed, it gives more importance to terms that are more specific to the considered articles (TF) but reduces the importance of terms that are very frequent in the entire corpus (IDF). Compute TF-IDF features for every article using TfidfVectorizer. Then, split your dataset into a training, a testing and a validation set (10% for validation and 10% for testing). Each observation should be paired with its corresponding label (the article category).\n",
    "\n",
    "Train a random forest on your training set. Try to fine-tune the parameters of your predictor on your validation set using a simple grid search on the number of estimator \"n_estimators\" and the max depth of the trees \"max_depth\". Then, display a confusion matrix of your classification pipeline. Lastly, once you assessed your model, inspect the feature_importances_ attribute of your random forest and discuss the obtained results.\n",
    "\n",
    "### 2.1. Pick a DataSet to analyse <a class=\"anchor\" id=\"21\"></a>"
   ]
  },
  {
   "cell_type": "markdown",
   "metadata": {},
   "source": [
    "### 2.2. Choropleth map of Cantonal Unemployment Rates  <a class=\"anchor\" id=\"22\"></a>"
   ]
  }
 ],
 "metadata": {
  "anaconda-cloud": {},
  "kernelspec": {
   "display_name": "Python [conda root]",
   "language": "python",
   "name": "conda-root-py"
  },
  "language_info": {
   "codemirror_mode": {
    "name": "ipython",
    "version": 3
   },
   "file_extension": ".py",
   "mimetype": "text/x-python",
   "name": "python",
   "nbconvert_exporter": "python",
   "pygments_lexer": "ipython3",
   "version": "3.6.3"
  }
 },
 "nbformat": 4,
 "nbformat_minor": 2
}
