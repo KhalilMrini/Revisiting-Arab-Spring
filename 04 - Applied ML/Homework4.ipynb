{
 "cells": [
  {
   "cell_type": "markdown",
   "metadata": {},
   "source": [
    "# Homework 4- Table of Contents\n",
    "\n",
    "### [Task 1. Propensity score matching](#1)\n",
    "- [1.1. A naive analysis](#11)\n",
    "\n",
    "- [1.2. A closer look at the data](#12)\n",
    "\n",
    "- [1.3. A propensity score model](#13)\n",
    "\n",
    "- [1.4. Balancing the dataset via matching](#14)\n",
    "\n",
    "- [1.5. Balancing the groups further](#15)\n",
    "\n",
    "- [1.6. A less naive analysis](#14)\n",
    "\n",
    "\n",
    "### [Task 2. Applied ML](#2)\n",
    "- [2.1. Load data](#21)\n",
    "\n",
    "- [2.2. Train data with random forest](#22)"
   ]
  },
  {
   "cell_type": "markdown",
   "metadata": {},
   "source": [
    "### Imports - libraries"
   ]
  },
  {
   "cell_type": "code",
   "execution_count": 893,
   "metadata": {},
   "outputs": [],
   "source": [
    "import pandas as pd\n",
    "import numpy as np\n",
    "import matplotlib.pyplot as plt\n",
    "from sklearn.linear_model import LinearRegression, LogisticRegression\n",
    "from sklearn.preprocessing import OneHotEncoder\n",
    "from pandas.plotting import scatter_matrix\n",
    "from sklearn.model_selection import cross_val_predict\n",
    "from sklearn.model_selection import cross_val_score\n",
    "from scipy import stats\n",
    "import seaborn as sns\n",
    "%matplotlib inline\n",
    "\n",
    "pd.options.mode.chained_assignment = None  # default='warn'"
   ]
  },
  {
   "cell_type": "markdown",
   "metadata": {},
   "source": [
    "### Imports - data"
   ]
  },
  {
   "cell_type": "code",
   "execution_count": 894,
   "metadata": {},
   "outputs": [],
   "source": [
    "df = pd.read_csv('lalonde.csv', index_col = 0)"
   ]
  },
  {
   "cell_type": "markdown",
   "metadata": {},
   "source": [
    "We check that data doesn't have any missing/null values:"
   ]
  },
  {
   "cell_type": "code",
   "execution_count": 895,
   "metadata": {},
   "outputs": [
    {
     "data": {
      "text/plain": [
       "False"
      ]
     },
     "execution_count": 895,
     "metadata": {},
     "output_type": "execute_result"
    }
   ],
   "source": [
    "df.isnull().values.any()"
   ]
  },
  {
   "cell_type": "markdown",
   "metadata": {},
   "source": [
    "## Task 1. Propensity Score Matching <a class=\"anchor\" id=\"1\"></a>\n",
    "\n",
    "### Assignment Instructions\n",
    "In this exercise, you will apply propensity score matching, which we discussed in lecture 5 (\"Observational studies\"), in order to draw conclusions from an observational study.\n",
    "\n",
    "We will work with a by-now classic dataset from Robert LaLonde's study \"Evaluating the Econometric Evaluations of Training Programs\" (1986). The study investigated the effect of a job training program (\"National Supported Work Demonstration\") on the real earnings of an individual, a couple of years after completion of the program. Your task is to determine the effectiveness of the \"treatment\" represented by the job training program.\n",
    "\n",
    "### Dataset description\n",
    "\n",
    "The dataset contain the following fatures:\n",
    "\n",
    "- `treat`: 1 if the subject participated in the job training program, 0 otherwise\n",
    "- `age`: the subject's age\n",
    "- `educ`: years of education\n",
    "- `race`: categorical variable with three possible values: Black, Hispanic, or White\n",
    "- `married`: 1 if the subject was married at the time of the training program, 0 otherwise\n",
    "- `nodegree`: 1 if the subject has earned no school degree, 0 otherwise\n",
    "- `re74`: real earnings in 1974 (pre-treatment)\n",
    "- `re75`: real earnings in 1975 (pre-treatment)\n",
    "- `re78`: real earnings in 1978 (outcome)\n",
    "\n",
    "\n",
    "### Assumptions\n",
    "The dataset contain several records with zero values for real earnings. Since we are trying to evaluate the efectiveness of the job program in the real earnings, we should also consider those who did not find a job. For this reason, we will keep these values in a first iterarion over the problem. "
   ]
  },
  {
   "cell_type": "markdown",
   "metadata": {},
   "source": [
    "### Plot Functions\n",
    "\n",
    "We define the following functions to be used during the homework, when plotting and analysing the variables:"
   ]
  },
  {
   "cell_type": "code",
   "execution_count": 968,
   "metadata": {},
   "outputs": [],
   "source": [
    "def plot_hist(treated_df, control_df, features, title, range_):\n",
    "    '''Funtion that receives a vector of continuos features to plot.\n",
    "    Overlap the input features for both groups, treated and control'''\n",
    "    \n",
    "    fig, axes = plt.subplots(1, 2, figsize=(8, 4), sharex=True, sharey = True)\n",
    "    \n",
    "    plots = []\n",
    "    #layers:\n",
    "    for i in range(len(features)):\n",
    "        plots.append(treated_df[features[i]])\n",
    "        plots.append(control_df[features[i]])   \n",
    "        \n",
    "    #relative weight parameters for hist plot\n",
    "    weights = []\n",
    "    for i in range(len(plots)):\n",
    "        weights.append(np.zeros_like(plots[i]) + 1. / plots[i].size) \n",
    "        \n",
    "    #plot histograms\n",
    "    for i in range(len(features)):\n",
    "        j = i\n",
    "        i = i*len(features)\n",
    "        plots[i].plot.hist(ax = axes[0],weights=weights[i], title=('Treated Group: '+ title),\n",
    "                        range =range_, alpha=0.5, label=features[j], bins = 20)\n",
    "        plots[i+1].plot.hist(ax = axes[1], weights=weights[i+1], title=('Control Group: '+ title),\n",
    "                        range =range_, alpha=0.5, label=features[j], bins = 20)\n",
    "        \n",
    "    axes[0].legend(loc=\"upper right\")\n",
    "    axes[1].legend(loc=\"upper right\")    \n",
    "\n",
    "    \n",
    "def plot_bars(feature, title, print_values = False):\n",
    "    '''Funtion that receives a categorical feature to plot.\n",
    "    Draws a barplot  for both groups, treated and control'''\n",
    "    fig, axes = plt.subplots(1, 2, figsize=(8, 4), sharex=True, sharey = True);\n",
    "    \n",
    "    treated_values = (treated[feature].value_counts()/treated[feature].size).sort_index()\n",
    "    control_values = (control[feature].value_counts()/control[feature].size).sort_index()\n",
    "   \n",
    "    #print auxiliar values\n",
    "    if (print_values == True):\n",
    "        print('The distribution in the treated group takes the following values: \\n{}'.format(treated_values))\n",
    "        print('The distribution in the control group takes the following values: \\n{}'.format(control_values))\n",
    "    \n",
    "    #plot histograms\n",
    "    treated_values.plot.bar(ax = axes[0],title=('Treated Group - '+ title),alpha=0.5)\n",
    "    control_values.plot.bar(ax = axes[1],title=('Control Group - '+ title))\n",
    "    \n",
    "    #set legends\n",
    "    axes[0].legend(loc=\"upper right\")\n",
    "    axes[1].legend(loc=\"upper right\")  \n",
    "    \n",
    "\n",
    "def plot_box(feature, title):\n",
    "    '''Funtion that receives a categorical feature to plot.\n",
    "    Draws a box plot  for both groups, treated and control'''\n",
    "    fig, axes = plt.subplots(1, 2, figsize=(8, 4), sharex=True, sharey = True);\n",
    "    \n",
    "    treated_values = treated[feature]\n",
    "    control_values = control[feature]\n",
    "    \n",
    "    treated_values.plot.box(ax = axes[0],title=('Treated Group: '+ title), label=feature)\n",
    "    control_values.plot.box(ax = axes[1],title=('Control Group: '+ title), label=feature)  "
   ]
  },
  {
   "cell_type": "markdown",
   "metadata": {},
   "source": [
    "### 1.1. A Naive Analysis<a class=\"anchor\" id=\"11\"></a>\n",
    "\n",
    "At this point, we will start by comparing the distribution of the outcome variable (re78) between the two groups in an naively way, this is, without questioning the bias of such data. \n",
    "\n",
    "We start by spliting the treatment group and control group in two different categories:"
   ]
  },
  {
   "cell_type": "code",
   "execution_count": 897,
   "metadata": {},
   "outputs": [],
   "source": [
    "#create two distinct data frames for each group\n",
    "treated = df[(df.treat ==1)]\n",
    "control = df[(df.treat == 0)]"
   ]
  },
  {
   "cell_type": "markdown",
   "metadata": {},
   "source": [
    "Let's check the general numerical values of real earning in the year of 1978 for both groups:"
   ]
  },
  {
   "cell_type": "code",
   "execution_count": 898,
   "metadata": {},
   "outputs": [
    {
     "data": {
      "text/plain": [
       "count      185.000000\n",
       "mean      6349.143530\n",
       "std       7867.402218\n",
       "min          0.000000\n",
       "25%        485.229800\n",
       "50%       4232.309000\n",
       "75%       9642.999000\n",
       "max      60307.930000\n",
       "Name: re78, dtype: float64"
      ]
     },
     "execution_count": 898,
     "metadata": {},
     "output_type": "execute_result"
    }
   ],
   "source": [
    "#Real earnings description for people who took the job trainig program\n",
    "treated.re78.describe()"
   ]
  },
  {
   "cell_type": "code",
   "execution_count": 899,
   "metadata": {},
   "outputs": [
    {
     "data": {
      "text/plain": [
       "count      429.000000\n",
       "mean      6984.169742\n",
       "std       7294.161791\n",
       "min          0.000000\n",
       "25%        220.181300\n",
       "50%       4975.505000\n",
       "75%      11688.820000\n",
       "max      25564.670000\n",
       "Name: re78, dtype: float64"
      ]
     },
     "execution_count": 899,
     "metadata": {},
     "output_type": "execute_result"
    }
   ],
   "source": [
    "#Real earnings description for people who did not take the job trainig program\n",
    "control.re78.describe()"
   ]
  },
  {
   "cell_type": "markdown",
   "metadata": {},
   "source": [
    "**Observation:**\n",
    "\n",
    "Considering what we know so far, there are several points that stand out in the descriptions above. \n",
    "One can see that the **mean** is higher for the control group, with a relative difference of approximately 9%. \n",
    "\n",
    "However, the **maximium** value, on the other side, is higer in the treated group with a relative difference of approximately 57%, which is a huge difference.\n",
    "\n",
    "Note that the **quartiles** play an important role in this analysis since their robustness to outliers. We check that only for the first quartile, the trated group has a higher value, since for the following ones the control group presents higher earnings. \n",
    "\n",
    "From the analysis above, one can (naively) conclude that the treatment is more helpul for those who had small salaries."
   ]
  },
  {
   "cell_type": "markdown",
   "metadata": {},
   "source": [
    "Let's represent the values above with some plots. Note that for the following representations we consider **relative values**, since those are more meaningful comparing two groups of different size."
   ]
  },
  {
   "cell_type": "code",
   "execution_count": 900,
   "metadata": {},
   "outputs": [
    {
     "data": {
      "image/png": "[encoded data removed]",
      "text/plain": [
       "<matplotlib.figure.Figure at 0x11b280c18>"
      ]
     },
     "metadata": {},
     "output_type": "display_data"
    }
   ],
   "source": [
    "plot_hist(treated, control, ['re78'], 'Real Earnings 1978', (0,65000))"
   ]
  },
  {
   "cell_type": "code",
   "execution_count": 901,
   "metadata": {},
   "outputs": [
    {
     "data": {
      "image/png": "[encoded data removed]",
      "text/plain": [
       "<matplotlib.figure.Figure at 0x119614eb8>"
      ]
     },
     "metadata": {},
     "output_type": "display_data"
    }
   ],
   "source": [
    "plot_box('re78', 'Real Earnings 1978')"
   ]
  },
  {
   "cell_type": "markdown",
   "metadata": {},
   "source": [
    "A naive \"researcher\" can conclude from this superficial analysis that ------------want to make propper hist with same bins width for both histograms----"
   ]
  },
  {
   "cell_type": "markdown",
   "metadata": {},
   "source": [
    "### 1.2. A closer look at the data<a class=\"anchor\" id=\"12\"></a>"
   ]
  },
  {
   "cell_type": "markdown",
   "metadata": {},
   "source": [
    "Let's take a closer look at the data before jumping to conclusions:\n",
    "\n",
    "One can not just take into account the real earning in the year of 1978 to justify the  effectiveness of the \"treatment\" represented by the job training program. This could be biased. A good analysis should consider the \"story\" of a person, since it's obvious that people with higher education, or those who already had higher real earning values in the past few years are more likely to earn more, independently if they took the program or not.\n",
    "\n",
    "For each feature in the dataset, we compare its distribution in the treated group with its distribution in the control group, using plots and numbers. "
   ]
  },
  {
   "cell_type": "markdown",
   "metadata": {},
   "source": [
    "**Is the `age` equal distributed in both groups?**"
   ]
  },
  {
   "cell_type": "code",
   "execution_count": 902,
   "metadata": {},
   "outputs": [
    {
     "data": {
      "image/png": "[encoded data removed]",
      "text/plain": [
       "<matplotlib.figure.Figure at 0x117d8b7b8>"
      ]
     },
     "metadata": {},
     "output_type": "display_data"
    }
   ],
   "source": [
    "age_range = (min(control['age'].min(),treated['age'].min()),max(control['age'].max(), treated['age'].max()))\n",
    "plot_hist(treated, control,['age'], 'Age', age_range)"
   ]
  },
  {
   "cell_type": "markdown",
   "metadata": {},
   "source": [
    "Eventhough the difference is not impressive, we can verify that the non treated group has a higher percentage of **older people**, in comparison with group one. This is relevant since higher earnings are usually associated with more years of professional career."
   ]
  },
  {
   "cell_type": "markdown",
   "metadata": {},
   "source": [
    "**Do both groups have a simillar `education`?**"
   ]
  },
  {
   "cell_type": "code",
   "execution_count": 903,
   "metadata": {},
   "outputs": [
    {
     "data": {
      "image/png": "[encoded data removed]",
      "text/plain": [
       "<matplotlib.figure.Figure at 0x1187756a0>"
      ]
     },
     "metadata": {},
     "output_type": "display_data"
    }
   ],
   "source": [
    "educ_range = (min(control['educ'].min(),treated['educ'].min()),max(control['educ'].max(), treated['educ'].max()))\n",
    "plot_hist(treated, control,['educ'], 'Education', educ_range)"
   ]
  },
  {
   "cell_type": "markdown",
   "metadata": {},
   "source": [
    "Let's compare the mean of education years in both groups:"
   ]
  },
  {
   "cell_type": "code",
   "execution_count": 904,
   "metadata": {},
   "outputs": [
    {
     "name": "stdout",
     "output_type": "stream",
     "text": [
      "There's a 1.068193387942603% difference when comparing the mean of years of education for both groups\n"
     ]
    }
   ],
   "source": [
    "mean_relativeDifference = ((treated.educ.mean()-control.educ.mean())/treated.educ.mean())*100\n",
    "print(\"There's a {}% difference when comparing the mean of years of education for both groups\".\n",
    "      format(mean_relativeDifference))"
   ]
  },
  {
   "cell_type": "markdown",
   "metadata": {},
   "source": [
    "A different years of education distributtion could affect the bias of the results, since more years of study are likely to be correlated with higher real earnings as well. However, the difference is just 1%, which is almost neglible."
   ]
  },
  {
   "cell_type": "markdown",
   "metadata": {},
   "source": [
    "**Are the three different `races` equally distributed in both groups?**"
   ]
  },
  {
   "cell_type": "code",
   "execution_count": 905,
   "metadata": {},
   "outputs": [
    {
     "name": "stdout",
     "output_type": "stream",
     "text": [
      "The distribution in the treated group takes the following values: \n",
      "0    0.156757\n",
      "1    0.843243\n",
      "Name: black, dtype: float64\n",
      "The distribution in the control group takes the following values: \n",
      "0    0.797203\n",
      "1    0.202797\n",
      "Name: black, dtype: float64\n"
     ]
    },
    {
     "data": {
      "image/png": "[encoded data removed]",
      "text/plain": [
       "<matplotlib.figure.Figure at 0x11a3ac128>"
      ]
     },
     "metadata": {},
     "output_type": "display_data"
    }
   ],
   "source": [
    "plot_bars('black', 'Black Race', print_values = True)"
   ]
  },
  {
   "cell_type": "code",
   "execution_count": 906,
   "metadata": {},
   "outputs": [
    {
     "data": {
      "image/png": "[encoded data removed]",
      "text/plain": [
       "<matplotlib.figure.Figure at 0x1198842e8>"
      ]
     },
     "metadata": {},
     "output_type": "display_data"
    }
   ],
   "source": [
    "plot_bars('hispan', 'Hispan Race')"
   ]
  },
  {
   "cell_type": "markdown",
   "metadata": {},
   "source": [
    "We can verify that the hispanic race is a minority in both groups. However, the same does not apply to the black race. In fact, more that 80% of people in the trated group belong to black race, in comparison with 20% in the non-treated group. "
   ]
  },
  {
   "cell_type": "markdown",
   "metadata": {},
   "source": [
    "**How is the `Marital status` distribuded in this two groups**"
   ]
  },
  {
   "cell_type": "code",
   "execution_count": 907,
   "metadata": {
    "scrolled": true
   },
   "outputs": [
    {
     "data": {
      "image/png": "[encoded data removed]",
      "text/plain": [
       "<matplotlib.figure.Figure at 0x1187ccd68>"
      ]
     },
     "metadata": {},
     "output_type": "display_data"
    }
   ],
   "source": [
    "plot_bars('married','Marital distribution')"
   ]
  },
  {
   "cell_type": "markdown",
   "metadata": {},
   "source": [
    "The Marital distribution is not exactly the same. However, one should also take into account that this parameter is not so likely to influence the real earnings. Since `married` is a dichotomous variable, let's check the `Point-biserial correlation coefficient` between these two features:\n",
    "\n",
    "For more information about Point-biserial correlation coefficient click <a href=\"https://en.wikipedia.org/wiki/Point-biserial_correlation_coefficient\">here</a>."
   ]
  },
  {
   "cell_type": "code",
   "execution_count": 908,
   "metadata": {},
   "outputs": [
    {
     "data": {
      "text/plain": [
       "PointbiserialrResult(correlation=0.16235762667544129, pvalue=5.3062440838823211e-05)"
      ]
     },
     "execution_count": 908,
     "metadata": {},
     "output_type": "execute_result"
    }
   ],
   "source": [
    "stats.pointbiserialr(df['married'], df['re78'])"
   ]
  },
  {
   "cell_type": "markdown",
   "metadata": {},
   "source": [
    "We can verify they these features don't have a strong dependence."
   ]
  },
  {
   "cell_type": "markdown",
   "metadata": {},
   "source": [
    "**Is the distribution of people who got `no degrees` similar in both groups?**"
   ]
  },
  {
   "cell_type": "code",
   "execution_count": 909,
   "metadata": {},
   "outputs": [
    {
     "data": {
      "image/png": "[encoded data removed]",
      "text/plain": [
       "<matplotlib.figure.Figure at 0x118e26470>"
      ]
     },
     "metadata": {},
     "output_type": "display_data"
    }
   ],
   "source": [
    "plot_bars('nodegree','No Degree')"
   ]
  },
  {
   "cell_type": "markdown",
   "metadata": {},
   "source": [
    "We verify that the number of people with no degrees is simillar in both cases."
   ]
  },
  {
   "cell_type": "markdown",
   "metadata": {},
   "source": [
    "**But how high were the `real earnings` before the treatment? And how do they compare to the ones from 1978?** "
   ]
  },
  {
   "cell_type": "code",
   "execution_count": 910,
   "metadata": {},
   "outputs": [
    {
     "name": "stdout",
     "output_type": "stream",
     "text": [
      "Average treated group real earnings in: \n",
      "1974: 2095.573688648649\n",
      "1975: 1532.055313783784\n",
      "\n",
      "Average control group real earnings in: \n",
      "1974: 5619.236506386947\n",
      "1975: 2466.4844431235447\n"
     ]
    }
   ],
   "source": [
    "print('Average treated group real earnings in: \\n1974: {}\\n1975: {}'.format(treated.re74.mean(), treated.re75.mean()))\n",
    "print('\\nAverage control group real earnings in: \\n1974: {}\\n1975: {}'.format(control.re74.mean(), control.re75.mean()))"
   ]
  },
  {
   "cell_type": "markdown",
   "metadata": {},
   "source": [
    "We see that the data is biased since the control group already had higher earnings before the beginning of the treatment! A more interest comparison would be to compare the difference between the earnings before and after the treatment. \n",
    "\n",
    "Keeping this in mind we create the following features:\n",
    "- `re_PreTreament`: average of the earnings of 1974 and 1975:\n",
    "- `improvement`: difference between the earnings in 1978 and the average of the earnings of 1974 and 1975\n"
   ]
  },
  {
   "cell_type": "code",
   "execution_count": 911,
   "metadata": {},
   "outputs": [],
   "source": [
    "#define re_PreTreatment\n",
    "treated['re_PreTreatment']=(treated['re75']+treated['re74'])/2\n",
    "control['re_PreTreatment']=(control['re75']+control['re74'])/2\n",
    "\n",
    "#define improvement\n",
    "treated['improvement']=treated['re78']-treated['re_PreTreatment']\n",
    "control['improvement']=control['re78']-control['re_PreTreatment']"
   ]
  },
  {
   "cell_type": "markdown",
   "metadata": {},
   "source": [
    "Which group has a higher `improvement`:"
   ]
  },
  {
   "cell_type": "code",
   "execution_count": 912,
   "metadata": {},
   "outputs": [
    {
     "name": "stdout",
     "output_type": "stream",
     "text": [
      "Average improvement in the TREATED group:  4535.329029054054\n",
      "Average improvement in the CONTROL group:  2941.3092675524467\n"
     ]
    }
   ],
   "source": [
    "print('Average improvement in the TREATED group: ', treated.improvement.mean())\n",
    "print('Average improvement in the CONTROL group: ', control.improvement.mean())"
   ]
  },
  {
   "cell_type": "markdown",
   "metadata": {},
   "source": [
    "From the values above the conclusion we take is completely different!\n",
    "\n",
    "To ilustrate more intuitively, we will overlap the histogram distribution of the real earnings before and after treatment:"
   ]
  },
  {
   "cell_type": "code",
   "execution_count": 913,
   "metadata": {},
   "outputs": [
    {
     "data": {
      "image/png": "[encoded data removed]",
      "text/plain": [
       "<matplotlib.figure.Figure at 0x117400e10>"
      ]
     },
     "metadata": {},
     "output_type": "display_data"
    }
   ],
   "source": [
    "plot_hist(treated, control,['re_PreTreatment', 're78'], 'Real Earnings', (0,65000))"
   ]
  },
  {
   "cell_type": "markdown",
   "metadata": {},
   "source": [
    "**Conclusion**\n",
    "\n",
    "If at some point, naively, we thought that the program was not effective, these values show the oposite!\n",
    "\n",
    "By the observation of the histogram above, it's noticeable that the difference between the real earnings before and after treatment in the Treated Group is more striking then in the Control Group.\n",
    "\n",
    "This lead us to conclude that the programe is in fact effective."
   ]
  },
  {
   "cell_type": "markdown",
   "metadata": {},
   "source": [
    "### 1.3. A propensity score model<a class=\"anchor\" id=\"13\"></a>"
   ]
  },
  {
   "cell_type": "markdown",
   "metadata": {},
   "source": [
    "**Propensity Score Matching**:\n",
    "To apply the propensity score matching, we will follow the following steps:\n",
    "\n",
    "1. Run logistic regression **Question (1.3)**\n",
    "\n",
    "2. Check that propensity score is balanced across treatment and comparison groups, and check that covariates are balanced across treatment and comparison groups within strata of the propensity score. **Question (1.3)**\n",
    "\n",
    "3. Match each participant to one or more nonparticipants on propensity score **Question (1.4)**\n",
    "\n",
    "4. Verify that covariates are balanced across treatment and comparison groups in the matched or weighted sample **Question (1.5)**\n",
    "\n",
    "5. Multivariate analysis based on new sample **Question (1.6)**"
   ]
  },
  {
   "cell_type": "markdown",
   "metadata": {},
   "source": [
    "**Run Logistic Regression**"
   ]
  },
  {
   "cell_type": "code",
   "execution_count": 914,
   "metadata": {},
   "outputs": [
    {
     "data": {
      "text/plain": [
       "LogisticRegression(C=1.0, class_weight=None, dual=False, fit_intercept=True,\n",
       "          intercept_scaling=1, max_iter=100, multi_class='ovr', n_jobs=1,\n",
       "          penalty='l2', random_state=None, solver='liblinear', tol=0.0001,\n",
       "          verbose=0, warm_start=False)"
      ]
     },
     "execution_count": 914,
     "metadata": {},
     "output_type": "execute_result"
    }
   ],
   "source": [
    "features = df[[\"age\",\"educ\",\"black\",\"hispan\",\"married\",\"nodegree\",\"re74\",\"re75\",\"re78\"]]\n",
    "labels = df[\"treat\"]\n",
    "\n",
    "logistic = LogisticRegression()\n",
    "logistic.fit(features, labels)"
   ]
  },
  {
   "cell_type": "markdown",
   "metadata": {},
   "source": [
    "**Check that propensity score is balanced across treatment and comparison groups**"
   ]
  },
  {
   "cell_type": "markdown",
   "metadata": {},
   "source": [
    "We create a new column in the dataframe,`probability_treat`, which represents the probability of receiving the treatment:"
   ]
  },
  {
   "cell_type": "code",
   "execution_count": 916,
   "metadata": {},
   "outputs": [],
   "source": [
    "df['probability_treat'] = logistic.predict_proba(features) [:,0]\n",
    "df = df.reset_index()\n",
    "#df.head(10)"
   ]
  },
  {
   "cell_type": "markdown",
   "metadata": {},
   "source": [
    "By observing the column `probability_treat` in the data frame we verify that the propensity scores is balanced across treatment and comparison groups, since both groups present high and low values for such feature."
   ]
  },
  {
   "cell_type": "markdown",
   "metadata": {},
   "source": [
    "### 1.4. Balancing the dataset via matching <a class=\"anchor\" id=\"14\"></a>"
   ]
  },
  {
   "cell_type": "markdown",
   "metadata": {},
   "source": [
    "In this section we follow on with the refered methods refered above to apply the propensity score matching."
   ]
  },
  {
   "cell_type": "markdown",
   "metadata": {},
   "source": [
    "**Match each participant to one or more nonparticipants on propensity score**"
   ]
  },
  {
   "cell_type": "code",
   "execution_count": 1024,
   "metadata": {},
   "outputs": [],
   "source": [
    "import networkx as nx\n",
    "from networkx.algorithms import bipartite\n",
    "\n",
    "def create_graph(df):\n",
    "    #create graph where each id identify a node\n",
    "    graph = nx.Graph()\n",
    "    graph.add_nodes_from(df[df['treat'] ==0 ].id, bipartite = 0)\n",
    "    graph.add_nodes_from(df[df['treat'] ==1 ].id, bipartite = 1)\n",
    "    return graph\n",
    "\n",
    "def match_nodes(df, graph):\n",
    "    '''We follow on with the creation of edges where each weight corresponds to the diference of propensity score.\n",
    "    To find the \"cheapest\" matches we use the function \"nx.max_weight_matching\"\n",
    "    Note however, that we have to insert a '-' signal, to transform a minimization problem into a maximization'''\n",
    "    for row_treat in df[df['treat'] ==1 ].iterrows():\n",
    "        for row_control in df[df['treat'] ==0 ].iterrows():\n",
    "            graph.add_edge(row_treat[1]['id'],row_control[1]['id'], \n",
    "                       weight= (-np.abs(row_treat[1]['probability_treat'] - row_control[1]['probability_treat'])))\n",
    "    \n",
    "    matches = nx.max_weight_matching(nx.Graph(weights))\n",
    "   # matches = nx.bipartite.maximum_matching(graph)\n",
    "    \n",
    "    return matches"
   ]
  },
  {
   "cell_type": "code",
   "execution_count": 1025,
   "metadata": {},
   "outputs": [
    {
     "ename": "NameError",
     "evalue": "name 'weights' is not defined",
     "output_type": "error",
     "traceback": [
      "\u001b[0;31m---------------------------------------------------------------------------\u001b[0m",
      "\u001b[0;31mNameError\u001b[0m                                 Traceback (most recent call last)",
      "\u001b[0;32m<ipython-input-1025-87cb11f5060e>\u001b[0m in \u001b[0;36m<module>\u001b[0;34m()\u001b[0m\n\u001b[1;32m      3\u001b[0m \u001b[0;34m\u001b[0m\u001b[0m\n\u001b[1;32m      4\u001b[0m \u001b[0;31m#creat edges and find minimal weight solution\u001b[0m\u001b[0;34m\u001b[0m\u001b[0;34m\u001b[0m\u001b[0m\n\u001b[0;32m----> 5\u001b[0;31m \u001b[0mmatches_dict\u001b[0m \u001b[0;34m=\u001b[0m \u001b[0mmatch_nodes\u001b[0m\u001b[0;34m(\u001b[0m\u001b[0mdf\u001b[0m\u001b[0;34m,\u001b[0m \u001b[0mgraph\u001b[0m\u001b[0;34m)\u001b[0m\u001b[0;34m\u001b[0m\u001b[0m\n\u001b[0m",
      "\u001b[0;32m<ipython-input-1024-58c62864d8ea>\u001b[0m in \u001b[0;36mmatch_nodes\u001b[0;34m(df, graph)\u001b[0m\n\u001b[1;32m     18\u001b[0m                        weight= (-np.abs(row_treat[1]['probability_treat'] - row_control[1]['probability_treat'])))\n\u001b[1;32m     19\u001b[0m \u001b[0;34m\u001b[0m\u001b[0m\n\u001b[0;32m---> 20\u001b[0;31m     \u001b[0mmatches\u001b[0m \u001b[0;34m=\u001b[0m \u001b[0mnx\u001b[0m\u001b[0;34m.\u001b[0m\u001b[0mmax_weight_matching\u001b[0m\u001b[0;34m(\u001b[0m\u001b[0mnx\u001b[0m\u001b[0;34m.\u001b[0m\u001b[0mGraph\u001b[0m\u001b[0;34m(\u001b[0m\u001b[0mweights\u001b[0m\u001b[0;34m)\u001b[0m\u001b[0;34m)\u001b[0m\u001b[0;34m\u001b[0m\u001b[0m\n\u001b[0m\u001b[1;32m     21\u001b[0m    \u001b[0;31m# matches = nx.bipartite.maximum_matching(graph)\u001b[0m\u001b[0;34m\u001b[0m\u001b[0;34m\u001b[0m\u001b[0m\n\u001b[1;32m     22\u001b[0m \u001b[0;34m\u001b[0m\u001b[0m\n",
      "\u001b[0;31mNameError\u001b[0m: name 'weights' is not defined"
     ]
    }
   ],
   "source": [
    "#initialize graph\n",
    "graph = create_graph(df)\n",
    "\n",
    "#creat edges and find minimal weight solution\n",
    "matches_dict = match_nodes(df, graph)"
   ]
  },
  {
   "cell_type": "markdown",
   "metadata": {},
   "source": [
    "So far, we already have a dictionary with the matches with minimize the cost, this is, the sum (over all matched pairs) of absolute propensity-score differences between the two matched subjects. Now we create a new df with these values for each group and analyse them:"
   ]
  },
  {
   "cell_type": "code",
   "execution_count": null,
   "metadata": {},
   "outputs": [],
   "source": [
    "matched_subjects = df[df['id'].isin(matches_dict)]\n",
    "\n",
    "#create df for each feature\n",
    "matched_treated = matched_subjects[(matched_subjects['treat'] == 1)]\n",
    "matched_control = matched_subjects[(matched_subjects['treat'] == 0)]"
   ]
  },
  {
   "cell_type": "markdown",
   "metadata": {},
   "source": [
    "**How is the `real earnings in 1978` difference between the two matched groups?**"
   ]
  },
  {
   "cell_type": "code",
   "execution_count": null,
   "metadata": {},
   "outputs": [],
   "source": [
    "plot_hist(matched_treated, matched_control, ['re74'], range_ = (0,65000), title= 'Real Earnings 1978')"
   ]
  },
  {
   "cell_type": "code",
   "execution_count": null,
   "metadata": {},
   "outputs": [],
   "source": [
    "print('Average improvement in the TREATED group: ', matched_treated.re78.mean())\n",
    "print('Average improvement in the CONTROL group: ', matched_control.re78.mean())"
   ]
  },
  {
   "cell_type": "markdown",
   "metadata": {},
   "source": [
    "We verify that the distribution is now more similar. The mean values are closer to each other.\n",
    "\n",
    "In **Question 2**, we concluded that comparing the differences between the real earnings is in fact more meaningful than comparing just the `re78`. Let's visualize if the difference has changed in the same way:"
   ]
  },
  {
   "cell_type": "code",
   "execution_count": null,
   "metadata": {},
   "outputs": [],
   "source": [
    "#add features useful for comparison, already cited above\n",
    "matched_treated['re_PreTreatment']=(matched_treated['re75']+matched_treated['re74'])/2\n",
    "matched_control['re_PreTreatment']=(matched_control['re75']+matched_control['re74'])/2\n",
    "\n",
    "#define improvement\n",
    "matched_treated['improvement']=matched_treated['re78']-matched_treated['re_PreTreatment']\n",
    "matched_control['improvement']=matched_control['re78']-matched_control['re_PreTreatment']\n",
    "\n",
    "plot_hist(matched_treated, matched_control,['re_PreTreatment', 're78'], 'Real Earnings', (0,65000))"
   ]
  },
  {
   "cell_type": "markdown",
   "metadata": {},
   "source": [
    "By observing the histograms above, one can conclude that the difference between both groups is not so striking anymore. But we still check that it's higher in the Treated group."
   ]
  },
  {
   "cell_type": "code",
   "execution_count": null,
   "metadata": {},
   "outputs": [],
   "source": [
    "print('Average improvement in the TREATED group: ', matched_treated.improvement.mean())\n",
    "print('Average improvement in the CONTROL group: ', matched_control.improvement.mean())"
   ]
  },
  {
   "cell_type": "markdown",
   "metadata": {},
   "source": [
    "### 1.5. Balancing the groups further <a class=\"anchor\" id=\"15\"></a>"
   ]
  },
  {
   "cell_type": "markdown",
   "metadata": {},
   "source": [
    "We want to analyse the disparity in each match. For this reson we ceate the following df:"
   ]
  },
  {
   "cell_type": "code",
   "execution_count": null,
   "metadata": {},
   "outputs": [],
   "source": [
    "psm.head(10)"
   ]
  },
  {
   "cell_type": "code",
   "execution_count": 1012,
   "metadata": {},
   "outputs": [
    {
     "name": "stdout",
     "output_type": "stream",
     "text": [
      "0        NSW1\n",
      "1        NSW2\n",
      "2        NSW3\n",
      "3        NSW4\n",
      "4        NSW5\n",
      "5        NSW6\n",
      "6        NSW7\n",
      "7        NSW8\n",
      "8        NSW9\n",
      "9       NSW10\n",
      "10      NSW11\n",
      "11      NSW12\n",
      "12      NSW13\n",
      "13      NSW14\n",
      "14      NSW15\n",
      "15      NSW16\n",
      "16      NSW17\n",
      "17      NSW18\n",
      "18      NSW19\n",
      "19      NSW20\n",
      "20      NSW21\n",
      "21      NSW22\n",
      "22      NSW23\n",
      "23      NSW24\n",
      "24      NSW25\n",
      "25      NSW26\n",
      "26      NSW27\n",
      "27      NSW28\n",
      "28      NSW29\n",
      "29      NSW30\n",
      "        ...  \n",
      "155    NSW156\n",
      "156    NSW157\n",
      "157    NSW158\n",
      "158    NSW159\n",
      "159    NSW160\n",
      "160    NSW161\n",
      "161    NSW162\n",
      "162    NSW163\n",
      "163    NSW164\n",
      "164    NSW165\n",
      "165    NSW166\n",
      "166    NSW167\n",
      "167    NSW168\n",
      "168    NSW169\n",
      "169    NSW170\n",
      "170    NSW171\n",
      "171    NSW172\n",
      "172    NSW173\n",
      "173    NSW174\n",
      "174    NSW175\n",
      "175    NSW176\n",
      "176    NSW177\n",
      "177    NSW178\n",
      "178    NSW179\n",
      "179    NSW180\n",
      "180    NSW181\n",
      "181    NSW182\n",
      "182    NSW183\n",
      "183    NSW184\n",
      "184    NSW185\n",
      "Name: Treated, Length: 185, dtype: object\n",
      "0      PSID124\n",
      "1      PSID335\n",
      "2      PSID377\n",
      "3       PSID29\n",
      "4       PSID34\n",
      "5      PSID317\n",
      "6      PSID253\n",
      "7      PSID202\n",
      "8      PSID355\n",
      "9      PSID100\n",
      "10     PSID242\n",
      "11     PSID299\n",
      "12     PSID180\n",
      "13     PSID271\n",
      "14     PSID145\n",
      "15      PSID82\n",
      "16     PSID103\n",
      "17     PSID113\n",
      "18     PSID344\n",
      "19     PSID112\n",
      "20      PSID63\n",
      "21      PSID76\n",
      "22     PSID395\n",
      "23     PSID411\n",
      "24       PSID9\n",
      "25      PSID72\n",
      "26     PSID369\n",
      "27     PSID282\n",
      "28     PSID336\n",
      "29     PSID362\n",
      "        ...   \n",
      "155    PSID397\n",
      "156     PSID80\n",
      "157    PSID361\n",
      "158    PSID360\n",
      "159      PSID7\n",
      "160     PSID60\n",
      "161     PSID28\n",
      "162    PSID157\n",
      "163    PSID306\n",
      "164    PSID251\n",
      "165    PSID143\n",
      "166     PSID79\n",
      "167    PSID400\n",
      "168    PSID244\n",
      "169     PSID37\n",
      "170     PSID87\n",
      "171     PSID53\n",
      "172    PSID333\n",
      "173    PSID187\n",
      "174    PSID256\n",
      "175    PSID339\n",
      "176    PSID194\n",
      "177     PSID36\n",
      "178    PSID301\n",
      "179    PSID123\n",
      "180     PSID10\n",
      "181    PSID138\n",
      "182    PSID372\n",
      "183     PSID84\n",
      "184    PSID208\n",
      "Name: Control, Length: 185, dtype: object\n"
     ]
    }
   ],
   "source": [
    "#propensity score match\n",
    "psm = pd.DataFrame()\n",
    "psm['Treated'] = matched_treated['id']\n",
    "psm['Control'] = matched_treated['id'].replace(matches_dict)\n",
    "psm['score'] = psm.apply(lambda row: print(row)"
   ]
  },
  {
   "cell_type": "code",
   "execution_count": 1026,
   "metadata": {},
   "outputs": [
    {
     "data": {
      "text/plain": [
       "(array([  6.,   3.,   2.,   2.,  10.,   7.,   6.,   4.,   5.,  11.,  10.,\n",
       "          7.,   8.,   6.,   2.,   2.,   6.,   2.,   3.,   6.,   3.,   3.,\n",
       "          3.,   2.,   1.,   3.,   1.,   3.,   1.,   2.,   2.,   3.,   1.,\n",
       "          4.,   2.,   3.,   0.,   2.,   0.,   3.,   2.,   0.,   5.,   2.,\n",
       "          2.,   5.,   3.,   4.,   6.,   6.]),\n",
       " array([-0.71673106, -0.70246944, -0.68820783, -0.67394621, -0.65968459,\n",
       "        -0.64542298, -0.63116136, -0.61689975, -0.60263813, -0.58837652,\n",
       "        -0.5741149 , -0.55985329, -0.54559167, -0.53133006, -0.51706844,\n",
       "        -0.50280682, -0.48854521, -0.47428359, -0.46002198, -0.44576036,\n",
       "        -0.43149875, -0.41723713, -0.40297552, -0.3887139 , -0.37445229,\n",
       "        -0.36019067, -0.34592905, -0.33166744, -0.31740582, -0.30314421,\n",
       "        -0.28888259, -0.27462098, -0.26035936, -0.24609775, -0.23183613,\n",
       "        -0.21757452, -0.2033129 , -0.18905128, -0.17478967, -0.16052805,\n",
       "        -0.14626644, -0.13200482, -0.11774321, -0.10348159, -0.08921998,\n",
       "        -0.07495836, -0.06069675, -0.04643513, -0.03217351, -0.0179119 ,\n",
       "        -0.00365028]),\n",
       " <a list of 50 Patch objects>)"
      ]
     },
     "execution_count": 1026,
     "metadata": {},
     "output_type": "execute_result"
    },
    {
     "data": {
      "image/png": "[encoded data removed]",
      "text/plain": [
       "<matplotlib.figure.Figure at 0x118d22438>"
      ]
     },
     "metadata": {},
     "output_type": "display_data"
    }
   ],
   "source": [
    "matched_dict = dict(zip(psm['Treated'], psm['Control']))\n",
    "diff = []\n",
    "for key in matched_dict:\n",
    "    diff.append(match_weight(key, matched_dict[key]))\n",
    "plt.hist(diff, bins=50)"
   ]
  },
  {
   "cell_type": "code",
   "execution_count": 1004,
   "metadata": {},
   "outputs": [],
   "source": [
    "def match_weight(node1, node2):\n",
    "    return [weigth for (u, v, weigth) in graph.edges([node1], data = True) if v == node2][0]['weight']"
   ]
  },
  {
   "cell_type": "code",
   "execution_count": 1006,
   "metadata": {},
   "outputs": [
    {
     "data": {
      "text/plain": [
       "-0.42127529129347296"
      ]
     },
     "execution_count": 1006,
     "metadata": {},
     "output_type": "execute_result"
    }
   ],
   "source": [
    "match_weight('NSW1','PSID10')"
   ]
  },
  {
   "cell_type": "markdown",
   "metadata": {},
   "source": [
    "### 1.6. A less naive analysis <a class=\"anchor\" id=\"16\"></a>"
   ]
  },
  {
   "cell_type": "markdown",
   "metadata": {},
   "source": [
    "TO THINK ABOUT: WHICH FACTORS CAN INFLUENCE ONE GROUP INSTEAD OF THE OTHER? IS THERE ANY BIAS HERE?\n",
    "    CAN WE CONSIDER THAT PEOPLE WHO TOOK THE JOB TRAINING PROGRAM ARE FROM THE BEGINNING MORE LIKELY TO EARN MORE\n",
    "    SINCE THEY SHOW TO BE MOTIVATED IN SO? - CHECK CAREFULLY WHICH TYPE OF PEOPLE PARTICIPATED IN THE PROGRAM"
   ]
  },
  {
   "cell_type": "markdown",
   "metadata": {},
   "source": [
    "## Task 2. Swiss Unemployment Rates Analysis - *amstat* dataset <a class=\"anchor\" id=\"2\"></a>\n",
    "\n",
    "### Assignment Instructions\n",
    "\n",
    "We are going to build a classifier of news to directly assign them to 20 news categories. Note that the pipeline that you will build in this exercise could be of great help during your project if you plan to work with text!\n",
    "\n",
    "Load the 20newsgroup dataset. It is, again, a classic dataset that can directly be loaded using sklearn (link).\n",
    "TF-IDF, short for term frequency–inverse document frequency, is of great help when if comes to compute textual features. Indeed, it gives more importance to terms that are more specific to the considered articles (TF) but reduces the importance of terms that are very frequent in the entire corpus (IDF). Compute TF-IDF features for every article using TfidfVectorizer. Then, split your dataset into a training, a testing and a validation set (10% for validation and 10% for testing). Each observation should be paired with its corresponding label (the article category).\n",
    "\n",
    "Train a random forest on your training set. Try to fine-tune the parameters of your predictor on your validation set using a simple grid search on the number of estimator \"n_estimators\" and the max depth of the trees \"max_depth\". Then, display a confusion matrix of your classification pipeline. Lastly, once you assessed your model, inspect the feature_importances_ attribute of your random forest and discuss the obtained results.\n",
    "\n",
    "### 2.1. Pick a DataSet to analyse <a class=\"anchor\" id=\"21\"></a>"
   ]
  },
  {
   "cell_type": "markdown",
   "metadata": {},
   "source": [
    "### 2.2. Choropleth map of Cantonal Unemployment Rates  <a class=\"anchor\" id=\"22\"></a>"
   ]
  }
 ],
 "metadata": {
  "anaconda-cloud": {},
  "kernelspec": {
   "display_name": "Python [conda root]",
   "language": "python",
   "name": "conda-root-py"
  },
  "language_info": {
   "codemirror_mode": {
    "name": "ipython",
    "version": 3
   },
   "file_extension": ".py",
   "mimetype": "text/x-python",
   "name": "python",
   "nbconvert_exporter": "python",
   "pygments_lexer": "ipython3",
   "version": "3.6.1"
  }
 },
 "nbformat": 4,
 "nbformat_minor": 2
}
