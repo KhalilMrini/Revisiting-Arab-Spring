{
 "cells": [
  {
   "cell_type": "markdown",
   "metadata": {},
   "source": [
    "# Homework 4- Table of Contents\n",
    "\n",
    "### [Task 1. Propensity score matching](#1)\n",
    "- [1.1. A naive analysis](#11)\n",
    "\n",
    "- [1.2. A closer look at the data](#12)\n",
    "\n",
    "- [1.3. A propensity score model](#13)\n",
    "\n",
    "- [1.4. Balancing the dataset via matching](#14)\n",
    "\n",
    "- [1.5. Balancing the groups further](#15)\n",
    "\n",
    "- [1.6. A less naive analysis](#14)\n",
    "\n",
    "\n",
    "### [Task 2. Applied ML](#2)\n",
    "- [2.1. Load data](#21)\n",
    "\n",
    "- [2.2. Train data with random forest](#22)"
   ]
  },
  {
   "cell_type": "markdown",
   "metadata": {},
   "source": [
    "### Imports - libraries"
   ]
  },
  {
   "cell_type": "code",
   "execution_count": 403,
   "metadata": {},
   "outputs": [],
   "source": [
    "import pandas as pd\n",
    "import numpy as np\n",
    "import matplotlib.pyplot as plt\n",
    "from sklearn.linear_model import LinearRegression, LogisticRegression\n",
    "from sklearn.preprocessing import OneHotEncoder\n",
    "from pandas.plotting import scatter_matrix\n",
    "from sklearn.model_selection import cross_val_predict\n",
    "from sklearn.model_selection import cross_val_score\n",
    "from scipy import stats\n",
    "import seaborn as sns\n",
    "%matplotlib inline"
   ]
  },
  {
   "cell_type": "markdown",
   "metadata": {},
   "source": [
    "### Imports - data"
   ]
  },
  {
   "cell_type": "code",
   "execution_count": 356,
   "metadata": {},
   "outputs": [],
   "source": [
    "df = pd.read_csv('lalonde.csv', index_col = 0)"
   ]
  },
  {
   "cell_type": "markdown",
   "metadata": {},
   "source": [
    "We check that data doesn't have any missing/null values:"
   ]
  },
  {
   "cell_type": "code",
   "execution_count": 357,
   "metadata": {},
   "outputs": [
    {
     "data": {
      "text/plain": [
       "False"
      ]
     },
     "execution_count": 357,
     "metadata": {},
     "output_type": "execute_result"
    }
   ],
   "source": [
    "df.isnull().values.any()"
   ]
  },
  {
   "cell_type": "markdown",
   "metadata": {},
   "source": [
    "## Task 1. Propensity Score Matching <a class=\"anchor\" id=\"1\"></a>\n",
    "\n",
    "### Assignment Instructions\n",
    "In this exercise, you will apply propensity score matching, which we discussed in lecture 5 (\"Observational studies\"), in order to draw conclusions from an observational study.\n",
    "\n",
    "We will work with a by-now classic dataset from Robert LaLonde's study \"Evaluating the Econometric Evaluations of Training Programs\" (1986). The study investigated the effect of a job training program (\"National Supported Work Demonstration\") on the real earnings of an individual, a couple of years after completion of the program. Your task is to determine the effectiveness of the \"treatment\" represented by the job training program.\n",
    "\n",
    "Dataset description\n",
    "\n",
    "- `treat`: 1 if the subject participated in the job training program, 0 otherwise\n",
    "- `age`: the subject's age\n",
    "- `educ`: years of education\n",
    "- `race`: categorical variable with three possible values: Black, Hispanic, or White\n",
    "- `married`: 1 if the subject was married at the time of the training program, 0 otherwise\n",
    "- `nodegree`: 1 if the subject has earned no school degree, 0 otherwise\n",
    "- `re74`: real earnings in 1974 (pre-treatment)\n",
    "- `re75`: real earnings in 1975 (pre-treatment)\n",
    "- `re78`: real earnings in 1978 (outcome)"
   ]
  },
  {
   "cell_type": "markdown",
   "metadata": {},
   "source": [
    "### 1.1. A Naive Analysis<a class=\"anchor\" id=\"11\"></a>\n",
    "\n",
    "At this point, we will start by comparing the distribution of the outcome variable (re78) between the two groups:"
   ]
  },
  {
   "cell_type": "code",
   "execution_count": 358,
   "metadata": {},
   "outputs": [],
   "source": [
    "#create two distinct data frames for each group\n",
    "treated = df[(df.treat ==1)]\n",
    "non_treated = df[(df.treat == 0)]"
   ]
  },
  {
   "cell_type": "markdown",
   "metadata": {},
   "source": [
    "Let's check the general numerical values of real earning in the year of 1978 for both groups:"
   ]
  },
  {
   "cell_type": "code",
   "execution_count": 359,
   "metadata": {},
   "outputs": [
    {
     "data": {
      "text/plain": [
       "count      185.000000\n",
       "mean      6349.143530\n",
       "std       7867.402218\n",
       "min          0.000000\n",
       "25%        485.229800\n",
       "50%       4232.309000\n",
       "75%       9642.999000\n",
       "max      60307.930000\n",
       "Name: re78, dtype: float64"
      ]
     },
     "execution_count": 359,
     "metadata": {},
     "output_type": "execute_result"
    }
   ],
   "source": [
    "#Real earnings description for people who took the job trainig program\n",
    "treated.re78.describe()"
   ]
  },
  {
   "cell_type": "code",
   "execution_count": 360,
   "metadata": {},
   "outputs": [
    {
     "data": {
      "text/plain": [
       "count      429.000000\n",
       "mean      6984.169742\n",
       "std       7294.161791\n",
       "min          0.000000\n",
       "25%        220.181300\n",
       "50%       4975.505000\n",
       "75%      11688.820000\n",
       "max      25564.670000\n",
       "Name: re78, dtype: float64"
      ]
     },
     "execution_count": 360,
     "metadata": {},
     "output_type": "execute_result"
    }
   ],
   "source": [
    "#Real earnings description for people who did not take the job trainig program\n",
    "non_treated.re78.describe()"
   ]
  },
  {
   "cell_type": "markdown",
   "metadata": {},
   "source": [
    "**Observation:**\n",
    "\n",
    "Considering what we know so far, there are several points that stand out in the descriptions above. \n",
    "One can see that eventhough the mean is higher for the non-treated group, with a relative difference of approximately 9%, the maximium value, on the other side, is higer in the treated group with a relative difference of approximately 57%, which is a huge difference."
   ]
  },
  {
   "cell_type": "markdown",
   "metadata": {},
   "source": [
    "Let's represent the values above with some plots. Note that for the following representations we consider relative values, since those are more meaningful comparing two groups of different size."
   ]
  },
  {
   "cell_type": "code",
   "execution_count": 361,
   "metadata": {},
   "outputs": [],
   "source": [
    "def plot_hist(feature, title1, title2):\n",
    "    fig, axes = plt.subplots(1, 2, figsize=(10, 5), sharex=True, sharey = True);\n",
    "    \n",
    "    treated_values = treated[feature]\n",
    "    non_treated_values = non_treated[feature]\n",
    "    \n",
    "    #relative weight parameters for hist plot\n",
    "    weigths_treated = np.zeros_like(treated_values) + 1. / treated_values.size\n",
    "    weigths_non_treated = np.zeros_like(non_treated_values) + 1. / non_treated_values.size \n",
    "    \n",
    "    treated_values.plot.hist(ax = axes[0],weights=weigths_treated, title=title1)\n",
    "    non_treated_values.plot.hist(ax = axes[1], weights=weigths_non_treated,title=title2)  "
   ]
  },
  {
   "cell_type": "code",
   "execution_count": 362,
   "metadata": {},
   "outputs": [
    {
     "data": {
      "image/png": "[encoded data removed]",
      "text/plain": [
       "<matplotlib.figure.Figure at 0x12fbcfd68>"
      ]
     },
     "metadata": {},
     "output_type": "display_data"
    }
   ],
   "source": [
    "plot_hist('re78', 'Treated Group - Real Earnings distribution','Non Treated Group - Real Earnings distribution')"
   ]
  },
  {
   "cell_type": "markdown",
   "metadata": {},
   "source": [
    "A naive \"researcher\" can conclude from this superficial analysis that ------------want to make propper hist with same bins width for both histograms----"
   ]
  },
  {
   "cell_type": "markdown",
   "metadata": {},
   "source": [
    "### 1.2. A closer look at the data<a class=\"anchor\" id=\"12\"></a>"
   ]
  },
  {
   "cell_type": "markdown",
   "metadata": {},
   "source": [
    "Let's take a closer look at the data before jumping to conclusions:\n",
    "\n",
    "One can not just take into account the real earning in the year of 1978 to justify the  effectiveness of the \"treatment\" represented by the job training program. This could be biased. A good analysis should consider the \"story\" of a person, since it's obvious that people with higher education, or those who already had higher real earning values in the past few years are more likely to earn more, independently if they took the program.\n",
    "\n",
    "For each feature in the dataset, we compare its distribution in the treated group with its distribution in the control group, using plots and numbers. "
   ]
  },
  {
   "cell_type": "code",
   "execution_count": 391,
   "metadata": {},
   "outputs": [],
   "source": [
    "def plot_bars(feature, title, print_values = False):\n",
    "    fig, axes = plt.subplots(1, 2, figsize=(10, 5), sharex=True, sharey = True);\n",
    "    \n",
    "    treated_values = (treated[feature].value_counts()/treated[feature].size).sort_index()\n",
    "    non_treated_values = (non_treated[feature].value_counts()/non_treated[feature].size).sort_index()\n",
    "   \n",
    "    if (print_values == True):\n",
    "        print('The distribution in the treated group takes the following values: \\n{}'.format(treated_values))\n",
    "        print('The distribution in the non treated group takes the following values: \\n{}'.format(non_treated_values))\n",
    "    \n",
    "    treated_values.plot.bar(ax = axes[0],title=('Treated Group - '+ title + ' Distribution'))\n",
    "    non_treated_values.plot.bar(ax = axes[1],title=('Non Treated Group - '+ title + ' Distribution'))"
   ]
  },
  {
   "cell_type": "markdown",
   "metadata": {},
   "source": [
    "**Is the `age` equal distributed in both groups?**"
   ]
  },
  {
   "cell_type": "code",
   "execution_count": 386,
   "metadata": {},
   "outputs": [
    {
     "data": {
      "image/png": "[encoded data removed]",
      "text/plain": [
       "<matplotlib.figure.Figure at 0x1349912b0>"
      ]
     },
     "metadata": {},
     "output_type": "display_data"
    }
   ],
   "source": [
    "plot_hist('age', 'Treated Group - Age distribution','Non Treated Group - Age distribution')"
   ]
  },
  {
   "cell_type": "markdown",
   "metadata": {},
   "source": [
    "We can't see major diferences between these two distributions, which means that the data is simillarly distributed in both groups."
   ]
  },
  {
   "cell_type": "markdown",
   "metadata": {},
   "source": [
    "**Do both groups have a simillar `education`?**"
   ]
  },
  {
   "cell_type": "code",
   "execution_count": 387,
   "metadata": {},
   "outputs": [
    {
     "data": {
      "image/png": "[encoded data removed]",
      "text/plain": [
       "<matplotlib.figure.Figure at 0x12e5e8da0>"
      ]
     },
     "metadata": {},
     "output_type": "display_data"
    }
   ],
   "source": [
    "plot_hist('educ', 'Treated Group - Education distribution','Non Treated Group - Education distribution')"
   ]
  },
  {
   "cell_type": "markdown",
   "metadata": {},
   "source": [
    "Let's compare the mean of education years in both groups:"
   ]
  },
  {
   "cell_type": "code",
   "execution_count": 388,
   "metadata": {},
   "outputs": [
    {
     "name": "stdout",
     "output_type": "stream",
     "text": [
      "There's a 9.356627879825371% difference when comparing the mean of years of education for both groups\n"
     ]
    }
   ],
   "source": [
    "mean_relativeDifference = treated.educ.mean()-non_treated.educ.mean()/treated.educ.mean()\n",
    "print(\"There's a {}% difference when comparing the mean of years of education for both groups\".\n",
    "      format(mean_relativeDifference))"
   ]
  },
  {
   "cell_type": "markdown",
   "metadata": {},
   "source": [
    "We can verify that the treated group has a higher average for years of education, which is likely to be correlated with higher real earnings as well."
   ]
  },
  {
   "cell_type": "markdown",
   "metadata": {},
   "source": [
    "**Are the three different `races` equally distributed in both groups?**"
   ]
  },
  {
   "cell_type": "code",
   "execution_count": 389,
   "metadata": {},
   "outputs": [
    {
     "name": "stdout",
     "output_type": "stream",
     "text": [
      "The distribution in the treated group takes the following values: \n",
      " 0    0.156757\n",
      "1    0.843243\n",
      "Name: black, dtype: float64\n",
      "The distribution in the non treated group takes the following values: \n",
      "0    0.797203\n",
      "1    0.202797\n",
      "Name: black, dtype: float64\n"
     ]
    },
    {
     "data": {
      "image/png": "[encoded data removed]",
      "text/plain": [
       "<matplotlib.figure.Figure at 0x134991860>"
      ]
     },
     "metadata": {},
     "output_type": "display_data"
    }
   ],
   "source": [
    "plot_bars('black', 'Black Race', print_values = True)"
   ]
  },
  {
   "cell_type": "code",
   "execution_count": 369,
   "metadata": {},
   "outputs": [
    {
     "data": {
      "image/png": "[encoded data removed]",
      "text/plain": [
       "<matplotlib.figure.Figure at 0x1313dd898>"
      ]
     },
     "metadata": {},
     "output_type": "display_data"
    }
   ],
   "source": [
    "plot_bars('hispan', 'Hispan Race')"
   ]
  },
  {
   "cell_type": "markdown",
   "metadata": {},
   "source": [
    "We can verify that the hispanic race is a minority in both groups. However, the same does not apply to the black race. In fact, more that 80% of people in the trated group belong to black race, in comparison with 20% in the non-treated group. "
   ]
  },
  {
   "cell_type": "markdown",
   "metadata": {},
   "source": [
    "**How is the `Marital status` distribuded in this two groups**"
   ]
  },
  {
   "cell_type": "code",
   "execution_count": 370,
   "metadata": {
    "scrolled": true
   },
   "outputs": [
    {
     "data": {
      "image/png": "[encoded data removed]",
      "text/plain": [
       "<matplotlib.figure.Figure at 0x1316b8400>"
      ]
     },
     "metadata": {},
     "output_type": "display_data"
    }
   ],
   "source": [
    "plot_bars('married','Marital distribution')"
   ]
  },
  {
   "cell_type": "markdown",
   "metadata": {},
   "source": [
    "The Marital distribution is not exactly the same. However, one should also take into account that this parameter is not so likely to influence the real earnings. Since `married` is a dichotomous variable, let's check the Point-biserial correlation coefficient between these two features:"
   ]
  },
  {
   "cell_type": "code",
   "execution_count": 412,
   "metadata": {},
   "outputs": [
    {
     "data": {
      "text/plain": [
       "PointbiserialrResult(correlation=0.16235762667544129, pvalue=5.3062440838823211e-05)"
      ]
     },
     "execution_count": 412,
     "metadata": {},
     "output_type": "execute_result"
    }
   ],
   "source": [
    "stats.pointbiserialr(df['married'], df['re78'])"
   ]
  },
  {
   "cell_type": "markdown",
   "metadata": {},
   "source": [
    "We can verify they these features don't have a strong dependence."
   ]
  },
  {
   "cell_type": "markdown",
   "metadata": {},
   "source": [
    "**Is the distribution of people who got `no degrees` similar in both groups?**"
   ]
  },
  {
   "cell_type": "code",
   "execution_count": 413,
   "metadata": {},
   "outputs": [
    {
     "data": {
      "image/png": "[encoded data removed]",
      "text/plain": [
       "<matplotlib.figure.Figure at 0x13c0c5160>"
      ]
     },
     "metadata": {},
     "output_type": "display_data"
    }
   ],
   "source": [
    "plot_bars('nodegree','No Degree')"
   ]
  },
  {
   "cell_type": "markdown",
   "metadata": {},
   "source": [
    "We verify that the number of people with no degrees is simillar in both cases."
   ]
  },
  {
   "cell_type": "markdown",
   "metadata": {},
   "source": [
    "### 1.3. A propensity score model<a class=\"anchor\" id=\"13\"></a>"
   ]
  },
  {
   "cell_type": "markdown",
   "metadata": {},
   "source": [
    "### 1.4. Balancing the dataset via matching <a class=\"anchor\" id=\"14\"></a>"
   ]
  },
  {
   "cell_type": "markdown",
   "metadata": {},
   "source": [
    "### 1.5. Balancing the groups further <a class=\"anchor\" id=\"15\"></a>"
   ]
  },
  {
   "cell_type": "markdown",
   "metadata": {},
   "source": [
    "### 1.6. A less naive analysis <a class=\"anchor\" id=\"16\"></a>"
   ]
  },
  {
   "cell_type": "markdown",
   "metadata": {},
   "source": [
    "TO THINK ABOUT: WHICH FACTORS CAN INFLUENCE ONE GROUP INSTEAD OF THE OTHER? IS THERE ANY BIAS HERE?\n",
    "    CAN WE CONSIDER THAT PEOPLE WHO TOOK THE JOB TRAINING PROGRAM ARE FROM THE BEGINNING MORE LIKELY TO EARN MORE\n",
    "    SINCE THEY SHOW TO BE MOTIVATED IN SO? - CHECK CAREFULLY WHICH TYPE OF PEOPLE PARTICIPATED IN THE PROGRAM"
   ]
  },
  {
   "cell_type": "markdown",
   "metadata": {},
   "source": [
    "## Task 2. Swiss Unemployment Rates Analysis - *amstat* dataset <a class=\"anchor\" id=\"2\"></a>\n",
    "\n",
    "### Assignment Instructions\n",
    "\n",
    "We are going to build a classifier of news to directly assign them to 20 news categories. Note that the pipeline that you will build in this exercise could be of great help during your project if you plan to work with text!\n",
    "\n",
    "Load the 20newsgroup dataset. It is, again, a classic dataset that can directly be loaded using sklearn (link).\n",
    "TF-IDF, short for term frequency–inverse document frequency, is of great help when if comes to compute textual features. Indeed, it gives more importance to terms that are more specific to the considered articles (TF) but reduces the importance of terms that are very frequent in the entire corpus (IDF). Compute TF-IDF features for every article using TfidfVectorizer. Then, split your dataset into a training, a testing and a validation set (10% for validation and 10% for testing). Each observation should be paired with its corresponding label (the article category).\n",
    "\n",
    "Train a random forest on your training set. Try to fine-tune the parameters of your predictor on your validation set using a simple grid search on the number of estimator \"n_estimators\" and the max depth of the trees \"max_depth\". Then, display a confusion matrix of your classification pipeline. Lastly, once you assessed your model, inspect the feature_importances_ attribute of your random forest and discuss the obtained results.\n",
    "\n",
    "### 2.1. Pick a DataSet to analyse <a class=\"anchor\" id=\"21\"></a>"
   ]
  },
  {
   "cell_type": "markdown",
   "metadata": {},
   "source": [
    "### 2.2. Choropleth map of Cantonal Unemployment Rates  <a class=\"anchor\" id=\"22\"></a>"
   ]
  }
 ],
 "metadata": {
  "anaconda-cloud": {},
  "kernelspec": {
   "display_name": "Python [conda root]",
   "language": "python",
   "name": "conda-root-py"
  },
  "language_info": {
   "codemirror_mode": {
    "name": "ipython",
    "version": 3
   },
   "file_extension": ".py",
   "mimetype": "text/x-python",
   "name": "python",
   "nbconvert_exporter": "python",
   "pygments_lexer": "ipython3",
   "version": "3.6.1"
  }
 },
 "nbformat": 4,
 "nbformat_minor": 2
}
