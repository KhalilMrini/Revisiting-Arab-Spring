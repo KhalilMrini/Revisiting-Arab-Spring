{
 "cells": [
  {
   "cell_type": "markdown",
   "metadata": {},
   "source": [
    "# Homework 4- Table of Contents\n",
    "\n",
    "### [Task 1. Propensity score matching](#1)\n",
    "- [1.1. A naive analysis](#11)\n",
    "\n",
    "- [1.2. A closer look at the data](#12)\n",
    "\n",
    "- [1.3. A propensity score model](#13)\n",
    "\n",
    "- [1.4. Balancing the dataset via matching](#14)\n",
    "\n",
    "- [1.5. Balancing the groups further](#15)\n",
    "\n",
    "- [1.6. A less naive analysis](#14)\n",
    "\n",
    "\n",
    "### [Task 2. Applied ML](#2)\n",
    "- [2.1. Load data](#21)\n",
    "\n",
    "- [2.2. Train data with random forest](#22)"
   ]
  },
  {
   "cell_type": "markdown",
   "metadata": {},
   "source": [
    "### Imports - libraries"
   ]
  },
  {
   "cell_type": "code",
   "execution_count": 1031,
   "metadata": {},
   "outputs": [],
   "source": [
    "import pandas as pd\n",
    "import numpy as np\n",
    "import matplotlib.pyplot as plt\n",
    "from sklearn.linear_model import LinearRegression, LogisticRegression\n",
    "from sklearn.preprocessing import OneHotEncoder\n",
    "from pandas.plotting import scatter_matrix\n",
    "from sklearn.model_selection import cross_val_predict\n",
    "from sklearn.model_selection import cross_val_score\n",
    "from scipy import stats\n",
    "import seaborn as sns\n",
    "%matplotlib inline\n",
    "\n",
    "pd.options.mode.chained_assignment = None  # default='warn'"
   ]
  },
  {
   "cell_type": "markdown",
   "metadata": {},
   "source": [
    "### Imports - data"
   ]
  },
  {
   "cell_type": "code",
   "execution_count": 1032,
   "metadata": {},
   "outputs": [],
   "source": [
    "df = pd.read_csv('lalonde.csv', index_col = 0)"
   ]
  },
  {
   "cell_type": "markdown",
   "metadata": {},
   "source": [
    "We check that data doesn't have any missing/null values:"
   ]
  },
  {
   "cell_type": "code",
   "execution_count": 1033,
   "metadata": {},
   "outputs": [
    {
     "data": {
      "text/plain": [
       "False"
      ]
     },
     "execution_count": 1033,
     "metadata": {},
     "output_type": "execute_result"
    }
   ],
   "source": [
    "df.isnull().values.any()"
   ]
  },
  {
   "cell_type": "markdown",
   "metadata": {},
   "source": [
    "## Task 1. Propensity Score Matching <a class=\"anchor\" id=\"1\"></a>\n",
    "\n",
    "### Assignment Instructions\n",
    "In this exercise, you will apply propensity score matching, which we discussed in lecture 5 (\"Observational studies\"), in order to draw conclusions from an observational study.\n",
    "\n",
    "We will work with a by-now classic dataset from Robert LaLonde's study \"Evaluating the Econometric Evaluations of Training Programs\" (1986). The study investigated the effect of a job training program (\"National Supported Work Demonstration\") on the real earnings of an individual, a couple of years after completion of the program. Your task is to determine the effectiveness of the \"treatment\" represented by the job training program.\n",
    "\n",
    "### Dataset description\n",
    "\n",
    "The dataset contain the following fatures:\n",
    "\n",
    "- `treat`: 1 if the subject participated in the job training program, 0 otherwise\n",
    "- `age`: the subject's age\n",
    "- `educ`: years of education\n",
    "- `race`: categorical variable with three possible values: Black, Hispanic, or White\n",
    "- `married`: 1 if the subject was married at the time of the training program, 0 otherwise\n",
    "- `nodegree`: 1 if the subject has earned no school degree, 0 otherwise\n",
    "- `re74`: real earnings in 1974 (pre-treatment)\n",
    "- `re75`: real earnings in 1975 (pre-treatment)\n",
    "- `re78`: real earnings in 1978 (outcome)\n",
    "\n",
    "\n",
    "### Assumptions\n",
    "The dataset contain several records with zero values for real earnings. Since we are trying to evaluate the efectiveness of the job program in the real earnings, we should also consider those who did not find a job. For this reason, we will keep these values in a first iterarion over the problem. "
   ]
  },
  {
   "cell_type": "markdown",
   "metadata": {},
   "source": [
    "### Plot Functions\n",
    "\n",
    "We define the following functions to be used during the homework, when plotting and analysing the variables:"
   ]
  },
  {
   "cell_type": "code",
   "execution_count": 1137,
   "metadata": {},
   "outputs": [],
   "source": [
    "def plot_hist(treated_df, control_df, features, title, range_):\n",
    "    '''Funtion that receives a vector of continuos features to plot.\n",
    "    Overlap the input features for both groups, treated and control'''\n",
    "    \n",
    "    fig, axes = plt.subplots(1, 2, figsize=(8, 4), sharex=True, sharey = True)\n",
    "    \n",
    "    plots = []\n",
    "    #layers:\n",
    "    for i in range(len(features)):\n",
    "        plots.append(treated_df[features[i]])\n",
    "        plots.append(control_df[features[i]])   \n",
    "        \n",
    "    #relative weight parameters for hist plot\n",
    "    weights = []\n",
    "    for i in range(len(plots)):\n",
    "        weights.append(np.zeros_like(plots[i]) + 1. / plots[i].size) \n",
    "        \n",
    "    #plot histograms\n",
    "    for i in range(len(features)):\n",
    "        j = i\n",
    "        i = i*len(features)\n",
    "        plots[i].plot.hist(ax = axes[0],weights=weights[i], title=('Treated Group: '+ title),\n",
    "                        range =range_, alpha=0.5, label=features[j], bins = 20)\n",
    "        plots[i+1].plot.hist(ax = axes[1], weights=weights[i+1], title=('Control Group: '+ title),\n",
    "                        range =range_, alpha=0.5, label=features[j], bins = 20)\n",
    "        \n",
    "    axes[0].legend(loc=\"upper right\")\n",
    "    axes[1].legend(loc=\"upper right\")    \n",
    "\n",
    "    \n",
    "def plot_bars(treated_df, control_df,feature, title, print_values = False):\n",
    "    '''Funtion that receives a categorical feature to plot.\n",
    "    Draws a barplot  for both groups, treated and control'''\n",
    "    fig, axes = plt.subplots(1, 2, figsize=(8, 4), sharex=True, sharey = True);\n",
    "    \n",
    "    treated_values = (treated_df[feature].value_counts()/treated_df[feature].size).sort_index()\n",
    "    control_values = (control_df[feature].value_counts()/control_df[feature].size).sort_index()\n",
    "   \n",
    "    #print auxiliar values\n",
    "    if (print_values == True):\n",
    "        print('The distribution in the treated group takes the following values: \\n{}'.format(treated_values))\n",
    "        print('The distribution in the control group takes the following values: \\n{}'.format(control_values))\n",
    "    \n",
    "    #plot histograms\n",
    "    treated_values.plot.bar(ax = axes[0],title=('Treated Group - '+ title),alpha=0.5)\n",
    "    control_values.plot.bar(ax = axes[1],title=('Control Group - '+ title))\n",
    "    \n",
    "    #set legends\n",
    "    axes[0].legend(loc=\"upper right\")\n",
    "    axes[1].legend(loc=\"upper right\")  \n",
    "    \n",
    "\n",
    "def plot_box(feature, title):\n",
    "    '''Funtion that receives a categorical feature to plot.\n",
    "    Draws a box plot  for both groups, treated and control'''\n",
    "    fig, axes = plt.subplots(1, 2, figsize=(8, 4), sharex=True, sharey = True);\n",
    "    \n",
    "    treated_values = treated[feature]\n",
    "    control_values = control[feature]\n",
    "    \n",
    "    treated_values.plot.box(ax = axes[0],title=('Treated Group: '+ title), label=feature)\n",
    "    control_values.plot.box(ax = axes[1],title=('Control Group: '+ title), label=feature)  "
   ]
  },
  {
   "cell_type": "markdown",
   "metadata": {},
   "source": [
    "**Distribution Drawers**"
   ]
  },
  {
   "cell_type": "code",
   "execution_count": 1190,
   "metadata": {},
   "outputs": [],
   "source": [
    "def plot_distribution(features, title1, title2, df1=treated, df2=control, bins=50):\n",
    "    #fig, axes = plt.subplots(1, 2, figsize=(10, 5), sharex=True, sharey = True);\n",
    "    \n",
    "    treated_values = [df1[feature] for feature in features]\n",
    "    non_treated_values = [df1[feature] for feature in features]\n",
    "    \n",
    "    colors = ['g','b', 'c','k', 'm', 'y', 'r']\n",
    "    max_range = [max([max(treated_values[i]), max(non_treated_values[i])]) for i in range(len(features))]\n",
    "    \n",
    "    plt.figure(figsize=(14,7))\n",
    "    plt.subplot(1,2,1)\n",
    "    for i in range(len(features)):\n",
    "        plot_data(treated_values[i], bins, max_range[i], colors=[colors[i], colors[-(i+1)]], alpha=1/(2*i+1))\n",
    "        plt.title(title1)\n",
    "    \n",
    "    plt.subplot(1,2,2)\n",
    "    for i in range(len(features)):\n",
    "        plot_data(non_treated_values[i], bins, max_range[i], colors=[colors[i], colors[-(i+1)]], alpha=1/(2*i+1))\n",
    "        plt.title(title2)\n",
    "    \n",
    "def plot_data(data, bins, max_range, colors=['g', 'r'], alpha=1):\n",
    "    # the histogram of the data\n",
    "    n, bins, patches = plt.hist(data, bins, normed=True, facecolor=colors[0], range=(0,max_range), alpha=alpha)    \n",
    "    # best fit of data\n",
    "    (mu, sigma) = norm.fit(data)\n",
    "    # add a 'best fit' line\n",
    "    y = mlab.normpdf(bins, mu, sigma)\n",
    "    plt.plot(bins, y, colors[1]+'--', linewidth=3)"
   ]
  },
  {
   "cell_type": "markdown",
   "metadata": {},
   "source": [
    "### 1.1. A Naive Analysis<a class=\"anchor\" id=\"11\"></a>\n",
    "\n",
    "At this point, we will start by comparing the distribution of the outcome variable (re78) between the two groups in an naively way, this is, without questioning the bias of such data. \n",
    "\n",
    "We start by spliting the treatment group and control group in two different categories:"
   ]
  },
  {
   "cell_type": "code",
   "execution_count": 1138,
   "metadata": {},
   "outputs": [],
   "source": [
    "#create two distinct data frames for each group\n",
    "treated = df[(df.treat ==1)]\n",
    "control = df[(df.treat == 0)]"
   ]
  },
  {
   "cell_type": "markdown",
   "metadata": {},
   "source": [
    "Let's check the general numerical values of real earning in the year of 1978 for both groups:"
   ]
  },
  {
   "cell_type": "code",
   "execution_count": 1139,
   "metadata": {},
   "outputs": [
    {
     "data": {
      "text/plain": [
       "count      185.000000\n",
       "mean      6349.143530\n",
       "std       7867.402218\n",
       "min          0.000000\n",
       "25%        485.229800\n",
       "50%       4232.309000\n",
       "75%       9642.999000\n",
       "max      60307.930000\n",
       "Name: re78, dtype: float64"
      ]
     },
     "execution_count": 1139,
     "metadata": {},
     "output_type": "execute_result"
    }
   ],
   "source": [
    "#Real earnings description for people who took the job trainig program\n",
    "treated.re78.describe()"
   ]
  },
  {
   "cell_type": "code",
   "execution_count": 1140,
   "metadata": {},
   "outputs": [
    {
     "data": {
      "text/plain": [
       "count      429.000000\n",
       "mean      6984.169742\n",
       "std       7294.161791\n",
       "min          0.000000\n",
       "25%        220.181300\n",
       "50%       4975.505000\n",
       "75%      11688.820000\n",
       "max      25564.670000\n",
       "Name: re78, dtype: float64"
      ]
     },
     "execution_count": 1140,
     "metadata": {},
     "output_type": "execute_result"
    }
   ],
   "source": [
    "#Real earnings description for people who did not take the job trainig program\n",
    "control.re78.describe()"
   ]
  },
  {
   "cell_type": "markdown",
   "metadata": {},
   "source": [
    "**Observation:**\n",
    "\n",
    "Considering what we know so far, there are several points that stand out in the descriptions above. \n",
    "One can see that the **mean** is higher for the control group, with a relative difference of approximately 9%. \n",
    "\n",
    "However, the **maximium** value, on the other side, is higer in the treated group with a relative difference of approximately 57%, which is a huge difference.\n",
    "\n",
    "Note that the **quartiles** play an important role in this analysis since their robustness to outliers. We check that only for the first quartile, the trated group has a higher value, since for the following ones the control group presents higher earnings. \n",
    "\n",
    "From the analysis above, one can (naively) conclude that the treatment is more helpul for those who had small salaries."
   ]
  },
  {
   "cell_type": "markdown",
   "metadata": {},
   "source": [
    "Let's represent the values above with some plots. Note that for the following representations we consider **relative values**, since those are more meaningful comparing two groups of different size."
   ]
  },
  {
   "cell_type": "code",
   "execution_count": 1141,
   "metadata": {},
   "outputs": [
    {
     "data": {
      "image/png": "[encoded data removed]",
      "text/plain": [
       "<matplotlib.figure.Figure at 0x118717358>"
      ]
     },
     "metadata": {},
     "output_type": "display_data"
    }
   ],
   "source": [
    "plot_hist(treated, control, ['re78'], 'Real Earnings 1978', (0,65000))"
   ]
  },
  {
   "cell_type": "code",
   "execution_count": 1142,
   "metadata": {},
   "outputs": [
    {
     "data": {
      "image/png": "[encoded data removed]",
      "text/plain": [
       "<matplotlib.figure.Figure at 0x11834a828>"
      ]
     },
     "metadata": {},
     "output_type": "display_data"
    }
   ],
   "source": [
    "plot_box('re78', 'Real Earnings 1978')"
   ]
  },
  {
   "cell_type": "markdown",
   "metadata": {},
   "source": [
    "A naive \"researcher\" can conclude from this superficial analysis that ------------want to make propper hist with same bins width for both histograms----"
   ]
  },
  {
   "cell_type": "markdown",
   "metadata": {},
   "source": [
    "### 1.2. A closer look at the data<a class=\"anchor\" id=\"12\"></a>"
   ]
  },
  {
   "cell_type": "markdown",
   "metadata": {},
   "source": [
    "Let's take a closer look at the data before jumping to conclusions:\n",
    "\n",
    "One can not just take into account the real earning in the year of 1978 to justify the  effectiveness of the \"treatment\" represented by the job training program. This could be biased. A good analysis should consider the \"story\" of a person, since it's obvious that people with higher education, or those who already had higher real earning values in the past few years are more likely to earn more, independently if they took the program or not.\n",
    "\n",
    "For each feature in the dataset, we compare its distribution in the treated group with its distribution in the control group, using plots and numbers. "
   ]
  },
  {
   "cell_type": "markdown",
   "metadata": {},
   "source": [
    "**Is the `age` equal distributed in both groups?**"
   ]
  },
  {
   "cell_type": "code",
   "execution_count": 1143,
   "metadata": {},
   "outputs": [
    {
     "data": {
      "image/png": "[encoded data removed]",
      "text/plain": [
       "<matplotlib.figure.Figure at 0x11d14ba90>"
      ]
     },
     "metadata": {},
     "output_type": "display_data"
    }
   ],
   "source": [
    "age_range = (min(control['age'].min(),treated['age'].min()),max(control['age'].max(), treated['age'].max()))\n",
    "plot_hist(treated, control,['age'], 'Age', age_range)"
   ]
  },
  {
   "cell_type": "markdown",
   "metadata": {},
   "source": [
    "Eventhough the difference is not impressive, we can verify that the non treated group has a higher percentage of **older people**, in comparison with group one. This is relevant since higher earnings are usually associated with more years of professional career."
   ]
  },
  {
   "cell_type": "markdown",
   "metadata": {},
   "source": [
    "**Do both groups have a simillar `education`?**"
   ]
  },
  {
   "cell_type": "code",
   "execution_count": 1144,
   "metadata": {},
   "outputs": [
    {
     "data": {
      "image/png": "[encoded data removed]",
      "text/plain": [
       "<matplotlib.figure.Figure at 0x119082be0>"
      ]
     },
     "metadata": {},
     "output_type": "display_data"
    }
   ],
   "source": [
    "educ_range = (min(control['educ'].min(),treated['educ'].min()),max(control['educ'].max(), treated['educ'].max()))\n",
    "plot_hist(treated, control,['educ'], 'Education', educ_range)"
   ]
  },
  {
   "cell_type": "markdown",
   "metadata": {},
   "source": [
    "Let's compare the mean of education years in both groups:"
   ]
  },
  {
   "cell_type": "code",
   "execution_count": 1145,
   "metadata": {},
   "outputs": [
    {
     "name": "stdout",
     "output_type": "stream",
     "text": [
      "There's a 1.068193387942603% difference when comparing the mean of years of education for both groups\n"
     ]
    }
   ],
   "source": [
    "mean_relativeDifference = ((treated.educ.mean()-control.educ.mean())/treated.educ.mean())*100\n",
    "print(\"There's a {}% difference when comparing the mean of years of education for both groups\".\n",
    "      format(mean_relativeDifference))"
   ]
  },
  {
   "cell_type": "markdown",
   "metadata": {},
   "source": [
    "A different years of education distributtion could affect the bias of the results, since more years of study are likely to be correlated with higher real earnings as well. However, the difference is just 1%, which is almost neglible."
   ]
  },
  {
   "cell_type": "markdown",
   "metadata": {},
   "source": [
    "**Are the three different `races` equally distributed in both groups?**"
   ]
  },
  {
   "cell_type": "code",
   "execution_count": 1146,
   "metadata": {},
   "outputs": [
    {
     "name": "stdout",
     "output_type": "stream",
     "text": [
      "The distribution in the treated group takes the following values: \n",
      "0    0.156757\n",
      "1    0.843243\n",
      "Name: black, dtype: float64\n",
      "The distribution in the control group takes the following values: \n",
      "0    0.797203\n",
      "1    0.202797\n",
      "Name: black, dtype: float64\n"
     ]
    },
    {
     "data": {
      "image/png": "[encoded data removed]",
      "text/plain": [
       "<matplotlib.figure.Figure at 0x11d0e2320>"
      ]
     },
     "metadata": {},
     "output_type": "display_data"
    }
   ],
   "source": [
    "plot_bars(treated, control, 'black', 'Black Race', print_values = True)"
   ]
  },
  {
   "cell_type": "code",
   "execution_count": 1147,
   "metadata": {},
   "outputs": [
    {
     "data": {
      "image/png": "[encoded data removed]",
      "text/plain": [
       "<matplotlib.figure.Figure at 0x11cc99400>"
      ]
     },
     "metadata": {},
     "output_type": "display_data"
    }
   ],
   "source": [
    "plot_bars(treated, control, 'hispan', 'Hispan Race')"
   ]
  },
  {
   "cell_type": "markdown",
   "metadata": {},
   "source": [
    "We can verify that the hispanic race is a minority in both groups. However, the same does not apply to the black race. In fact, more that 80% of people in the trated group belong to black race, in comparison with 20% in the non-treated group. "
   ]
  },
  {
   "cell_type": "markdown",
   "metadata": {},
   "source": [
    "**How is the `Marital status` distribuded in this two groups**"
   ]
  },
  {
   "cell_type": "code",
   "execution_count": 1148,
   "metadata": {
    "scrolled": true
   },
   "outputs": [
    {
     "data": {
      "image/png": "[encoded data removed]",
      "text/plain": [
       "<matplotlib.figure.Figure at 0x1184b1198>"
      ]
     },
     "metadata": {},
     "output_type": "display_data"
    }
   ],
   "source": [
    "plot_bars(treated, control, 'married','Marital distribution')"
   ]
  },
  {
   "cell_type": "markdown",
   "metadata": {},
   "source": [
    "The Marital distribution is not exactly the same. However, one should also take into account that this parameter is not so likely to influence the real earnings. Since `married` is a dichotomous variable, let's check the `Point-biserial correlation coefficient` between these two features:\n",
    "\n",
    "For more information about Point-biserial correlation coefficient click <a href=\"https://en.wikipedia.org/wiki/Point-biserial_correlation_coefficient\">here</a>."
   ]
  },
  {
   "cell_type": "code",
   "execution_count": 1046,
   "metadata": {},
   "outputs": [
    {
     "data": {
      "text/plain": [
       "PointbiserialrResult(correlation=0.16235762667544129, pvalue=5.3062440838823211e-05)"
      ]
     },
     "execution_count": 1046,
     "metadata": {},
     "output_type": "execute_result"
    }
   ],
   "source": [
    "stats.pointbiserialr(df['married'], df['re78'])"
   ]
  },
  {
   "cell_type": "markdown",
   "metadata": {},
   "source": [
    "We can verify they these features don't have a strong dependence."
   ]
  },
  {
   "cell_type": "markdown",
   "metadata": {},
   "source": [
    "**Is the distribution of people who got `no degrees` similar in both groups?**"
   ]
  },
  {
   "cell_type": "code",
   "execution_count": 1150,
   "metadata": {},
   "outputs": [
    {
     "data": {
      "image/png": "[encoded data removed]",
      "text/plain": [
       "<matplotlib.figure.Figure at 0x118533a20>"
      ]
     },
     "metadata": {},
     "output_type": "display_data"
    }
   ],
   "source": [
    "plot_bars(treated, control,'nodegree','No Degree')"
   ]
  },
  {
   "cell_type": "markdown",
   "metadata": {},
   "source": [
    "We verify that the number of people with no degrees is simillar in both cases."
   ]
  },
  {
   "cell_type": "markdown",
   "metadata": {},
   "source": [
    "**But how high were the `real earnings` before the treatment? And how do they compare to the ones from 1978?** "
   ]
  },
  {
   "cell_type": "code",
   "execution_count": 1048,
   "metadata": {},
   "outputs": [
    {
     "name": "stdout",
     "output_type": "stream",
     "text": [
      "Average treated group real earnings in: \n",
      "1974: 2095.573688648649\n",
      "1975: 1532.055313783784\n",
      "\n",
      "Average control group real earnings in: \n",
      "1974: 5619.236506386947\n",
      "1975: 2466.4844431235447\n"
     ]
    }
   ],
   "source": [
    "print('Average treated group real earnings in: \\n1974: {}\\n1975: {}'.format(treated.re74.mean(), treated.re75.mean()))\n",
    "print('\\nAverage control group real earnings in: \\n1974: {}\\n1975: {}'.format(control.re74.mean(), control.re75.mean()))"
   ]
  },
  {
   "cell_type": "markdown",
   "metadata": {},
   "source": [
    "We see that the data is biased since the control group already had higher earnings before the beginning of the treatment! A more interest comparison would be to compare the difference between the earnings before and after the treatment. \n",
    "\n",
    "Keeping this in mind we create the following features:\n",
    "- `re_PreTreament`: average of the earnings of 1974 and 1975:\n",
    "- `improvement`: difference between the earnings in 1978 and the average of the earnings of 1974 and 1975\n"
   ]
  },
  {
   "cell_type": "code",
   "execution_count": 1049,
   "metadata": {},
   "outputs": [],
   "source": [
    "#define re_PreTreatment\n",
    "treated['re_PreTreatment']=(treated['re75']+treated['re74'])/2\n",
    "control['re_PreTreatment']=(control['re75']+control['re74'])/2\n",
    "\n",
    "#define improvement\n",
    "treated['improvement']=treated['re78']-treated['re_PreTreatment']\n",
    "control['improvement']=control['re78']-control['re_PreTreatment']"
   ]
  },
  {
   "cell_type": "markdown",
   "metadata": {},
   "source": [
    "Which group has a higher `improvement`:"
   ]
  },
  {
   "cell_type": "code",
   "execution_count": 1050,
   "metadata": {},
   "outputs": [
    {
     "name": "stdout",
     "output_type": "stream",
     "text": [
      "Average improvement in the TREATED group:  4535.329029054054\n",
      "Average improvement in the CONTROL group:  2941.3092675524467\n"
     ]
    }
   ],
   "source": [
    "print('Average improvement in the TREATED group: ', treated.improvement.mean())\n",
    "print('Average improvement in the CONTROL group: ', control.improvement.mean())"
   ]
  },
  {
   "cell_type": "markdown",
   "metadata": {},
   "source": [
    "From the values above the conclusion we take is completely different!\n",
    "\n",
    "To ilustrate more intuitively, we will overlap the histogram distribution of the real earnings before and after treatment:"
   ]
  },
  {
   "cell_type": "code",
   "execution_count": 1051,
   "metadata": {},
   "outputs": [
    {
     "data": {
      "image/png": "[encoded data removed]",
      "text/plain": [
       "<matplotlib.figure.Figure at 0x119359a90>"
      ]
     },
     "metadata": {},
     "output_type": "display_data"
    }
   ],
   "source": [
    "plot_hist(treated, control,['re_PreTreatment', 're78'], 'Real Earnings', (0,65000))"
   ]
  },
  {
   "cell_type": "markdown",
   "metadata": {},
   "source": [
    "**Conclusion**\n",
    "\n",
    "If at some point, naively, we thought that the program was not effective, these values show the oposite!\n",
    "\n",
    "By the observation of the histogram above, it's noticeable that the difference between the real earnings before and after treatment in the Treated Group is more striking then in the Control Group.\n",
    "\n",
    "This lead us to conclude that the programe is in fact effective."
   ]
  },
  {
   "cell_type": "markdown",
   "metadata": {},
   "source": [
    "### 1.3. A propensity score model<a class=\"anchor\" id=\"13\"></a>"
   ]
  },
  {
   "cell_type": "markdown",
   "metadata": {},
   "source": [
    "**Propensity Score Matching**:\n",
    "To apply the propensity score matching, we will follow the following steps:\n",
    "\n",
    "1. Run logistic regression **Question (1.3)**\n",
    "\n",
    "2. Check that propensity score is balanced across treatment and comparison groups, and check that covariates are balanced across treatment and comparison groups within strata of the propensity score. **Question (1.3)**\n",
    "\n",
    "3. Match each participant to one or more nonparticipants on propensity score **Question (1.4)**\n",
    "\n",
    "4. Verify that covariates are balanced across treatment and comparison groups in the matched or weighted sample **Question (1.5)**\n",
    "\n",
    "5. Multivariate analysis based on new sample **Question (1.6)**"
   ]
  },
  {
   "cell_type": "markdown",
   "metadata": {},
   "source": [
    "**Run Logistic Regression**"
   ]
  },
  {
   "cell_type": "code",
   "execution_count": 1052,
   "metadata": {},
   "outputs": [
    {
     "data": {
      "text/plain": [
       "LogisticRegression(C=1.0, class_weight=None, dual=False, fit_intercept=True,\n",
       "          intercept_scaling=1, max_iter=100, multi_class='ovr', n_jobs=1,\n",
       "          penalty='l2', random_state=None, solver='liblinear', tol=0.0001,\n",
       "          verbose=0, warm_start=False)"
      ]
     },
     "execution_count": 1052,
     "metadata": {},
     "output_type": "execute_result"
    }
   ],
   "source": [
    "features = df[[\"age\",\"educ\",\"black\",\"hispan\",\"married\",\"nodegree\",\"re74\",\"re75\",\"re78\"]]\n",
    "labels = df[\"treat\"]\n",
    "\n",
    "logistic = LogisticRegression()\n",
    "logistic.fit(features, labels)"
   ]
  },
  {
   "cell_type": "markdown",
   "metadata": {},
   "source": [
    "**Check that propensity score is balanced across treatment and comparison groups**"
   ]
  },
  {
   "cell_type": "markdown",
   "metadata": {},
   "source": [
    "We create a new column in the dataframe,`probability_treat`, which represents the probability of receiving the treatment:"
   ]
  },
  {
   "cell_type": "code",
   "execution_count": 1118,
   "metadata": {},
   "outputs": [],
   "source": [
    "df['probability_treat'] = logistic.predict_proba(features) [:,1]\n",
    "df = df.reset_index()"
   ]
  },
  {
   "cell_type": "markdown",
   "metadata": {},
   "source": [
    "Let's observe if `probability_treat` is balanced across treatment and comparison groups, plotting an histogram:"
   ]
  },
  {
   "cell_type": "code",
   "execution_count": 1120,
   "metadata": {},
   "outputs": [
    {
     "data": {
      "image/png": "[encoded data removed]",
      "text/plain": [
       "<matplotlib.figure.Figure at 0x118641128>"
      ]
     },
     "metadata": {},
     "output_type": "display_data"
    }
   ],
   "source": [
    "plot_hist(df[(df.treat ==1)],df[(df.treat ==0)],['probability_treat'], 'Propensity Score', (0,1))"
   ]
  },
  {
   "cell_type": "code",
   "execution_count": 1121,
   "metadata": {},
   "outputs": [
    {
     "name": "stdout",
     "output_type": "stream",
     "text": [
      "treated group mean:  0.5554526101002215\n",
      "control group mean:  0.20415456056068765\n"
     ]
    }
   ],
   "source": [
    "print('treated group mean: ', df[(df.treat ==1)].probability_treat.mean())\n",
    "print('control group mean: ', df[(df.treat ==0)].probability_treat.mean())"
   ]
  },
  {
   "cell_type": "markdown",
   "metadata": {},
   "source": [
    "As one would expect, we see that the propensity score is not balanced across the two groups, which introduce some bias on the results we've seen so far. To compensate such difference, we apply a **propensity score match**."
   ]
  },
  {
   "cell_type": "markdown",
   "metadata": {},
   "source": [
    "### 1.4. Balancing the dataset via matching <a class=\"anchor\" id=\"14\"></a>"
   ]
  },
  {
   "cell_type": "markdown",
   "metadata": {},
   "source": [
    "In this section we follow on with the refered methods refered above to apply the propensity score matching."
   ]
  },
  {
   "cell_type": "markdown",
   "metadata": {},
   "source": [
    "**Match each participant to one or more nonparticipants on propensity score**"
   ]
  },
  {
   "cell_type": "code",
   "execution_count": 1163,
   "metadata": {},
   "outputs": [],
   "source": [
    "import networkx as nx\n",
    "from networkx.algorithms import bipartite\n",
    "\n",
    "def create_graph(df):\n",
    "    #create graph where each id identify a node\n",
    "    graph = nx.Graph()\n",
    "    graph.add_nodes_from(df[df['treat'] ==0 ].id, bipartite = 0)\n",
    "    graph.add_nodes_from(df[df['treat'] ==1 ].id, bipartite = 1)\n",
    "    return graph\n",
    "\n",
    "def match_nodes(df, graph):\n",
    "    '''We follow on with the creation of edges where each weight corresponds to the diference of propensity score.\n",
    "    To find the \"cheapest\" matches we use the function \"nx.max_weight_matching\"\n",
    "    Note however, that we have to insert a '-' signal, to transform a minimization problem into a maximization'''\n",
    "    for row_treat in df[df['treat'] ==1 ].iterrows():\n",
    "        for row_control in df[df['treat'] ==0 ].iterrows():\n",
    "            graph.add_edge(row_treat[1]['id'],row_control[1]['id'], \n",
    "                       weight= (-np.abs(row_treat[1]['probability_treat'] - row_control[1]['probability_treat'])))\n",
    "    \n",
    "    matches = nx.max_weight_matching(graph, maxcardinality=True)\n",
    "    \n",
    "    return matches"
   ]
  },
  {
   "cell_type": "code",
   "execution_count": 1164,
   "metadata": {},
   "outputs": [],
   "source": [
    "#initialize graph\n",
    "graph = create_graph(df)\n",
    "\n",
    "#creat edges and find minimal weight solution\n",
    "matches_dict = match_nodes(df, graph)"
   ]
  },
  {
   "cell_type": "markdown",
   "metadata": {},
   "source": [
    "Drop repetitive information in the dict:"
   ]
  },
  {
   "cell_type": "code",
   "execution_count": 1165,
   "metadata": {},
   "outputs": [],
   "source": [
    "matches_dict_aux = {}\n",
    "for key in matches_dict:\n",
    "    if key in list(df[df['treat'] == 1].id):\n",
    "        matches_dict_aux[key] = matches_dict[key]\n",
    "matches_dict = matches_dict_aux"
   ]
  },
  {
   "cell_type": "markdown",
   "metadata": {},
   "source": [
    "So far, we already have a dictionary with the matches with minimize the cost, this is, the sum (over all matched pairs) of absolute propensity-score differences between the two matched subjects.\n",
    "\n",
    "Now we create a new df for the control group with the matched values, and analyse `how the features are distributed after having applied the match`:"
   ]
  },
  {
   "cell_type": "code",
   "execution_count": 1186,
   "metadata": {},
   "outputs": [],
   "source": [
    "matched_control = df[df['id'].isin(matches_dict.values())]"
   ]
  },
  {
   "cell_type": "markdown",
   "metadata": {},
   "source": [
    "**Features Distribution**"
   ]
  },
  {
   "cell_type": "markdown",
   "metadata": {},
   "source": [
    "We start by comparing `re78`:"
   ]
  },
  {
   "cell_type": "code",
   "execution_count": 1187,
   "metadata": {},
   "outputs": [
    {
     "data": {
      "image/png": "[encoded data removed]",
      "text/plain": [
       "<matplotlib.figure.Figure at 0x1174f4b70>"
      ]
     },
     "metadata": {},
     "output_type": "display_data"
    }
   ],
   "source": [
    "#Real Earnings\n",
    "re78_range = (min(matched_control['re78'].min(),treated['re78'].min()),\n",
    "             max(matched_control['re78'].max(), treated['re78'].max()))\n",
    "plot_hist(treated, matched_control,['re78'], 'Re78', re78_range)"
   ]
  },
  {
   "cell_type": "code",
   "execution_count": 1188,
   "metadata": {},
   "outputs": [
    {
     "data": {
      "image/png": "[encoded data removed]",
      "text/plain": [
       "<matplotlib.figure.Figure at 0x11b817f28>"
      ]
     },
     "metadata": {},
     "output_type": "display_data"
    },
    {
     "data": {
      "image/png": "[encoded data removed]",
      "text/plain": [
       "<matplotlib.figure.Figure at 0x119be0630>"
      ]
     },
     "metadata": {},
     "output_type": "display_data"
    },
    {
     "data": {
      "image/png": "[encoded data removed]",
      "text/plain": [
       "<matplotlib.figure.Figure at 0x119be0a58>"
      ]
     },
     "metadata": {},
     "output_type": "display_data"
    },
    {
     "data": {
      "image/png": "[encoded data removed]",
      "text/plain": [
       "<matplotlib.figure.Figure at 0x11b542b00>"
      ]
     },
     "metadata": {},
     "output_type": "display_data"
    },
    {
     "data": {
      "image/png": "[encoded data removed]",
      "text/plain": [
       "<matplotlib.figure.Figure at 0x11cd84470>"
      ]
     },
     "metadata": {},
     "output_type": "display_data"
    },
    {
     "data": {
      "image/png": "[encoded data removed]",
      "text/plain": [
       "<matplotlib.figure.Figure at 0x117a85a58>"
      ]
     },
     "metadata": {},
     "output_type": "display_data"
    }
   ],
   "source": [
    "#age\n",
    "age_range = (min(matched_control['age'].min(),treated['age'].min()),\n",
    "             max(matched_control['age'].max(), treated['age'].max()))\n",
    "plot_hist(treated, matched_control,['age'], 'Age', age_range)\n",
    "\n",
    "#years of education\n",
    "educ_range = (min(matched_control['educ'].min(),treated['educ'].min()),\n",
    "              max(matched_control['educ'].max(), treated['educ'].max()))\n",
    "plot_hist(treated, matched_control,['educ'], 'Education', educ_range)\n",
    "\n",
    "#Black Race\n",
    "plot_bars(treated, matched_control,'black', 'Black Race')\n",
    "\n",
    "#Hispan Race\n",
    "plot_bars(treated, matched_control,'hispan', 'Hispan Race')\n",
    "\n",
    "#married status\n",
    "plot_bars(treated, matched_control, 'married','Marital distribution')\n",
    "\n",
    "#no degree\n",
    "plot_bars(treated, matched_control, 'nodegree','No degree distribution')"
   ]
  },
  {
   "cell_type": "markdown",
   "metadata": {},
   "source": [
    "**Conclusion**\n",
    "\n",
    "For the observation of the histograms above, we conclude that having matched the two groups using propensity score matching actually allowed to balance the distribution for all the features (including the married, which is now similar) except from the `black` and `age` features. In the next section we deal with such problem."
   ]
  },
  {
   "cell_type": "markdown",
   "metadata": {},
   "source": [
    "### 1.5. Balancing the groups further <a class=\"anchor\" id=\"15\"></a>"
   ]
  },
  {
   "cell_type": "markdown",
   "metadata": {},
   "source": [
    "We want to analyse the disparity in each match. For this reson we ceate the following df:"
   ]
  },
  {
   "cell_type": "code",
   "execution_count": 1189,
   "metadata": {},
   "outputs": [
    {
     "data": {
      "text/plain": [
       "(array([ 78.,   9.,   5.,   3.,   2.,   3.,   1.,   3.,   1.,   0.,   0.,\n",
       "          0.,   1.,   1.,   0.,   1.,   0.,   0.,   2.,   0.,   1.,   5.,\n",
       "          4.,   4.,   2.,   1.,   3.,   4.,   0.,   3.,   0.,   1.,   3.,\n",
       "          1.,   3.,   1.,   3.,   2.,   1.,   3.,   2.,   1.,   1.,   7.,\n",
       "          6.,   1.,   5.,   3.,   2.,   2.]),\n",
       " array([ 0.        ,  0.01153695,  0.0230739 ,  0.03461085,  0.04614779,\n",
       "         0.05768474,  0.06922169,  0.08075864,  0.09229559,  0.10383254,\n",
       "         0.11536949,  0.12690644,  0.13844338,  0.14998033,  0.16151728,\n",
       "         0.17305423,  0.18459118,  0.19612813,  0.20766508,  0.21920202,\n",
       "         0.23073897,  0.24227592,  0.25381287,  0.26534982,  0.27688677,\n",
       "         0.28842372,  0.29996067,  0.31149761,  0.32303456,  0.33457151,\n",
       "         0.34610846,  0.35764541,  0.36918236,  0.38071931,  0.39225625,\n",
       "         0.4037932 ,  0.41533015,  0.4268671 ,  0.43840405,  0.449941  ,\n",
       "         0.46147795,  0.4730149 ,  0.48455184,  0.49608879,  0.50762574,\n",
       "         0.51916269,  0.53069964,  0.54223659,  0.55377354,  0.56531048,\n",
       "         0.57684743]),\n",
       " <a list of 50 Patch objects>)"
      ]
     },
     "execution_count": 1189,
     "metadata": {},
     "output_type": "execute_result"
    },
    {
     "data": {
      "image/png": "[encoded data removed]",
      "text/plain": [
       "<matplotlib.figure.Figure at 0x11ad77780>"
      ]
     },
     "metadata": {},
     "output_type": "display_data"
    }
   ],
   "source": [
    "#include probabilitytreat in matched df\n",
    "treated = df[(df.treat ==1)]\n",
    "\n",
    "#concatenate df's\n",
    "treated['control_match'] = treated['id'].replace(matches_dict)\n",
    "subjects = pd.merge(treated, matched_control, how='inner',left_on='control_match', right_on = 'id',\n",
    "                          suffixes=('_tr', '_ctr'))\n",
    "\n",
    "#calculate matching error\n",
    "match_error = np.abs(subjects['probability_treat_tr'] - subjects['probability_treat_ctr'])\n",
    "plt.hist(match_error, bins=50)"
   ]
  },
  {
   "cell_type": "markdown",
   "metadata": {},
   "source": [
    "We see that eventhough the error is little for the majority of matches, there are still some outliers."
   ]
  },
  {
   "cell_type": "markdown",
   "metadata": {},
   "source": [
    "### 1.6. A less naive analysis <a class=\"anchor\" id=\"16\"></a>"
   ]
  },
  {
   "cell_type": "markdown",
   "metadata": {},
   "source": [
    "TO THINK ABOUT: WHICH FACTORS CAN INFLUENCE ONE GROUP INSTEAD OF THE OTHER? IS THERE ANY BIAS HERE?\n",
    "    CAN WE CONSIDER THAT PEOPLE WHO TOOK THE JOB TRAINING PROGRAM ARE FROM THE BEGINNING MORE LIKELY TO EARN MORE\n",
    "    SINCE THEY SHOW TO BE MOTIVATED IN SO? - CHECK CAREFULLY WHICH TYPE OF PEOPLE PARTICIPATED IN THE PROGRAM"
   ]
  },
  {
   "cell_type": "markdown",
   "metadata": {},
   "source": [
    "## Task 2. Swiss Unemployment Rates Analysis - *amstat* dataset <a class=\"anchor\" id=\"2\"></a>\n",
    "\n",
    "### Assignment Instructions\n",
    "\n",
    "We are going to build a classifier of news to directly assign them to 20 news categories. Note that the pipeline that you will build in this exercise could be of great help during your project if you plan to work with text!\n",
    "\n",
    "Load the 20newsgroup dataset. It is, again, a classic dataset that can directly be loaded using sklearn (link).\n",
    "TF-IDF, short for term frequency–inverse document frequency, is of great help when if comes to compute textual features. Indeed, it gives more importance to terms that are more specific to the considered articles (TF) but reduces the importance of terms that are very frequent in the entire corpus (IDF). Compute TF-IDF features for every article using TfidfVectorizer. Then, split your dataset into a training, a testing and a validation set (10% for validation and 10% for testing). Each observation should be paired with its corresponding label (the article category).\n",
    "\n",
    "Train a random forest on your training set. Try to fine-tune the parameters of your predictor on your validation set using a simple grid search on the number of estimator \"n_estimators\" and the max depth of the trees \"max_depth\". Then, display a confusion matrix of your classification pipeline. Lastly, once you assessed your model, inspect the feature_importances_ attribute of your random forest and discuss the obtained results.\n",
    "\n",
    "### 2.1. Pick a DataSet to analyse <a class=\"anchor\" id=\"21\"></a>"
   ]
  },
  {
   "cell_type": "markdown",
   "metadata": {},
   "source": [
    "### 2.2. Choropleth map of Cantonal Unemployment Rates  <a class=\"anchor\" id=\"22\"></a>"
   ]
  }
 ],
 "metadata": {
  "anaconda-cloud": {},
  "kernelspec": {
   "display_name": "Python [conda root]",
   "language": "python",
   "name": "conda-root-py"
  },
  "language_info": {
   "codemirror_mode": {
    "name": "ipython",
    "version": 3
   },
   "file_extension": ".py",
   "mimetype": "text/x-python",
   "name": "python",
   "nbconvert_exporter": "python",
   "pygments_lexer": "ipython3",
   "version": "3.6.1"
  }
 },
 "nbformat": 4,
 "nbformat_minor": 2
}
