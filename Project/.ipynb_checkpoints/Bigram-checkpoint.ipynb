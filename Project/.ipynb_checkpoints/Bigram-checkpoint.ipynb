{
 "cells": [
  {
   "cell_type": "markdown",
   "metadata": {},
   "source": [
    "# Selecting filtering Keywords"
   ]
  },
  {
   "cell_type": "markdown",
   "metadata": {},
   "source": [
    "Let's analyse the [Wikipedia page](https://en.wikipedia.org/wiki/Tunisian_Revolution) for the thematic we are interested in:"
   ]
  },
  {
   "cell_type": "code",
   "execution_count": 177,
   "metadata": {},
   "outputs": [],
   "source": [
    "import wikipedia\n",
    "from collections import Counter\n",
    "from nltk.tokenize import *\n",
    "from nltk.corpus import stopwords\n",
    "from nltk.collocations import *\n",
    "import string\n",
    "import numpy as np\n",
    "import operator"
   ]
  },
  {
   "cell_type": "code",
   "execution_count": 178,
   "metadata": {},
   "outputs": [],
   "source": [
    "def get_KeyWords(wiki_page, num_keywords, language, stop_words_language):\n",
    "    #download wikipedia page\n",
    "    wikipedia.set_lang(language)\n",
    "    wiki = wikipedia.page(wiki_page)\n",
    "\n",
    "    #initialize token's counter\n",
    "    tknzr = TweetTokenizer()\n",
    "    wiki_tokens = tknzr.tokenize(wiki.content)\n",
    "    count = Counter(wiki_tokens)  \n",
    "    \n",
    "    #remove stop words\n",
    "    count_filtered = {k.lower():v for k,v in count.items() if k.lower() not in stopwords.words(stop_words_language) \n",
    "                      and k not in string.punctuation}\n",
    "    sorted_count = sorted(count_filtered.items(), key=operator.itemgetter(1), reverse=True)\n",
    "    \n",
    "    return [i[0] for i in sorted_count][:num_keywords]"
   ]
  },
  {
   "cell_type": "code",
   "execution_count": 179,
   "metadata": {},
   "outputs": [
    {
     "data": {
      "text/plain": [
       "['ben',\n",
       " 'tunisia',\n",
       " 'tunisian',\n",
       " 'ali',\n",
       " 'government',\n",
       " 'january',\n",
       " 'said',\n",
       " 'would',\n",
       " 'arab',\n",
       " 'february']"
      ]
     },
     "execution_count": 179,
     "metadata": {},
     "output_type": "execute_result"
    }
   ],
   "source": [
    "get_KeyWords('Tunisian Revolution', 10, \"en\", \"english\")"
   ]
  },
  {
   "cell_type": "code",
   "execution_count": 161,
   "metadata": {},
   "outputs": [
    {
     "data": {
      "text/plain": [
       "['2011',\n",
       " 'manifestações',\n",
       " 'tunísia',\n",
       " 'ben',\n",
       " 'ali',\n",
       " 'janeiro',\n",
       " 'anos',\n",
       " 'é',\n",
       " 'governo',\n",
       " 'país']"
      ]
     },
     "execution_count": 161,
     "metadata": {},
     "output_type": "execute_result"
    }
   ],
   "source": [
    "get_KeyWords('Revolução de Jasmim', 10, \"pt\", \"portuguese\")"
   ]
  },
  {
   "cell_type": "code",
   "execution_count": 169,
   "metadata": {},
   "outputs": [],
   "source": [
    "wiki = wikipedia.page(\"Tunisian Revolution\")"
   ]
  },
  {
   "cell_type": "code",
   "execution_count": 196,
   "metadata": {},
   "outputs": [
    {
     "data": {
      "text/plain": [
       "[('12', 'January'),\n",
       " ('14', 'January'),\n",
       " ('28', 'December'),\n",
       " ('Abidine', 'Ben'),\n",
       " ('Al', 'Jazeera'),\n",
       " ('Ali', 'fled'),\n",
       " ('Ali', 'rule'),\n",
       " ('Arab', 'world'),\n",
       " ('Ben', 'Ali'),\n",
       " ('December', '2010'),\n",
       " ('El', 'Abidine'),\n",
       " ('Ennahda', 'Movement'),\n",
       " ('February', '2011'),\n",
       " ('Foreign', 'Minister'),\n",
       " ('Fouad', 'Mebazaa'),\n",
       " ('Interior', 'Ministry'),\n",
       " ('January', '2011'),\n",
       " ('Jasmine', 'Revolution'),\n",
       " ('Mohamed', 'Bouazizi'),\n",
       " ('Mohamed', 'Ghannouchi'),\n",
       " ('President', 'Zine'),\n",
       " ('Prime', 'Minister'),\n",
       " ('RCD', 'party'),\n",
       " ('Saudi', 'Arabia'),\n",
       " ('Sidi', 'Bouzid'),\n",
       " ('Tunisian', 'National'),\n",
       " ('Tunisian', 'authorities'),\n",
       " ('United', 'States'),\n",
       " ('Zine', 'El'),\n",
       " ('across', 'Arab'),\n",
       " ('also', 'called'),\n",
       " ('also', 'said'),\n",
       " ('civil', 'war'),\n",
       " ('days', 'later'),\n",
       " ('government', 'announces'),\n",
       " ('interim', 'government'),\n",
       " ('later', 'released'),\n",
       " ('new', 'government'),\n",
       " ('prime', 'minister'),\n",
       " ('ruling', 'RCD'),\n",
       " ('security', 'forces'),\n",
       " ('security', 'services'),\n",
       " ('state', 'emergency'),\n",
       " ('tear', 'gas')]"
      ]
     },
     "execution_count": 196,
     "metadata": {},
     "output_type": "execute_result"
    }
   ],
   "source": [
    "bigram_measures = nltk.collocations.BigramAssocMeasures()\n",
    "\n",
    "tokenizer = RegexpTokenizer(r'\\w+')\n",
    "tokens = tokenizer.tokenize(wiki.content)\n",
    "tokens_filtered = [token for token in tokens if token.lower() not in set(stopwords.words(\"english\"))]\n",
    "\n",
    "finder = BigramCollocationFinder.from_words(tokens_filtered)\n",
    "finder.apply_freq_filter(3)\n",
    "\n",
    "scored = finder.score_ngrams(bigram_measures.raw_freq)\n",
    "sorted(bigram for bigram, score in scored)  # doctest: +NORMALIZE_WHITESPACE"
   ]
  },
  {
   "cell_type": "markdown",
   "metadata": {},
   "source": [
    "Languages: en, fr, ar\n",
    "Keywords:\n",
    "- Tunisia: tunis+\n",
    "- Egypt: egypt"
   ]
  }
 ],
 "metadata": {
  "anaconda-cloud": {},
  "kernelspec": {
   "display_name": "Python [Root]",
   "language": "python",
   "name": "Python [Root]"
  },
  "language_info": {
   "codemirror_mode": {
    "name": "ipython",
    "version": 3
   },
   "file_extension": ".py",
   "mimetype": "text/x-python",
   "name": "python",
   "nbconvert_exporter": "python",
   "pygments_lexer": "ipython3",
   "version": "3.5.2"
  }
 },
 "nbformat": 4,
 "nbformat_minor": 2
}
