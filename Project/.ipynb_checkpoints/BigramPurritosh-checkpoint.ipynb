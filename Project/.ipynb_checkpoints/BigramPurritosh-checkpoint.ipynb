{
 "cells": [
  {
   "cell_type": "markdown",
   "metadata": {},
   "source": [
    "# Selecting filtering Keywords"
   ]
  },
  {
   "cell_type": "markdown",
   "metadata": {},
   "source": [
    "Let's analyse the [Wikipedia page](https://en.wikipedia.org/wiki/Tunisian_Revolution) for the thematic we are interested in:"
   ]
  },
  {
   "cell_type": "code",
   "execution_count": 5,
   "metadata": {},
   "outputs": [],
   "source": [
    "import wikipedia\n",
    "from collections import Counter\n",
    "from nltk.tokenize import *\n",
    "from nltk.corpus import stopwords\n",
    "from nltk.collocations import BigramAssocMeasures, BigramCollocationFinder\n",
    "import string\n",
    "import numpy as np\n",
    "import operator"
   ]
  },
  {
   "cell_type": "code",
   "execution_count": 16,
   "metadata": {},
   "outputs": [],
   "source": [
    "def get_KeyWords(wiki_page, num_keywords, language, stop_words_language):\n",
    "    #download wikipedia page\n",
    "    wikipedia.set_lang(language)\n",
    "    wiki = wikipedia.page(wiki_page)\n",
    "\n",
    "    #initialize token's counter\n",
    "    tknzr = TweetTokenizer()\n",
    "    wiki_tokens = tknzr.tokenize(wiki.content)\n",
    "    count = Counter(wiki_tokens)  \n",
    "    \n",
    "    #remove stop words\n",
    "    count_filtered = {k.lower():v for k,v in count.items() if k.lower() not in set(stopwords.words(stop_words_language)) \n",
    "                      and k not in string.punctuation}\n",
    "    sorted_count = sorted(count_filtered.items(), key=operator.itemgetter(1), reverse=True)\n",
    "    \n",
    "    return [i[0] for i in sorted_count][:num_keywords]"
   ]
  },
  {
   "cell_type": "code",
   "execution_count": 17,
   "metadata": {},
   "outputs": [
    {
     "data": {
      "text/plain": [
       "['ben',\n",
       " 'tunisia',\n",
       " 'tunisian',\n",
       " 'ali',\n",
       " 'government',\n",
       " 'january',\n",
       " 'said',\n",
       " 'would',\n",
       " 'arab',\n",
       " 'february']"
      ]
     },
     "execution_count": 17,
     "metadata": {},
     "output_type": "execute_result"
    }
   ],
   "source": [
    "get_KeyWords('Tunisian Revolution', 10, \"en\", \"english\")"
   ]
  },
  {
   "cell_type": "code",
   "execution_count": 18,
   "metadata": {},
   "outputs": [
    {
     "data": {
      "text/plain": [
       "['2011',\n",
       " 'manifestações',\n",
       " 'tunísia',\n",
       " 'ben',\n",
       " 'ali',\n",
       " 'janeiro',\n",
       " 'anos',\n",
       " 'é',\n",
       " 'governo',\n",
       " 'país']"
      ]
     },
     "execution_count": 18,
     "metadata": {},
     "output_type": "execute_result"
    }
   ],
   "source": [
    "get_KeyWords('Revolução de Jasmim', 10, \"pt\", \"portuguese\")"
   ]
  },
  {
   "cell_type": "code",
   "execution_count": 8,
   "metadata": {},
   "outputs": [],
   "source": [
    "def bigrams(wiki_page, num_keywords, language, stop_words_language, treshold):\n",
    "    #download wikipedia page\n",
    "    wikipedia.set_lang(language)\n",
    "    wiki = wikipedia.page(wiki_page)\n",
    "    \n",
    "    bigram_measures = BigramAssocMeasures\n",
    "    tokenizer = RegexpTokenizer(r'\\w+')\n",
    "    tokens = tokenizer.tokenize(wiki.content)\n",
    "    tokens_filtered = [token for token in tokens if token.lower() not in set(stopwords.words(stop_words_language))]\n",
    "    \n",
    "    finder = BigramCollocationFinder.from_words(tokens_filtered)\n",
    "    finder.apply_freq_filter(treshold)\n",
    "    \n",
    "    scored = finder.score_ngrams(bigram_measures.raw_freq)\n",
    "    \n",
    "    return scored#sorted(bigram for bigram, score in scored)  # doctest: +NORMALIZE_WHITESPACE"
   ]
  },
  {
   "cell_type": "code",
   "execution_count": 9,
   "metadata": {},
   "outputs": [
    {
     "data": {
      "text/plain": [
       "[(('Ben', 'Ali'), 0.011839708561020037),\n",
       " (('Arab', 'world'), 0.0025045537340619307),\n",
       " (('Sidi', 'Bouzid'), 0.0025045537340619307),\n",
       " (('Abidine', 'Ben'), 0.0015938069216757742),\n",
       " (('security', 'forces'), 0.0015938069216757742),\n",
       " (('January', '2011'), 0.001366120218579235),\n",
       " (('Prime', 'Minister'), 0.001366120218579235),\n",
       " (('interim', 'government'), 0.001366120218579235),\n",
       " (('14', 'January'), 0.001138433515482696),\n",
       " (('Al', 'Jazeera'), 0.001138433515482696),\n",
       " (('December', '2010'), 0.001138433515482696),\n",
       " (('El', 'Abidine'), 0.001138433515482696),\n",
       " (('Fouad', 'Mebazaa'), 0.001138433515482696),\n",
       " (('Mohamed', 'Bouazizi'), 0.001138433515482696),\n",
       " (('President', 'Zine'), 0.001138433515482696),\n",
       " (('Saudi', 'Arabia'), 0.001138433515482696),\n",
       " (('Zine', 'El'), 0.001138433515482696),\n",
       " (('civil', 'war'), 0.001138433515482696),\n",
       " (('new', 'government'), 0.001138433515482696),\n",
       " (('Jasmine', 'Revolution'), 0.0009107468123861566),\n",
       " (('United', 'States'), 0.0009107468123861566),\n",
       " (('days', 'later'), 0.0009107468123861566),\n",
       " (('state', 'emergency'), 0.0009107468123861566),\n",
       " (('tear', 'gas'), 0.0009107468123861566)]"
      ]
     },
     "execution_count": 9,
     "metadata": {},
     "output_type": "execute_result"
    }
   ],
   "source": [
    "bigrams(\"Tunisian Revolution\", 30, \"en\", \"english\", treshold = 4)"
   ]
  },
  {
   "cell_type": "markdown",
   "metadata": {},
   "source": [
    "Languages: en, fr, ar\n",
    "Keywords:\n",
    "- Tunisia: tunis+\n",
    "- Egypt: egypt"
   ]
  }
 ],
 "metadata": {
  "anaconda-cloud": {},
  "kernelspec": {
   "display_name": "Python [Root]",
   "language": "python",
   "name": "Python [Root]"
  },
  "language_info": {
   "codemirror_mode": {
    "name": "ipython",
    "version": 3
   },
   "file_extension": ".py",
   "mimetype": "text/x-python",
   "name": "python",
   "nbconvert_exporter": "python",
   "pygments_lexer": "ipython3",
   "version": "3.5.2"
  }
 },
 "nbformat": 4,
 "nbformat_minor": 2
}
