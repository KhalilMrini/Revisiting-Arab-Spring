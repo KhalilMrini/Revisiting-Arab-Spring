{
 "cells": [
  {
   "cell_type": "markdown",
   "metadata": {},
   "source": [
    "# Imports"
   ]
  },
  {
   "cell_type": "code",
   "execution_count": 1,
   "metadata": {
    "collapsed": true
   },
   "outputs": [],
   "source": [
    "import wikipedia\n",
    "from collections import Counter\n",
    "from nltk.tokenize import TweetTokenizer\n",
    "from nltk.corpus import stopwords\n",
    "import string\n",
    "import numpy as np\n",
    "import operator"
   ]
  },
  {
   "cell_type": "markdown",
   "metadata": {},
   "source": [
    "### Scrap wiki page and get keywords"
   ]
  },
  {
   "cell_type": "code",
   "execution_count": 2,
   "metadata": {
    "collapsed": true
   },
   "outputs": [],
   "source": [
    "def get_KeyWords(wiki_page, num_keywords, language, s_lang):\n",
    "    #download wikipedia page\n",
    "    wikipedia.set_lang(language)\n",
    "    wiki = wikipedia.page(wiki_page)\n",
    "\n",
    "    #initialize token's counter\n",
    "    tknzr = TweetTokenizer()\n",
    "    wiki_tokens = tknzr.tokenize(wiki.content)\n",
    "    count = Counter(wiki_tokens)  \n",
    "    \n",
    "    #remove stop words\n",
    "    count_filtered = {k.lower():v for k,v in count.items() if k.lower() not in stopwords.words(s_lang) \n",
    "                      and k not in string.punctuation}\n",
    "    sorted_count = sorted(count_filtered.items(), key=operator.itemgetter(1), reverse=True)\n",
    "    \n",
    "    return [i[0] for i in sorted_count][:num_keywords]"
   ]
  },
  {
   "cell_type": "code",
   "execution_count": 5,
   "metadata": {
    "scrolled": true
   },
   "outputs": [
    {
     "data": {
      "text/plain": [
       "['ben',\n",
       " 'tunisia',\n",
       " 'tunisian',\n",
       " 'ali',\n",
       " 'government',\n",
       " 'january',\n",
       " 'said',\n",
       " 'would',\n",
       " 'arab',\n",
       " 'february',\n",
       " 'security',\n",
       " 'tunis',\n",
       " 'new',\n",
       " '2011',\n",
       " \"ali's\",\n",
       " 'minister',\n",
       " 'december',\n",
       " 'president',\n",
       " 'bouazizi',\n",
       " 'world',\n",
       " 'rcd',\n",
       " 'ghannouchi',\n",
       " 'later',\n",
       " 'country',\n",
       " 'revolution',\n",
       " 'mohamed',\n",
       " 'called',\n",
       " 'sidi',\n",
       " 'bouzid',\n",
       " 'party',\n",
       " 'mebazaa',\n",
       " 'interim',\n",
       " 'forces',\n",
       " 'power',\n",
       " 'national',\n",
       " \"tunisia's\",\n",
       " 'foreign',\n",
       " 'one',\n",
       " 'members',\n",
       " 'demonstrations',\n",
       " '2010',\n",
       " 'arrested',\n",
       " 'across',\n",
       " 'announced',\n",
       " 'emergency',\n",
       " 'saying',\n",
       " 'including',\n",
       " 'zine',\n",
       " 'elections',\n",
       " '28']"
      ]
     },
     "execution_count": 5,
     "metadata": {},
     "output_type": "execute_result"
    }
   ],
   "source": [
    "get_KeyWords('Tunisian Revolution', 50, \"en\")"
   ]
  },
  {
   "cell_type": "code",
   "execution_count": 6,
   "metadata": {},
   "outputs": [
    {
     "data": {
      "text/plain": [
       "['la',\n",
       " 'et',\n",
       " 'du',\n",
       " 'les',\n",
       " '«',\n",
       " '»',\n",
       " 'ben',\n",
       " 'le',\n",
       " '’',\n",
       " 'ali',\n",
       " 'janvier',\n",
       " 'est',\n",
       " 'qui',\n",
       " 'que',\n",
       " 'se',\n",
       " 'tunisie',\n",
       " 'sont',\n",
       " '—',\n",
       " 'avec',\n",
       " '2011',\n",
       " 'annonce',\n",
       " 'ont',\n",
       " 'manifestants',\n",
       " 'régime',\n",
       " 'morts',\n",
       " 'ou',\n",
       " 'police',\n",
       " 'tunisienne',\n",
       " 'mohamed',\n",
       " 'pays',\n",
       " 'tunis',\n",
       " 'dont',\n",
       " 'blessés',\n",
       " 'été',\n",
       " 'contre',\n",
       " 'ainsi',\n",
       " 'tunisien',\n",
       " 'fait',\n",
       " 'pas',\n",
       " 'rcd',\n",
       " 'sidi',\n",
       " 'bouzid',\n",
       " \"d'un\",\n",
       " 'ghannouchi',\n",
       " 'comme',\n",
       " 'décembre',\n",
       " 'départ',\n",
       " 'à',\n",
       " '17',\n",
       " '14']"
      ]
     },
     "execution_count": 6,
     "metadata": {},
     "output_type": "execute_result"
    }
   ],
   "source": [
    "get_KeyWords('Révolution tunisienne', 50, 'fr')"
   ]
  },
  {
   "cell_type": "markdown",
   "metadata": {},
   "source": [
    "Languages: en, fr, ar\n",
    "Keywords:\n",
    "- Tunisia: tunis+\n",
    "- Egypt: egypt"
   ]
  },
  {
   "cell_type": "markdown",
   "metadata": {},
   "source": [
    "# Helper Functions"
   ]
  },
  {
   "cell_type": "markdown",
   "metadata": {},
   "source": [
    "# Main"
   ]
  },
  {
   "cell_type": "markdown",
   "metadata": {},
   "source": [
    "# Reading a Single `.protostream` File"
   ]
  },
  {
   "cell_type": "markdown",
   "metadata": {},
   "source": [
    "# Selecting filtering Keywords"
   ]
  },
  {
   "cell_type": "markdown",
   "metadata": {},
   "source": [
    "Let's analyse the [Wikipedia page](https://en.wikipedia.org/wiki/Tunisian_Revolution) for the thematic we are interested in:"
   ]
  }
 ],
 "metadata": {
  "anaconda-cloud": {},
  "kernelspec": {
   "display_name": "Python [default]",
   "language": "python",
   "name": "python3"
  },
  "language_info": {
   "codemirror_mode": {
    "name": "ipython",
    "version": 3
   },
   "file_extension": ".py",
   "mimetype": "text/x-python",
   "name": "python",
   "nbconvert_exporter": "python",
   "pygments_lexer": "ipython3",
   "version": "3.6.3"
  }
 },
 "nbformat": 4,
 "nbformat_minor": 2
}
