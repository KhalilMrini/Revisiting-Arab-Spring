{
 "cells": [
  {
   "cell_type": "markdown",
   "metadata": {},
   "source": [
    "# 1. Selecting Keyphrases to Filter Text Data\n",
    "\n",
    "**Problem**\n",
    "\n",
    "Having seen the data, we noticed that large parts of it were not related to the Arab Spring revolutions of 2011. Spinn3r, the company providing the data, is actually promoting their scraping API by doing so.\n",
    "\n",
    "Therefore, we must find keyphrases to filter this data based on the Tunisian and Egyptian revolutions.\n",
    "\n",
    "**Solution Proposed**\n",
    "\n",
    "Using **Wikipedia** articles for the Tunisian and Egyptian revolutions, we ***automatically*** extract the keyphrase that will be used for filtering. Given that the data is provided in various languages, we choose to focus on three relevant languages: **English**, **French**, and **Arabic**.\n",
    "\n",
    "**Added Value**\n",
    "\n",
    "In comparison with the only paper participating in the 2011 ICWSM Spinn3r Challenge, <a href='http://www.icwsm.org/2011/documents/IDC2011.pdf'>*Revolution 2.0 in Tunisia and Egypt: Reactions and Sentiments in the Online World*</a>:\n",
    "1. We use **keyphrases** instead of **keywords**, by using n-grams;\n",
    "2. We do not choose keyphrases manually, but extract them from Wikipedia automatically;\n",
    "3. We provide insight by evaluating data not only in English, but in two additional languages: French, Tunisia's colonial-era and second most popular language, and Arabic, the native language of both the peoples of Tunisia and Egypt.\n",
    "\n",
    "**In the following:** we first establish helper functions before compiling it in one function to get the keyphrases for each language, and each country.\n",
    "\n",
    "## 1.1. Tokenization and Filtering based on Parts of Speech\n",
    "\n",
    "The following are the languages that we focus on throughout the project:"
   ]
  },
  {
   "cell_type": "code",
   "execution_count": 1,
   "metadata": {
    "collapsed": true
   },
   "outputs": [],
   "source": [
    "EN = 'english'\n",
    "FR = 'french'\n",
    "AR = 'arabic'\n",
    "LANGS = [EN, FR, AR]"
   ]
  },
  {
   "cell_type": "markdown",
   "metadata": {},
   "source": [
    "We use a *Regular Expression Tokenizer* with the *NLTK* (Natural Language Toolkit) package for the textual data.\n",
    "\n",
    "We want our keyphrases to contain **interesting words**, and therefore we eliminate stop words using the corresponding corpus from NLTK, and we eliminate verbs and adverbs using the **state-of-the-art Stanford POS Tagger**. We have to check the distinct *tag sets* of each language's POS tagger for filtering."
   ]
  },
  {
   "cell_type": "code",
   "execution_count": 2,
   "metadata": {
    "collapsed": true
   },
   "outputs": [],
   "source": [
    "# NLTK Imports\n",
    "from nltk.tokenize import RegexpTokenizer\n",
    "from nltk.corpus import stopwords\n",
    "from nltk.tag import StanfordPOSTagger\n",
    "\n",
    "# Setting up POS Tagger and Stop Word Lists\n",
    "TOKENIZER = RegexpTokenizer(r'\\w+')\n",
    "STOPWORDS = dict((language, set(stopwords.words(language))) for language in LANGS)\n",
    "\n",
    "# Setting up POS Taggers\n",
    "STANFORD_PREFIX = './Stanford POS Taggers/'\n",
    "JAR = 'stanford-postagger.jar'\n",
    "POS_TAGGERS = dict((language, \n",
    "                    StanfordPOSTagger(STANFORD_PREFIX + language + '.tagger', \n",
    "                                      STANFORD_PREFIX + JAR)) \n",
    "                   for language in LANGS)\n",
    "\n",
    "# Tags of Adverbs and Verbs in each language's POS Tagger\n",
    "REFUSED_POS_TAGS = {EN: ['V', 'R', 'MD', 'IN', 'CD'], \n",
    "                    FR: ['ADV', 'D', 'PREF', 'V'],\n",
    "                    AR: ['V']}\n",
    "\n",
    "def tag_is_allowed(tag, language):\n",
    "    \"\"\"\n",
    "    Determines if given tag is not a verb or adverb using REFUSED_POS_TAGS.\n",
    "    :param tag: string, tag of a word as determined by POS Tagger\n",
    "    :param language: string\n",
    "    :return: Boolean, True if tag should be kept\n",
    "    \"\"\"\n",
    "    for other_tag in REFUSED_POS_TAGS[language]:\n",
    "        if tag.startswith(other_tag):\n",
    "            return False\n",
    "    return True\n",
    "\n",
    "def tokenize_without_stopwords(text, language):\n",
    "    \"\"\"\n",
    "    Removes stop words and digit-only tokens.\n",
    "    :param text: string\n",
    "    :param language: string\n",
    "    :return: list of strings\n",
    "    \"\"\"\n",
    "    tokens = [token for token in TOKENIZER.tokenize(text.lower()) \n",
    "              if token not in STOPWORDS[language] \n",
    "              and not token.isdigit()]\n",
    "    return tokens\n",
    "\n",
    "def preprocess_for_keyphrases(text, language):\n",
    "    \"\"\"\n",
    "    Tokenizes, removes stopwords and digit-only tokens, removes verbs and adverbs.\n",
    "    :param text: string\n",
    "    :param language: string, language of text\n",
    "    :return: list of strings, tokens of text\n",
    "    \"\"\"\n",
    "    # Removing stop words, digit-only tokens\n",
    "    tokens = tokenize_without_stopwords(text, language)\n",
    "    # POS-Tagging\n",
    "    tokens_with_tags = POS_TAGGERS[language].tag(tokens)\n",
    "    # Handling the case of the Arabic POS Tagger, as it concatenates token and POS tag\n",
    "    if language == AR:\n",
    "        tokens_with_tags = [tag[1].split('/') for tag in tokens_with_tags]\n",
    "    # POS-Tag filtering\n",
    "    tokens = [token for token, tag in tokens_with_tags \n",
    "              if tag_is_allowed(tag, language)]\n",
    "    return tokens"
   ]
  },
  {
   "cell_type": "markdown",
   "metadata": {},
   "source": [
    "## 1.2. Forming N-Grams\n",
    "\n",
    "Having formed tokens, we want now to give sense to keyphrases by forming n-grams. We use NLTK for that as well. We use the regular expression package to have the newly-formed n-grams as one token."
   ]
  },
  {
   "cell_type": "code",
   "execution_count": 3,
   "metadata": {
    "collapsed": true
   },
   "outputs": [],
   "source": [
    "# NLTK and regexp Imports\n",
    "from nltk.collocations import BigramAssocMeasures, BigramCollocationFinder\n",
    "import re\n",
    "\n",
    "def form_n_grams(tokens, threshold):\n",
    "    \"\"\"\n",
    "    Forms tokens that are n-grams with a minimum frequency threshold.\n",
    "    :param tokens: list of strings\n",
    "    :param threshold: int\n",
    "    :return: list of strings, n-gram'd tokens\n",
    "    \"\"\"\n",
    "    # Bigram Finder\n",
    "    finder = BigramCollocationFinder.from_words(tokens)\n",
    "    finder.apply_freq_filter(threshold)\n",
    "    # Bigrams\n",
    "    scored_bigrams = finder.score_ngrams(BigramAssocMeasures.raw_freq)\n",
    "    # Joining Bigrams in the text\n",
    "    text = ' '.join(tokens)\n",
    "    for (word1, word2), score in scored_bigrams:\n",
    "        text = re.sub(r'\\b{}\\b \\b{}\\b'.format(word1, word2), '{}_{}'.format(word1, word2), text)\n",
    "    tokens = text.split(' ')\n",
    "    return tokens"
   ]
  },
  {
   "cell_type": "markdown",
   "metadata": {},
   "source": [
    "We form n-grams over different rounds, each round incrementing the *n* parameter.\n",
    "\n",
    "Given that Arabic is more agglutinative than English and French, it gets less rounds. The following are the rounds that we define to form n-grams:"
   ]
  },
  {
   "cell_type": "code",
   "execution_count": 4,
   "metadata": {
    "collapsed": true
   },
   "outputs": [],
   "source": [
    "NGRAM_RANGE = {EN: range(3), \n",
    "               FR: range(3), \n",
    "               AR: range(1,3)}"
   ]
  },
  {
   "cell_type": "markdown",
   "metadata": {},
   "source": [
    "The following function forms the n-grams over rounds. To keep interesting tokens, we remove tokens that have less than 4 characters. We remove these tokens only after forming n-grams because we noticed that short unigrams can form interesting n-grams."
   ]
  },
  {
   "cell_type": "code",
   "execution_count": 5,
   "metadata": {
    "collapsed": true
   },
   "outputs": [],
   "source": [
    "MIN_CHAR_COUNT = 4\n",
    "\n",
    "def n_gram_rounds(tokens, language, threshold):\n",
    "    \"\"\"\n",
    "    Forms n-grams over rounds given unigram tokens.\n",
    "    :param tokens: list of strings\n",
    "    :param language: string\n",
    "    :param threshold: int\n",
    "    :return: list of strings, n-gram tokens\n",
    "    \"\"\"\n",
    "    for ngram_round in NGRAM_RANGE[language]:\n",
    "        tokens = form_n_grams(tokens, threshold + ngram_round)\n",
    "    tokens = [token for token in tokens if len(token) >= MIN_CHAR_COUNT]\n",
    "    return tokens"
   ]
  },
  {
   "cell_type": "markdown",
   "metadata": {},
   "source": [
    "## 1.3. Downloading Wikipedia Articles\n",
    "\n",
    "Throughout the project, we focus on the two following countries:"
   ]
  },
  {
   "cell_type": "code",
   "execution_count": 2,
   "metadata": {
    "collapsed": true
   },
   "outputs": [],
   "source": [
    "EG = 'Egypt'\n",
    "TN = 'Tunisia'"
   ]
  },
  {
   "cell_type": "markdown",
   "metadata": {},
   "source": [
    "We use the following articles to extract keyphrases."
   ]
  },
  {
   "cell_type": "code",
   "execution_count": 7,
   "metadata": {
    "collapsed": true
   },
   "outputs": [],
   "source": [
    "WIKI_ARTICLES = {TN: {EN: 'Tunisian Revolution', \n",
    "                      FR: 'Révolution tunisienne', \n",
    "                      AR: 'الثورة التونسية'},\n",
    "                 EG: {EN: 'Egyptian Revolution', \n",
    "                      FR: 'Révolution égyptienne de 2011', \n",
    "                      AR: 'ثورة 25 يناير'}}"
   ]
  },
  {
   "cell_type": "markdown",
   "metadata": {},
   "source": [
    "We use the *Wikipedia* Python package to extract article content."
   ]
  },
  {
   "cell_type": "code",
   "execution_count": 8,
   "metadata": {
    "collapsed": true
   },
   "outputs": [],
   "source": [
    "# Wikipedia import\n",
    "import wikipedia\n",
    "\n",
    "def download_wikipedia_article(wiki_article, language):\n",
    "    \"\"\"\n",
    "    Downloads the text content of a given Wikipedia article in a given language.\n",
    "    :param wiki_article: string, title of article\n",
    "    :param language: string\n",
    "    :return: string\n",
    "    \"\"\"\n",
    "    wikipedia.set_lang(language[:2])\n",
    "    wiki = wikipedia.page(wiki_article)\n",
    "    return wiki.content"
   ]
  },
  {
   "cell_type": "markdown",
   "metadata": {},
   "source": [
    "## 1.4. Extracting Most Popular Tokens\n",
    "\n",
    "Once we have formed phrases and have them as a list of strings, we use `Counter` to get the most popular phrases."
   ]
  },
  {
   "cell_type": "code",
   "execution_count": 9,
   "metadata": {
    "collapsed": true
   },
   "outputs": [],
   "source": [
    "from collections import Counter\n",
    "\n",
    "def get_most_popular_tokens(tokens, num_keyphrases):\n",
    "    \"\"\"\n",
    "    Gets most popular num_keywords elements of tokens.\n",
    "    :param tokens: list of strings\n",
    "    :param num_keyphrases: int\n",
    "    :return: list of strings\n",
    "    \"\"\"\n",
    "    counter = Counter(tokens)\n",
    "    keyphrases = [word.replace('_', ' ') for word, score in counter.most_common(num_keyphrases)]\n",
    "    return keyphrases"
   ]
  },
  {
   "cell_type": "markdown",
   "metadata": {},
   "source": [
    "## 1.5. Extracting Keyphrases from Wikipedia Articles\n",
    "\n",
    "We concatenate all of the above in the following function:"
   ]
  },
  {
   "cell_type": "code",
   "execution_count": 10,
   "metadata": {
    "collapsed": true
   },
   "outputs": [],
   "source": [
    "def get_wikipedia_keyphrases(wiki_article, language, num_keyphrases=50, threshold=1):\n",
    "    \"\"\"\n",
    "    Gets Keyphrases from Wikipedia Article.\n",
    "    :param wiki_article: string, name of Wikipedia Article\n",
    "    :param language: string\n",
    "    :param num_keyphrases: int, number of keyphrases to extract\n",
    "    :param threshold: int, n-gram formation threshold\n",
    "    :return: list of strings, keyphrases\n",
    "    \"\"\"\n",
    "    wiki_content = download_wikipedia_article(wiki_article, language)\n",
    "    unigram_tokens = preprocess_for_keyphrases(wiki_content, language)\n",
    "    ngram_tokens = n_gram_rounds(unigram_tokens, language, threshold)\n",
    "    keyphrases = get_most_popular_tokens(ngram_tokens, num_keyphrases)\n",
    "    return keyphrases"
   ]
  },
  {
   "cell_type": "markdown",
   "metadata": {},
   "source": [
    "We extract 50 keyphrases, per country, and per language:"
   ]
  },
  {
   "cell_type": "code",
   "execution_count": 11,
   "metadata": {
    "collapsed": true
   },
   "outputs": [],
   "source": [
    "keyphrase_dict = dict((country, \n",
    "                       dict((language, get_wikipedia_keyphrases(WIKI_ARTICLES[country][language], language)) \n",
    "                            for language in WIKI_ARTICLES[country])) \n",
    "                      for country in WIKI_ARTICLES)"
   ]
  },
  {
   "cell_type": "markdown",
   "metadata": {},
   "source": [
    "We save these keywords in the `Keyphrases` folder:"
   ]
  },
  {
   "cell_type": "code",
   "execution_count": 12,
   "metadata": {
    "collapsed": true
   },
   "outputs": [],
   "source": [
    "for country in keyphrase_dict:\n",
    "    for language in keyphrase_dict[country]:\n",
    "        keyphrase_file = open('./Keyphrases/{}_{}.txt'.format(country, language), 'w')\n",
    "        print('\\n'.join(keyphrase_dict[country][language]), file=keyphrase_file)\n",
    "        keyphrase_file.close()"
   ]
  },
  {
   "cell_type": "markdown",
   "metadata": {},
   "source": [
    "## 1.6. Examples of Keyphrases"
   ]
  },
  {
   "cell_type": "markdown",
   "metadata": {},
   "source": [
    "In the following, we provide an example of keyphrases for English in **Tunisia**. The most popular is `ben ali`, the last name of Tunisia's ousted president. The phrase `sidi bouzid` designates the city where protests started in January 2011."
   ]
  },
  {
   "cell_type": "code",
   "execution_count": 12,
   "metadata": {},
   "outputs": [
    {
     "data": {
      "text/plain": [
       "['ben ali',\n",
       " 'tunisia',\n",
       " 'arab world',\n",
       " 'protests',\n",
       " 'sidi bouzid',\n",
       " 'prime minister',\n",
       " 'security forces',\n",
       " 'tunisian',\n",
       " 'january',\n",
       " 'foreign minister']"
      ]
     },
     "execution_count": 12,
     "metadata": {},
     "output_type": "execute_result"
    }
   ],
   "source": [
    "keyphrase_dict[TN][EN][:10]"
   ]
  },
  {
   "cell_type": "markdown",
   "metadata": {},
   "source": [
    "Hereafter is an sample of keyphrases for English in **Egypt**. The most popular one is `tahrir square`, a public square in the Egyptian capital, Cairo, where the protesters camped throughout the protests. The `muslim brotherhood` is the opposition party that later came into power. Here, the Egyptian ousted president's full name, `hosni mubarak`, comes up as one of the keyphrases."
   ]
  },
  {
   "cell_type": "code",
   "execution_count": 13,
   "metadata": {
    "scrolled": false
   },
   "outputs": [
    {
     "data": {
      "text/plain": [
       "['tahrir square',\n",
       " 'muslim brotherhood',\n",
       " 'revolution',\n",
       " 'egyptian revolution',\n",
       " 'hosni mubarak',\n",
       " 'protesters',\n",
       " 'social media',\n",
       " 'prime minister',\n",
       " 'human rights',\n",
       " 'protests']"
      ]
     },
     "execution_count": 13,
     "metadata": {},
     "output_type": "execute_result"
    }
   ],
   "source": [
    "keyphrase_dict[EG][EN][:10]"
   ]
  },
  {
   "cell_type": "markdown",
   "metadata": {},
   "source": [
    "## 1.7. Comparing Texts to Keyphrases"
   ]
  },
  {
   "cell_type": "markdown",
   "metadata": {},
   "source": [
    "Given these keyphrases, we want to estimate how many of those appear in a given text:"
   ]
  },
  {
   "cell_type": "code",
   "execution_count": 14,
   "metadata": {
    "collapsed": true
   },
   "outputs": [],
   "source": [
    "def keyphrase_score(country, language, text):\n",
    "    \"\"\"\n",
    "    Computes how many keyphrases for the country and language are in the text.\n",
    "    :param country: string\n",
    "    :param language: string\n",
    "    :param text: string\n",
    "    :return: int\n",
    "    \"\"\"\n",
    "    score = 0\n",
    "    for keyphrase in keyphrase_dict[country][language]:\n",
    "        if keyphrase in text:\n",
    "            score += 1\n",
    "    return score"
   ]
  },
  {
   "cell_type": "markdown",
   "metadata": {},
   "source": [
    "We use this function to compute the keyphrase scores per country and for a given language and a given text:"
   ]
  },
  {
   "cell_type": "code",
   "execution_count": 15,
   "metadata": {
    "collapsed": true
   },
   "outputs": [],
   "source": [
    "def compute_keyphrase_scores(text, language):\n",
    "    \"\"\"\n",
    "    Computes keyphrase scores for all countries given text and language.\n",
    "    Returns False if all scores are inferior to 4.\n",
    "    :param text: string\n",
    "    :param language: string\n",
    "    :return: dict or boolean\n",
    "    \"\"\"\n",
    "    new_text = text.lower()\n",
    "    data = {}\n",
    "    score_sum = 0\n",
    "    for country in keyphrase_dict:\n",
    "        score = keyphrase_score(country, language, new_text)\n",
    "        data[country] = score\n",
    "        score_sum += score\n",
    "    if score_sum <= 4:\n",
    "        return False\n",
    "    else:\n",
    "        return data"
   ]
  },
  {
   "cell_type": "markdown",
   "metadata": {},
   "source": [
    "# 2. Sampling and Filtering the 2.1 TB of Compressed Data\n",
    "\n",
    "**Steps to Reach Text Data**\n",
    "\n",
    "The files are compressed in `.tar.gz` format. The steps to reach text data are more complex than we thought:\n",
    "1. We downloaded a sample, and the decompressed files are in `.protostream` format. This format **lacks documentation**. A `.protostream` file is a stream of Google's `protobuf` format.\n",
    "2. The `.protostream` format requires `.proto` files to extract them. We found these files on the internet, not on Spinn3r's website. This format was originally made for Java, and has difficult compatibility with Python.\n",
    "3. We installed the C++ `protoc` library to make `.py` files out of `.proto` files. These `.py` files contain Python classes that we can use to read the data. The `.proto` and `.py` files can be found on our GitHub repo.\n",
    "4. We found the code to read the text data on a *Stackoverflow* answer rated `-1`, rather than on Spinn3r's website or the `protobuf` documentation.\n",
    "\n",
    "**Sample Evaluated**\n",
    "\n",
    "We downloaded compressed samples of about **40 GB** for the days of **January 14, 2011** and **February 11, 2011**, respectively the days of the resignation of the presidents of Tunisia and Egypt.\n",
    "\n",
    "**In the following:** we first read the data and filter it based on the keywords found in the first section.\n",
    "\n",
    "## 2.1. Reading a Single `.protostream` File\n",
    "\n",
    "We first import the `.py` files that we got out of the `.proto` files. The `spinn3rApi_pb2.py` file contains the classes needed to parse the bytes of a given internet entry. The `protoStream_pb2.py` file contains the classes needed to separate entries inside a `.protostream` file, most notably the `ProtoStreamDelimiter` class."
   ]
  },
  {
   "cell_type": "code",
   "execution_count": 16,
   "metadata": {
    "collapsed": true
   },
   "outputs": [],
   "source": [
    "import proto.spinn3rApi_pb2 as proto_api\n",
    "import proto.protoStream_pb2 as proto_stream\n",
    "\n",
    "DELIMITER = proto_stream.ProtoStreamDelimiter()"
   ]
  },
  {
   "cell_type": "markdown",
   "metadata": {},
   "source": [
    "We will need the following decoder to separate entries in a `.protostream` file."
   ]
  },
  {
   "cell_type": "code",
   "execution_count": 17,
   "metadata": {
    "collapsed": true
   },
   "outputs": [],
   "source": [
    "from google.protobuf.internal.decoder import _DecodeVarint32\n",
    "\n",
    "# length, pos = decoder(file, pos) => pos is starting point, length is the length of the record in file\n",
    "DECODER = _DecodeVarint32"
   ]
  },
  {
   "cell_type": "markdown",
   "metadata": {},
   "source": [
    "In the files we find, we find the languages as two-letter language codes. We will need a mapping to full-length name:"
   ]
  },
  {
   "cell_type": "code",
   "execution_count": 18,
   "metadata": {
    "collapsed": true
   },
   "outputs": [],
   "source": [
    "CODE_TO_LANG = dict((language[:2], language) for language in LANGS)"
   ]
  },
  {
   "cell_type": "markdown",
   "metadata": {},
   "source": [
    "We use the following functions to read a single `.protostream` file onto a list of `dict` instances. We use `BeautifulSoup` for some `html` data, that is itself `zlib`-encoded."
   ]
  },
  {
   "cell_type": "code",
   "execution_count": 19,
   "metadata": {
    "collapsed": true
   },
   "outputs": [],
   "source": [
    "import zlib\n",
    "from bs4 import BeautifulSoup\n",
    "import warnings\n",
    "warnings.filterwarnings('ignore')\n",
    "\n",
    "def try_to_get_content(entry):\n",
    "    \"\"\"\n",
    "    Attempts to get content from an entry.\n",
    "    :param entry: contentApi.Entry\n",
    "    :return: string\n",
    "    \"\"\"\n",
    "    try:\n",
    "        return BeautifulSoup(zlib.decompress(entry.feed_entry.content.data), \"html.parser\").text\n",
    "    except:\n",
    "        return \"\"\n",
    "\n",
    "def read_protostream_file(file):\n",
    "    \"\"\"\n",
    "    Reads a single .protostream file.\n",
    "    :param file: bytes\n",
    "    :return: list of dictionaries\n",
    "    \"\"\"\n",
    "    data_rows = []\n",
    "    \n",
    "    length, pos = DECODER(file, 0)\n",
    "    pos += length\n",
    "\n",
    "    while pos < len(file):\n",
    "        length, pos = DECODER(file, pos)\n",
    "        DELIMITER.ParseFromString(file[pos:pos + length])\n",
    "        if DELIMITER.delimiter_type == DELIMITER.END:\n",
    "            break\n",
    "            \n",
    "        # This means we found an Entry\n",
    "        elif DELIMITER.delimiter_type == DELIMITER.ENTRY:\n",
    "            pos += length\n",
    "            length, pos = DECODER(file, pos)\n",
    "            \n",
    "            # The Entry Class enables to read the contents of the record\n",
    "            entry = proto_api.Entry()\n",
    "            entry.ParseFromString(file[pos:pos + length])\n",
    "            \n",
    "            lang_code = entry.feed_entry.lang[0].code\n",
    "            \n",
    "            # Proceeding if the language is English, French or Arabic\n",
    "            if lang_code in CODE_TO_LANG:\n",
    "                post_title = entry.feed_entry.title\n",
    "                post_content = try_to_get_content(entry)\n",
    "                data = compute_keyphrase_scores(post_title + ' ' + post_content, \n",
    "                                                CODE_TO_LANG[lang_code])\n",
    "                if data:\n",
    "                    # Language Code\n",
    "                    data['Lang_Code'] = lang_code\n",
    "                    \n",
    "                    # Post Title\n",
    "                    data['Post_Title'] = post_title\n",
    "                    \n",
    "                    # Post Content\n",
    "                    if post_content:\n",
    "                        data['Post_Content'] = post_content\n",
    "                    \n",
    "                    # Language Probability\n",
    "                    try:\n",
    "                        data['Lang_Prob'] = entry.feed_entry.lang[0].probability\n",
    "                    except:\n",
    "                        pass\n",
    "\n",
    "                    # Link\n",
    "                    try:\n",
    "                        data['Post_Link'] = entry.feed_entry.link[0].href\n",
    "                    except:\n",
    "                        pass\n",
    "\n",
    "                    # Author Name\n",
    "                    try:\n",
    "                        data['Author_Name'] = entry.feed_entry.author[0].name\n",
    "                    except:\n",
    "                        pass\n",
    "\n",
    "                    # Author Link\n",
    "                    try:\n",
    "                        data['Author_Link'] = entry.feed_entry.author[0].link[0].href\n",
    "                    except:\n",
    "                        pass\n",
    "\n",
    "                    # Date & Time\n",
    "                    try:\n",
    "                        data['Datetime'] = entry.feed_entry.last_published\n",
    "                    except:\n",
    "                        pass\n",
    "\n",
    "                    # Identifier\n",
    "                    try:\n",
    "                        data['Identifier'] = entry.feed_entry.identifier\n",
    "                    except:\n",
    "                        pass\n",
    "\n",
    "                    # Spam Probability\n",
    "                    try:\n",
    "                        data['Spam'] = entry.feed_entry.spam_probability\n",
    "                    except:\n",
    "                        pass\n",
    "\n",
    "                    # Publisher Type\n",
    "                    try:\n",
    "                        data['Type'] = entry.source.publisher_type\n",
    "                    except:\n",
    "                        pass\n",
    "\n",
    "                    # Category\n",
    "                    try:\n",
    "                        data['Category'] = entry.feed_entry.category\n",
    "                    except:\n",
    "                        pass\n",
    "\n",
    "                    data_rows.append(data)\n",
    "        pos += length\n",
    "    return data_rows"
   ]
  },
  {
   "cell_type": "markdown",
   "metadata": {},
   "source": [
    "## 2.2. Reading the Compressed `.tar.gz` Files to Pandas `DataFrame`\n",
    "\n",
    "We downloaded the files in an external harddrive. We set up the following variables:"
   ]
  },
  {
   "cell_type": "code",
   "execution_count": 4,
   "metadata": {
    "collapsed": true
   },
   "outputs": [],
   "source": [
    "TAR_PREFIX = '/Volumes/Khalil Mrini/'\n",
    "JSON_PREFIX = './Text Data/'\n",
    "FILES = '01-14-OTHER 01-14-SOCIAL_MEDIA 02-11-OTHER 02-11-SOCIAL_MEDIA'.split(' ')\n",
    "TAR = '.tar.gz'\n",
    "JSON = '.json'"
   ]
  },
  {
   "cell_type": "markdown",
   "metadata": {},
   "source": [
    "To read a `.tar.gz` file without decompressing it, we use the following package:"
   ]
  },
  {
   "cell_type": "code",
   "execution_count": 21,
   "metadata": {
    "collapsed": true
   },
   "outputs": [],
   "source": [
    "import tarfile"
   ]
  },
  {
   "cell_type": "markdown",
   "metadata": {},
   "source": [
    "We save the files to Pandas `DataFrame`."
   ]
  },
  {
   "cell_type": "code",
   "execution_count": 1,
   "metadata": {
    "collapsed": true
   },
   "outputs": [],
   "source": [
    "import pandas as pd"
   ]
  },
  {
   "cell_type": "markdown",
   "metadata": {},
   "source": [
    "In the following we read the `.tar.gz` files and save them to `.json` files as Pandas `DataFrame`:"
   ]
  },
  {
   "cell_type": "code",
   "execution_count": null,
   "metadata": {
    "collapsed": true
   },
   "outputs": [],
   "source": [
    "for file_name in FILES:\n",
    "    data_rows = []\n",
    "    \n",
    "    # Reading the .tar.gz file\n",
    "    tar = tarfile.open(TAR_PREFIX + file_name + TAR, \"r:gz\")\n",
    "    \n",
    "    # Members are the components (files, folders...) found inside the compressed file\n",
    "    members = tar.getmembers()\n",
    "    member_count = len(members)\n",
    "    \n",
    "    # Reading each individual file\n",
    "    for member_index in range(member_count):\n",
    "        file_data = tar.extractfile(members[member_index])\n",
    "        if file_data is not None:\n",
    "            content = file_data.read()\n",
    "            data_rows.extend(read_protostream_file(content))\n",
    "    \n",
    "    # Compiling as Pandas DataFrame, then saving to json files\n",
    "    df = pd.DataFrame(data_rows)\n",
    "    df.to_json('{}{}.json'.format(JSON_PREFIX, file_name))"
   ]
  },
  {
   "cell_type": "markdown",
   "metadata": {},
   "source": [
    "## 2.3. Smth...\n",
    "\n",
    "Smth..."
   ]
  },
  {
   "cell_type": "code",
   "execution_count": 6,
   "metadata": {
    "collapsed": true
   },
   "outputs": [],
   "source": [
    "# Temporary Cell\n",
    "EG = 'Egypt'\n",
    "TN = 'Tunisia'\n",
    "TAR_PREFIX = '/Volumes/Khalil Mrini/'\n",
    "JSON_PREFIX = './Text Data/'\n",
    "FILES = '01-14-OTHER 01-14-SOCIAL_MEDIA 02-11-OTHER 02-11-SOCIAL_MEDIA'.split(' ')\n",
    "TAR = '.tar.gz'\n",
    "JSON = '.json'\n",
    "import pandas as pd"
   ]
  },
  {
   "cell_type": "markdown",
   "metadata": {},
   "source": [
    "We define the following function to load the files from each date into the corresponding dataframe:"
   ]
  },
  {
   "cell_type": "code",
   "execution_count": 7,
   "metadata": {
    "collapsed": true
   },
   "outputs": [],
   "source": [
    "import numpy as np\n",
    "def load_df():\n",
    "    \"\"\"\n",
    "    Loads the files into dataframes per date\n",
    "    :return: Dataframe\n",
    "    \"\"\"\n",
    "    df = pd.DataFrame()\n",
    "    \n",
    "    for file in FILES:\n",
    "        file_df = pd.read_json(JSON_PREFIX + file + '.json')\n",
    "        file_df['Month'] = file_df.Datetime.apply(lambda row: get_month(row, int(file[:2])))\n",
    "        df = df.append(file_df, ignore_index=True)\n",
    "           \n",
    "    return df\n",
    "\n",
    "def get_month(row, default_month):\n",
    "    \"\"\"\n",
    "    Returns the corresponding month or default_month if Nan\n",
    "    :param row:  \n",
    "    \"\"\"\n",
    "    if not np.isnan(row.month):\n",
    "        return row.month\n",
    "    else:\n",
    "        return default_month\n",
    "        "
   ]
  },
  {
   "cell_type": "code",
   "execution_count": 8,
   "metadata": {},
   "outputs": [],
   "source": [
    "df = load_df()"
   ]
  },
  {
   "cell_type": "code",
   "execution_count": 9,
   "metadata": {},
   "outputs": [
    {
     "data": {
      "text/html": [
       "<div>\n",
       "<style>\n",
       "    .dataframe thead tr:only-child th {\n",
       "        text-align: right;\n",
       "    }\n",
       "\n",
       "    .dataframe thead th {\n",
       "        text-align: left;\n",
       "    }\n",
       "\n",
       "    .dataframe tbody tr th {\n",
       "        vertical-align: top;\n",
       "    }\n",
       "</style>\n",
       "<table border=\"1\" class=\"dataframe\">\n",
       "  <thead>\n",
       "    <tr style=\"text-align: right;\">\n",
       "      <th></th>\n",
       "      <th>Author_Link</th>\n",
       "      <th>Author_Name</th>\n",
       "      <th>Category</th>\n",
       "      <th>Datetime</th>\n",
       "      <th>Egypt</th>\n",
       "      <th>Identifier</th>\n",
       "      <th>Lang_Code</th>\n",
       "      <th>Lang_Prob</th>\n",
       "      <th>Post_Content</th>\n",
       "      <th>Post_Link</th>\n",
       "      <th>Post_Title</th>\n",
       "      <th>Spam</th>\n",
       "      <th>Tunisia</th>\n",
       "      <th>Type</th>\n",
       "      <th>Month</th>\n",
       "    </tr>\n",
       "  </thead>\n",
       "  <tbody>\n",
       "    <tr>\n",
       "      <th>22669</th>\n",
       "      <td></td>\n",
       "      <td>Lara Friedman</td>\n",
       "      <td>{}</td>\n",
       "      <td>2011-02-11 20:47:03</td>\n",
       "      <td>26</td>\n",
       "      <td>1297460101090980356</td>\n",
       "      <td>en</td>\n",
       "      <td>-1</td>\n",
       "      <td>\\n======================= APN Legislative Roun...</td>\n",
       "      <td>http://peacenow.org/entries/legislative_round-...</td>\n",
       "      <td>Legislative Round-Up: Week Ending 2/11/11</td>\n",
       "      <td>0</td>\n",
       "      <td>15</td>\n",
       "      <td>MAINSTREAM_NEWS</td>\n",
       "      <td>2</td>\n",
       "    </tr>\n",
       "    <tr>\n",
       "      <th>34615</th>\n",
       "      <td></td>\n",
       "      <td>الشاعلر</td>\n",
       "      <td>{}</td>\n",
       "      <td>2011-02-11 19:54:35</td>\n",
       "      <td>25</td>\n",
       "      <td>1297459865090980374</td>\n",
       "      <td>ar</td>\n",
       "      <td>-1</td>\n",
       "      <td>\\nجلة التايم الأمريكية تضع الرئيس صالح في المر...</td>\n",
       "      <td>http://forum.sh3bwah.maktoob.com/showthread.ph...</td>\n",
       "      <td>ثورتي تونس ومصر بثت الخوف في قلب صالح فسارع إل...</td>\n",
       "      <td>0</td>\n",
       "      <td>33</td>\n",
       "      <td>FORUM</td>\n",
       "      <td>2</td>\n",
       "    </tr>\n",
       "    <tr>\n",
       "      <th>35871</th>\n",
       "      <td></td>\n",
       "      <td>الشاعلر</td>\n",
       "      <td>{}</td>\n",
       "      <td>2011-02-11 19:54:35</td>\n",
       "      <td>25</td>\n",
       "      <td>1297456634081625128</td>\n",
       "      <td>ar</td>\n",
       "      <td>-1</td>\n",
       "      <td>\\nجلة التايم الأمريكية تضع الرئيس صالح في المر...</td>\n",
       "      <td>http://forum.sh3bwah.maktoob.com/showthread.ph...</td>\n",
       "      <td>ثورتي تونس ومصر بثت الخوف في قلب صالح فسارع إل...</td>\n",
       "      <td>0</td>\n",
       "      <td>33</td>\n",
       "      <td>FORUM</td>\n",
       "      <td>2</td>\n",
       "    </tr>\n",
       "    <tr>\n",
       "      <th>43560</th>\n",
       "      <td></td>\n",
       "      <td></td>\n",
       "      <td>{}</td>\n",
       "      <td>2011-02-11 21:01:00</td>\n",
       "      <td>25</td>\n",
       "      <td>1297461312090849299</td>\n",
       "      <td>en</td>\n",
       "      <td>-1</td>\n",
       "      <td>Key events during Egypt's uprising:- Jan. 25 -...</td>\n",
       "      <td>http://www.star-telegram.com/2011/02/11/284216...</td>\n",
       "      <td>A look at how Egypt's uprising unfolded</td>\n",
       "      <td>0</td>\n",
       "      <td>18</td>\n",
       "      <td>MAINSTREAM_NEWS</td>\n",
       "      <td>2</td>\n",
       "    </tr>\n",
       "    <tr>\n",
       "      <th>41135</th>\n",
       "      <td></td>\n",
       "      <td>ahaha</td>\n",
       "      <td>{}</td>\n",
       "      <td>2011-02-11 19:05:24</td>\n",
       "      <td>24</td>\n",
       "      <td>1297451451119193629</td>\n",
       "      <td>ar</td>\n",
       "      <td>-1</td>\n",
       "      <td>مساعد وزير الداخلية :ثروة العادلي 17 مليار و 2...</td>\n",
       "      <td>http://www.egyptsons.com/misr/showthread.php?t...</td>\n",
       "      <td>مساعد وزير الداخلية :ثروة العادلي 17 مليار و 2...</td>\n",
       "      <td>0</td>\n",
       "      <td>13</td>\n",
       "      <td>FORUM</td>\n",
       "      <td>2</td>\n",
       "    </tr>\n",
       "  </tbody>\n",
       "</table>\n",
       "</div>"
      ],
      "text/plain": [
       "      Author_Link    Author_Name Category            Datetime  Egypt  \\\n",
       "22669              Lara Friedman       {} 2011-02-11 20:47:03     26   \n",
       "34615                    الشاعلر       {} 2011-02-11 19:54:35     25   \n",
       "35871                    الشاعلر       {} 2011-02-11 19:54:35     25   \n",
       "43560                                  {} 2011-02-11 21:01:00     25   \n",
       "41135                      ahaha       {} 2011-02-11 19:05:24     24   \n",
       "\n",
       "                Identifier Lang_Code  Lang_Prob  \\\n",
       "22669  1297460101090980356        en         -1   \n",
       "34615  1297459865090980374        ar         -1   \n",
       "35871  1297456634081625128        ar         -1   \n",
       "43560  1297461312090849299        en         -1   \n",
       "41135  1297451451119193629        ar         -1   \n",
       "\n",
       "                                            Post_Content  \\\n",
       "22669  \\n======================= APN Legislative Roun...   \n",
       "34615  \\nجلة التايم الأمريكية تضع الرئيس صالح في المر...   \n",
       "35871  \\nجلة التايم الأمريكية تضع الرئيس صالح في المر...   \n",
       "43560  Key events during Egypt's uprising:- Jan. 25 -...   \n",
       "41135  مساعد وزير الداخلية :ثروة العادلي 17 مليار و 2...   \n",
       "\n",
       "                                               Post_Link  \\\n",
       "22669  http://peacenow.org/entries/legislative_round-...   \n",
       "34615  http://forum.sh3bwah.maktoob.com/showthread.ph...   \n",
       "35871  http://forum.sh3bwah.maktoob.com/showthread.ph...   \n",
       "43560  http://www.star-telegram.com/2011/02/11/284216...   \n",
       "41135  http://www.egyptsons.com/misr/showthread.php?t...   \n",
       "\n",
       "                                              Post_Title  Spam  Tunisia  \\\n",
       "22669          Legislative Round-Up: Week Ending 2/11/11     0       15   \n",
       "34615  ثورتي تونس ومصر بثت الخوف في قلب صالح فسارع إل...     0       33   \n",
       "35871  ثورتي تونس ومصر بثت الخوف في قلب صالح فسارع إل...     0       33   \n",
       "43560            A look at how Egypt's uprising unfolded     0       18   \n",
       "41135  مساعد وزير الداخلية :ثروة العادلي 17 مليار و 2...     0       13   \n",
       "\n",
       "                  Type  Month  \n",
       "22669  MAINSTREAM_NEWS      2  \n",
       "34615            FORUM      2  \n",
       "35871            FORUM      2  \n",
       "43560  MAINSTREAM_NEWS      2  \n",
       "41135            FORUM      2  "
      ]
     },
     "execution_count": 9,
     "metadata": {},
     "output_type": "execute_result"
    }
   ],
   "source": [
    "df.sort_values([EG, TN], ascending=False).head()"
   ]
  },
  {
   "cell_type": "markdown",
   "metadata": {},
   "source": [
    "## 2.4. Data Cleaning"
   ]
  },
  {
   "cell_type": "markdown",
   "metadata": {},
   "source": [
    "In this section, we aim to **clean** our df by **deleting unmeaningful information**. We start by checking the columns of the df:"
   ]
  },
  {
   "cell_type": "code",
   "execution_count": 10,
   "metadata": {},
   "outputs": [
    {
     "data": {
      "text/plain": [
       "Index(['Author_Link', 'Author_Name', 'Category', 'Datetime', 'Egypt',\n",
       "       'Identifier', 'Lang_Code', 'Lang_Prob', 'Post_Content', 'Post_Link',\n",
       "       'Post_Title', 'Spam', 'Tunisia', 'Type', 'Month'],\n",
       "      dtype='object')"
      ]
     },
     "execution_count": 10,
     "metadata": {},
     "output_type": "execute_result"
    }
   ],
   "source": [
    "df.columns"
   ]
  },
  {
   "cell_type": "markdown",
   "metadata": {},
   "source": [
    "By observing the columns above, we quickly infer that features such as: `Lang_Prob` and `Spam` add no meaning. In fact, both of them always display a constant value:"
   ]
  },
  {
   "cell_type": "code",
   "execution_count": 11,
   "metadata": {},
   "outputs": [
    {
     "name": "stdout",
     "output_type": "stream",
     "text": [
      "[-1]\n",
      "[0]\n"
     ]
    }
   ],
   "source": [
    "#Verify values for unmeaningful columns\n",
    "print(df.Lang_Prob.unique())\n",
    "print(df.Spam.unique())"
   ]
  },
  {
   "cell_type": "markdown",
   "metadata": {},
   "source": [
    "We confirm these features add no value to our df, and for this reason we define a function to drop unmeaningful columns:"
   ]
  },
  {
   "cell_type": "code",
   "execution_count": 12,
   "metadata": {
    "collapsed": true
   },
   "outputs": [],
   "source": [
    "def drop_unmeaningful_columns(df, features_to_drop):\n",
    "    \"\"\"\n",
    "    This function is responsible to delete unmeaningfull columns\n",
    "    :param df: DataFrame to clean\n",
    "    :param features_to_drop: array with features to be dropped\n",
    "    :return: df\n",
    "    \"\"\"\n",
    "    df = df.drop(features_to_drop, axis = 1)\n",
    "    return df"
   ]
  },
  {
   "cell_type": "markdown",
   "metadata": {},
   "source": [
    "**Moreover**, verify some **redundacy** in our df, since **the content of several entries is repeated**. Therefore, we define a function to deal with such repetitions:"
   ]
  },
  {
   "cell_type": "code",
   "execution_count": 13,
   "metadata": {
    "collapsed": true
   },
   "outputs": [],
   "source": [
    "def delete_repetitions(df, features_to_compare):\n",
    "    \"\"\"\n",
    "    This function is responsible for delete repetitions according to teh features to compare, in a inputed df\n",
    "    :param df: DataFrame to clean\n",
    "    :param features_to_compare: array with features where repetitions will be verified\n",
    "    :return: df\n",
    "    \"\"\"   \n",
    "    for feature in features_to_compare:\n",
    "        df = df.drop_duplicates(feature, keep='first', inplace=False)\n",
    "        \n",
    "    return df    "
   ]
  },
  {
   "cell_type": "markdown",
   "metadata": {},
   "source": [
    "We apply the data cleaning functions to both dataframes:"
   ]
  },
  {
   "cell_type": "code",
   "execution_count": 14,
   "metadata": {
    "collapsed": true
   },
   "outputs": [],
   "source": [
    "#clean unmeaningful features\n",
    "df = drop_unmeaningful_columns(df, ['Lang_Prob', 'Spam'])\n",
    "\n",
    "#delete repetitions\n",
    "df = delete_repetitions(df, ['Identifier', 'Post_Content'])"
   ]
  },
  {
   "cell_type": "markdown",
   "metadata": {},
   "source": [
    "We verify that the values now are in fact unique:"
   ]
  },
  {
   "cell_type": "code",
   "execution_count": 15,
   "metadata": {},
   "outputs": [
    {
     "name": "stdout",
     "output_type": "stream",
     "text": [
      "True False True\n"
     ]
    }
   ],
   "source": [
    "print(len(df.Identifier.unique()) == len(df),\n",
    "      len(df.Post_Title.unique()) == len(df),\n",
    "      len(df.Post_Content.unique()) == len(df))"
   ]
  },
  {
   "cell_type": "markdown",
   "metadata": {},
   "source": [
    "Finally, the df **is cleaned**. \n",
    "\n",
    "Since we want to focus our analysis on comparing the two different months, we create a column with `month` information."
   ]
  },
  {
   "cell_type": "code",
   "execution_count": 16,
   "metadata": {},
   "outputs": [
    {
     "data": {
      "text/html": [
       "<div>\n",
       "<style>\n",
       "    .dataframe thead tr:only-child th {\n",
       "        text-align: right;\n",
       "    }\n",
       "\n",
       "    .dataframe thead th {\n",
       "        text-align: left;\n",
       "    }\n",
       "\n",
       "    .dataframe tbody tr th {\n",
       "        vertical-align: top;\n",
       "    }\n",
       "</style>\n",
       "<table border=\"1\" class=\"dataframe\">\n",
       "  <thead>\n",
       "    <tr style=\"text-align: right;\">\n",
       "      <th></th>\n",
       "      <th>Author_Link</th>\n",
       "      <th>Author_Name</th>\n",
       "      <th>Category</th>\n",
       "      <th>Datetime</th>\n",
       "      <th>Egypt</th>\n",
       "      <th>Identifier</th>\n",
       "      <th>Lang_Code</th>\n",
       "      <th>Post_Content</th>\n",
       "      <th>Post_Link</th>\n",
       "      <th>Post_Title</th>\n",
       "      <th>Tunisia</th>\n",
       "      <th>Type</th>\n",
       "      <th>Month</th>\n",
       "    </tr>\n",
       "  </thead>\n",
       "  <tbody>\n",
       "  </tbody>\n",
       "</table>\n",
       "</div>"
      ],
      "text/plain": [
       "Empty DataFrame\n",
       "Columns: [Author_Link, Author_Name, Category, Datetime, Egypt, Identifier, Lang_Code, Post_Content, Post_Link, Post_Title, Tunisia, Type, Month]\n",
       "Index: []"
      ]
     },
     "execution_count": 16,
     "metadata": {},
     "output_type": "execute_result"
    }
   ],
   "source": [
    "df[df.Month.isnull()]"
   ]
  },
  {
   "cell_type": "markdown",
   "metadata": {},
   "source": [
    "by describing the features in the Data Frame. To do..\n",
    "\n",
    "- `Author_Link`\n",
    "- `Author_Name` \n",
    "- `Category` \n",
    "- `Datetime`\n",
    "- `Egypt`\n",
    "- `Identifier`\n",
    "- `Lang_Code`\n",
    "- `Lang_Prob`\n",
    "- `Post_Content`\n",
    "- `Post_Link`\n",
    "- `Post_Title`\n",
    "- `Spam`\n",
    "- `Tunisia`\n",
    "- `Type`"
   ]
  },
  {
   "cell_type": "markdown",
   "metadata": {},
   "source": [
    "## 2.5. Data Analysis"
   ]
  },
  {
   "cell_type": "markdown",
   "metadata": {},
   "source": [
    "Having cleaned our data, we follow on with the analysis of the collected information. \n",
    "\n",
    "We start by comparing content between these dates, since they represent two different interesting points on time. EXPLAIN...\n"
   ]
  },
  {
   "cell_type": "markdown",
   "metadata": {},
   "source": [
    "We start by a global analysis of the resulting Dataframe"
   ]
  },
  {
   "cell_type": "code",
   "execution_count": 17,
   "metadata": {
    "collapsed": true
   },
   "outputs": [],
   "source": [
    "import matplotlib.pyplot as plt \n",
    "def plot_pie_chart(column):\n",
    "    \"\"\"\n",
    "    plots porportions as a pie chart given:\n",
    "    :param column: the column of df to plot\n",
    "    \"\"\"\n",
    "    # define labels and corresponding proportion\n",
    "    labels = df[column].unique()\n",
    "    proportions = [len(df[df[column]== lab])/len(df) for lab in labels]\n",
    "    \n",
    "    # define a color map\n",
    "    cmap = plt.get_cmap('Spectral')\n",
    "    colors = cmap(np.linspace(0, 1, len(labels)))\n",
    "    \n",
    "    explode = [0 if per > .3 else .1 for per in proportions]  # explode 1st slice\n",
    "    \n",
    "    title = column if column != 'Lang_Code' else 'Language'\n",
    "    plt.title('Proportion of items by {}'.format(title))\n",
    "    plt.pie(proportions, explode=explode, labels=labels, colors=colors[:len(proportions)],\n",
    "        autopct='%1.1f%%', shadow=True, startangle=140)\n",
    "    plt.legend()\n",
    "    plt.axis('equal')\n",
    "    plt.show()\n",
    "\n",
    "def plot_histogram(column):\n",
    "    \"\"\"\n",
    "    plots a histogram of the given column:\n",
    "    :param column: the column of df to plot\n",
    "    \"\"\"\n",
    "    values = df[column].value_counts()\n",
    "    indexes = values.index\n",
    "    y_pos = np.arange(len(indexes))\n",
    "    title = column if column != 'Lang_Code' else 'Language'\n",
    "        \n",
    "    # Bar plot\n",
    "    plt.bar(y_pos, values, align='center', alpha=0.5)\n",
    "    plt.xticks(y_pos, indexes, rotation='vertical')\n",
    "    plt.xlabel(column)\n",
    "    plt.ylabel('Number of items')\n",
    "    plt.title('Number of by by {}'.format(title.lower()))\n",
    "    plt.grid(axis='y')\n",
    "    plt.show()"
   ]
  },
  {
   "cell_type": "code",
   "execution_count": 19,
   "metadata": {},
   "outputs": [
    {
     "data": {
      "image/png": "[encoded data removed]",
      "text/plain": [
       "<matplotlib.figure.Figure at 0x1694594bc50>"
      ]
     },
     "metadata": {},
     "output_type": "display_data"
    }
   ],
   "source": [
    "plot_pie_chart('Lang_Code')"
   ]
  },
  {
   "cell_type": "code",
   "execution_count": 23,
   "metadata": {},
   "outputs": [
    {
     "data": {
      "image/png": "[encoded data removed]",
      "text/plain": [
       "<matplotlib.figure.Figure at 0x16942761208>"
      ]
     },
     "metadata": {},
     "output_type": "display_data"
    }
   ],
   "source": [
    "plot_histogram('Month')"
   ]
  },
  {
   "cell_type": "code",
   "execution_count": 25,
   "metadata": {},
   "outputs": [
    {
     "data": {
      "image/png": "[encoded data removed]",
      "text/plain": [
       "<matplotlib.figure.Figure at 0x1695514fc18>"
      ]
     },
     "metadata": {},
     "output_type": "display_data"
    }
   ],
   "source": [
    "plot_histogram('Type')"
   ]
  },
  {
   "cell_type": "code",
   "execution_count": 31,
   "metadata": {},
   "outputs": [
    {
     "data": {
      "image/png": "[encoded data removed]",
      "text/plain": [
       "<matplotlib.figure.Figure at 0x16955131198>"
      ]
     },
     "metadata": {},
     "output_type": "display_data"
    }
   ],
   "source": [
    "plot_histogram('Tunisia')"
   ]
  },
  {
   "cell_type": "code",
   "execution_count": 32,
   "metadata": {},
   "outputs": [
    {
     "data": {
      "image/png": "[encoded data removed]",
      "text/plain": [
       "<matplotlib.figure.Figure at 0x16941d3f358>"
      ]
     },
     "metadata": {},
     "output_type": "display_data"
    }
   ],
   "source": [
    "plot_histogram('Egypt')"
   ]
  },
  {
   "cell_type": "code",
   "execution_count": 30,
   "metadata": {},
   "outputs": [
    {
     "data": {
      "text/plain": [
       "Index(['Author_Link', 'Author_Name', 'Category', 'Datetime', 'Egypt',\n",
       "       'Identifier', 'Lang_Code', 'Post_Content', 'Post_Link', 'Post_Title',\n",
       "       'Tunisia', 'Type', 'Month'],\n",
       "      dtype='object')"
      ]
     },
     "execution_count": 30,
     "metadata": {},
     "output_type": "execute_result"
    }
   ],
   "source": [
    "df.columns"
   ]
  }
 ],
 "metadata": {
  "anaconda-cloud": {},
  "kernelspec": {
   "display_name": "Python [conda root]",
   "language": "python",
   "name": "conda-root-py"
  },
  "language_info": {
   "codemirror_mode": {
    "name": "ipython",
    "version": 3
   },
   "file_extension": ".py",
   "mimetype": "text/x-python",
   "name": "python",
   "nbconvert_exporter": "python",
   "pygments_lexer": "ipython3",
   "version": "3.6.3"
  }
 },
 "nbformat": 4,
 "nbformat_minor": 2
}
